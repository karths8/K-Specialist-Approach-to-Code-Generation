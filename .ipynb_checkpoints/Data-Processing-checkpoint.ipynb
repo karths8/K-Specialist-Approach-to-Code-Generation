{
 "cells": [
  {
   "cell_type": "code",
   "execution_count": 163,
   "id": "ea6a70d5",
   "metadata": {},
   "outputs": [],
   "source": [
    "import pandas as pd\n",
    "df_karthik = pd.read_csv('Karthik-split.csv')\n",
    "df_hafeez = pd.read_csv('Hafeez-split.csv')\n",
    "df_calvin = pd.read_csv('Calvin-split.csv')"
   ]
  },
  {
   "cell_type": "code",
   "execution_count": 164,
   "id": "43ba735c",
   "metadata": {},
   "outputs": [],
   "source": [
    "import uuid\n",
    "def assign_uuid(df):\n",
    "    df['UUID'] = [str(uuid.uuid4()) for _ in range(len(df))]\n",
    "    return df"
   ]
  },
  {
   "cell_type": "code",
   "execution_count": 165,
   "id": "118fba6d",
   "metadata": {},
   "outputs": [],
   "source": [
    "df_karthik = assign_uuid(df_karthik)\n",
    "df_hafeez = assign_uuid(df_hafeez)\n",
    "df_calvin = assign_uuid(df_calvin)"
   ]
  },
  {
   "cell_type": "code",
   "execution_count": 166,
   "id": "1dea14d2",
   "metadata": {},
   "outputs": [],
   "source": [
    "def check_for_substring(df,column='Method 1', substring_to_check='class'):\n",
    "    indices=[]\n",
    "    for index, row in df.iterrows():\n",
    "        if not pd.isnull(row[column]):\n",
    "            if substring_to_check in row[column]:\n",
    "                print(f\"{row['UUID']} has '{substring_to_check}' in their '{column}' column\")\n",
    "                indices.append(index)\n",
    "    return indices\n",
    "    "
   ]
  },
  {
   "cell_type": "code",
   "execution_count": 167,
   "id": "bd8e6ec4",
   "metadata": {
    "scrolled": true
   },
   "outputs": [
    {
     "name": "stdout",
     "output_type": "stream",
     "text": [
      "5a442663-e9f2-48ba-acd5-746672a1f1e6 has 'assert' in their 'Assert Statement 1' column\n",
      "2253fa53-2afd-4978-8af4-a1a63c45c775 has 'assert' in their 'Assert Statement 1' column\n",
      "6e364d82-b211-4f53-98e5-f59fe922fa91 has 'assert' in their 'Assert Statement 1' column\n",
      "a37f6d12-a045-463e-bd9f-419b85881681 has 'assert' in their 'Assert Statement 1' column\n",
      "98056c2f-ee90-4854-b0b0-5fbece63bd79 has 'assert' in their 'Assert Statement 1' column\n",
      "82104b23-54b9-4010-b438-2883861a14de has 'assert' in their 'Assert Statement 1' column\n",
      "d06a2ccd-416e-4ef4-b1c9-2f7ea203b052 has 'assert' in their 'Assert Statement 1' column\n",
      "1f651ccc-66f4-4581-bea0-5f447903a316 has 'assert' in their 'Assert Statement 1' column\n",
      "02359dd2-6b8c-4eb9-967d-3990007dd086 has 'assert' in their 'Assert Statement 1' column\n",
      "6417243c-0fe0-41e7-bf3a-0a5ad341b837 has 'assert' in their 'Assert Statement 1' column\n",
      "1b5a7d56-f60b-4e8a-99d2-edb79a413ef0 has 'assert' in their 'Assert Statement 1' column\n",
      "563ae198-9e46-412a-89c4-a79a98bc1723 has 'assert' in their 'Assert Statement 1' column\n",
      "cd02424d-6f95-4587-b2d0-928a917eeb47 has 'assert' in their 'Assert Statement 1' column\n",
      "73c60772-714c-4ab8-8f35-75dfa9eb168d has 'assert' in their 'Assert Statement 1' column\n",
      "d251bdeb-7963-464c-9642-6344a02a87e6 has 'assert' in their 'Assert Statement 1' column\n",
      "5e23316d-69b2-49e1-aa1d-15fde219c9cc has 'assert' in their 'Assert Statement 1' column\n",
      "fe42b2ec-8ca5-439b-9f90-f7a6be51644b has 'assert' in their 'Assert Statement 1' column\n",
      "3b68d9c9-ec15-461b-b1f3-f06f3a0abf77 has 'assert' in their 'Assert Statement 1' column\n",
      "39bd2140-392d-4844-b343-a4203251b4a2 has 'assert' in their 'Assert Statement 1' column\n",
      "578c3036-a066-4bb2-acc2-92b52c94b9fd has 'assert' in their 'Assert Statement 1' column\n",
      "1998fce6-d73e-4bef-9ef1-34def9c7e7ae has 'assert' in their 'Assert Statement 1' column\n",
      "109eaa18-0f3d-4412-b431-a14c90903aab has 'assert' in their 'Assert Statement 1' column\n",
      "11c5a94b-440b-4832-9092-5cb676105f9e has 'assert' in their 'Assert Statement 1' column\n",
      "86bbc837-a53d-48b3-b1be-b3f238c94ade has 'assert' in their 'Assert Statement 1' column\n",
      "c99bd239-e169-4bdc-be35-1074e0ef5b85 has 'assert' in their 'Assert Statement 1' column\n",
      "f8ce946b-a2e5-40cd-8433-5d9a759a6293 has 'assert' in their 'Assert Statement 1' column\n",
      "8e8853b1-d23b-485e-b148-19078d06e098 has 'assert' in their 'Assert Statement 1' column\n",
      "fdd4d0fa-4830-4c7a-bca1-51fd2af39de0 has 'assert' in their 'Assert Statement 1' column\n",
      "0dc482d1-b8a6-429d-a0ab-2e1ad8cdf00e has 'assert' in their 'Assert Statement 1' column\n",
      "0b53d20a-5678-4371-bb3d-57c5c93fb0d6 has 'assert' in their 'Assert Statement 1' column\n",
      "4d8baa00-cd3c-4917-a5df-db025b4e49af has 'assert' in their 'Assert Statement 1' column\n",
      "17db4117-17d3-41c8-bd37-2da4942d3288 has 'assert' in their 'Asserts' column\n",
      "21033399-0f92-4c0e-8650-9708ae5e1675 has 'assert' in their 'Asserts' column\n",
      "c1321e54-2275-4801-b298-870dae81f58a has 'assert' in their 'Asserts' column\n",
      "50394ee8-8107-49c3-8887-29e0c70e19b4 has 'assert' in their 'Asserts' column\n",
      "166c568a-9513-4a71-8105-b0b8f6391528 has 'assert' in their 'Asserts' column\n",
      "2583a02d-1f00-47e4-911b-85b78ecf6d07 has 'assert' in their 'Asserts' column\n",
      "60b3cdd9-4743-4c08-9b53-a44e592c7406 has 'assert' in their 'Asserts' column\n",
      "4813b749-28ea-45e7-a5b7-aa679ea64759 has 'assert' in their 'Asserts' column\n",
      "74298ed8-86ae-4b1a-9090-a7e83d0e5849 has 'assert' in their 'Asserts' column\n",
      "c7a34392-7a7e-4b72-8017-6e39e8a32a19 has 'assert' in their 'Asserts' column\n",
      "e2bf515c-9ad1-4e9b-be32-b1a6a903f616 has 'assert' in their 'Asserts' column\n",
      "d79a7db7-0519-4c46-b8e1-e21781bd1564 has 'assert' in their 'Asserts' column\n",
      "aebbd16b-0d93-4acb-accf-64be21b9c3b5 has 'assert' in their 'Asserts' column\n",
      "6cb35ac4-9605-4a44-a90a-41fc6efb99d9 has 'assert' in their 'Asserts' column\n",
      "e4d1da60-e32e-4720-acca-cf3a14035ccd has 'assert' in their 'Asserts' column\n",
      "42307cc3-15f9-4f35-a744-325d3910e044 has 'assert' in their 'Asserts' column\n",
      "236eb0b5-282a-4077-a4e8-9366fca9acc7 has 'assert' in their 'Asserts' column\n",
      "2bc497a9-e56b-4d3f-b9ee-36e371b5bf8e has 'assert' in their 'Asserts' column\n",
      "eafdeaab-044d-4ea5-b305-ebd08792cf7a has 'assert' in their 'Asserts' column\n",
      "8fab2f52-ac2e-4da1-8030-176764a87b07 has 'assert' in their 'Asserts' column\n",
      "3a64be49-e142-404a-8eeb-4fd2b8484808 has 'assert' in their 'Asserts' column\n",
      "4ca927e2-03a4-485c-a234-c410bee0615d has 'assert' in their 'Assert Statement 1' column\n",
      "90f2cb7f-e06c-410b-b20e-e4bd0affe085 has 'assert' in their 'Assert Statement 1' column\n",
      "ca1d3a29-4c05-474b-a799-bee618658a6b has 'assert' in their 'Assert Statement 1' column\n",
      "d9fb37c9-327f-4cde-90c8-be5efc9d2e9d has 'assert' in their 'Assert Statement 1' column\n",
      "c2915824-13b8-4509-9de1-d872e2401594 has 'assert' in their 'Assert Statement 1' column\n",
      "43ddc763-9b45-46f3-a523-d9d643af5b93 has 'assert' in their 'Assert Statement 1' column\n",
      "aae2611e-9141-4310-9a0d-afd864d9dd1d has 'assert' in their 'Assert Statement 1' column\n",
      "729b0aea-b590-4183-97ad-e536a8629c69 has 'assert' in their 'Assert Statement 1' column\n",
      "c2c067c9-eca9-48e9-9d87-d511776e9895 has 'assert' in their 'Assert Statement 1' column\n",
      "036eaa1f-56a5-45c4-8578-370398b5860d has 'assert' in their 'Assert Statement 1' column\n",
      "a9cdf14e-2355-4878-a856-b71849a04a8c has 'assert' in their 'Assert Statement 1' column\n",
      "2990fab1-3933-43d1-b522-cc687bd2e681 has 'assert' in their 'Assert Statement 1' column\n",
      "f3746ef9-9028-4eed-b046-cfcda264e81b has 'assert' in their 'Assert Statement 1' column\n",
      "1a8b6e58-bef6-48c8-a336-baa3d96e27d7 has 'assert' in their 'Assert Statement 1' column\n",
      "369096fc-c122-4630-b489-51ed35e3b85b has 'assert' in their 'Assert Statement 1' column\n",
      "fec7411a-7d12-4506-908b-12aa7d550cc0 has 'assert' in their 'Assert Statement 1' column\n",
      "6b363873-60c2-4a65-b71d-5557e0f0176d has 'assert' in their 'Assert Statement 1' column\n",
      "8e2dd606-a366-48ac-be2a-ee4ef06a9086 has 'assert' in their 'Assert Statement 1' column\n",
      "dd0ecf5d-0caa-4b16-8b0a-bf3c7232a513 has 'assert' in their 'Assert Statement 1' column\n",
      "80fecdf4-e99b-4a3e-8772-5f2809e43ac8 has 'assert' in their 'Assert Statement 1' column\n",
      "6b276a12-6e17-404d-b696-45009901f2d3 has 'assert' in their 'Assert Statement 1' column\n",
      "226dae0e-239b-4e9a-99c1-b9d8e332aa16 has 'assert' in their 'Assert Statement 1' column\n",
      "[0, 1, 2, 3, 4, 5, 6, 7, 8, 9, 10, 11, 12, 13, 14, 15, 16, 17, 18, 19, 20, 21, 22, 23, 24, 25, 26, 27, 28, 29, 30]\n",
      "[10, 11, 12, 13, 15, 16, 17, 19, 20, 25, 26, 27, 29, 30, 31, 32, 35, 36, 37, 38, 39]\n",
      "[0, 1, 2, 3, 4, 5, 6, 7, 8, 9, 10, 14, 15, 18, 28, 29, 30, 31, 34, 35, 36, 37]\n",
      "74\n"
     ]
    }
   ],
   "source": [
    "karthik_asserts = check_for_substring(df_karthik, \"Assert Statement 1\", 'assert')\n",
    "hafeez_asserts = check_for_substring(df_hafeez, \"Asserts\", 'assert')\n",
    "calvin_asserts = check_for_substring(df_calvin, \"Assert Statement 1\", 'assert')\n",
    "print(karthik_asserts)\n",
    "print(hafeez_asserts)\n",
    "print(calvin_asserts)\n",
    "print(len(karthik_asserts)+len(hafeez_asserts)+len(calvin_asserts))"
   ]
  },
  {
   "cell_type": "code",
   "execution_count": 168,
   "id": "6d855ab7",
   "metadata": {},
   "outputs": [],
   "source": [
    "df_karthik = df_karthik.loc[karthik_asserts]\n",
    "df_hafeez = df_hafeez.loc[hafeez_asserts]\n",
    "df_calvin = df_calvin.loc[calvin_asserts]"
   ]
  },
  {
   "cell_type": "code",
   "execution_count": 169,
   "id": "4a48367f",
   "metadata": {},
   "outputs": [
    {
     "name": "stdout",
     "output_type": "stream",
     "text": [
      "98056c2f-ee90-4854-b0b0-5fbece63bd79 has 'class' in their 'Method 1' column\n",
      "a9cdf14e-2355-4878-a856-b71849a04a8c has 'class' in their 'Code' column\n",
      "[4]\n",
      "[]\n",
      "[10]\n",
      "2\n"
     ]
    }
   ],
   "source": [
    "karthik_classes = check_for_substring(df_karthik, \"Method 1\", 'class')\n",
    "hafeez_classes = check_for_substring(df_hafeez, \"Code\", 'class')\n",
    "calvin_classes = check_for_substring(df_calvin, \"Code\", 'class')\n",
    "print(karthik_classes)\n",
    "print(hafeez_classes)\n",
    "print(calvin_classes)\n",
    "print(len(karthik_classes)+len(hafeez_classes)+len(calvin_classes))"
   ]
  },
  {
   "cell_type": "code",
   "execution_count": 170,
   "id": "639c3dfd",
   "metadata": {},
   "outputs": [],
   "source": [
    "df_karthik = df_karthik.drop(karthik_classes)\n",
    "df_hafeez = df_hafeez.drop(hafeez_classes)\n",
    "df_calvin = df_calvin.drop(calvin_classes)"
   ]
  },
  {
   "cell_type": "code",
   "execution_count": 171,
   "id": "213eabe6",
   "metadata": {
    "scrolled": true
   },
   "outputs": [
    {
     "name": "stdout",
     "output_type": "stream",
     "text": [
      "4ca927e2-03a4-485c-a234-c410bee0615d has 'Input' in their 'Examples' column\n",
      "ca1d3a29-4c05-474b-a799-bee618658a6b has 'Input' in their 'Examples' column\n",
      "c2915824-13b8-4509-9de1-d872e2401594 has 'Input' in their 'Examples' column\n",
      "43ddc763-9b45-46f3-a523-d9d643af5b93 has 'Input' in their 'Examples' column\n",
      "c2c067c9-eca9-48e9-9d87-d511776e9895 has 'Input' in their 'Examples' column\n",
      "2990fab1-3933-43d1-b522-cc687bd2e681 has 'Input' in their 'Examples' column\n",
      "f3746ef9-9028-4eed-b046-cfcda264e81b has 'Input' in their 'Examples' column\n",
      "1a8b6e58-bef6-48c8-a336-baa3d96e27d7 has 'Input' in their 'Examples' column\n",
      "369096fc-c122-4630-b489-51ed35e3b85b has 'Input' in their 'Examples' column\n",
      "fec7411a-7d12-4506-908b-12aa7d550cc0 has 'Input' in their 'Examples' column\n",
      "6b363873-60c2-4a65-b71d-5557e0f0176d has 'Input' in their 'Examples' column\n",
      "8e2dd606-a366-48ac-be2a-ee4ef06a9086 has 'Input' in their 'Examples' column\n",
      "dd0ecf5d-0caa-4b16-8b0a-bf3c7232a513 has 'Input' in their 'Examples' column\n",
      "80fecdf4-e99b-4a3e-8772-5f2809e43ac8 has 'Input' in their 'Examples' column\n",
      "6b276a12-6e17-404d-b696-45009901f2d3 has 'Input' in their 'Examples' column\n",
      "226dae0e-239b-4e9a-99c1-b9d8e332aa16 has 'Input' in their 'Examples' column\n"
     ]
    }
   ],
   "source": [
    "calvin_filter = check_for_substring(df_calvin, \"Examples\", 'Input')"
   ]
  },
  {
   "cell_type": "code",
   "execution_count": 172,
   "id": "85b14d04",
   "metadata": {},
   "outputs": [],
   "source": [
    "df_calvin = df_calvin.loc[calvin_filter]"
   ]
  },
  {
   "cell_type": "code",
   "execution_count": 173,
   "id": "341cd4f7",
   "metadata": {},
   "outputs": [
    {
     "name": "stdout",
     "output_type": "stream",
     "text": [
      "67\n"
     ]
    }
   ],
   "source": [
    "print(len(df_karthik)+len(df_hafeez)+len(df_calvin))"
   ]
  },
  {
   "cell_type": "code",
   "execution_count": 176,
   "id": "c1c21d91",
   "metadata": {},
   "outputs": [],
   "source": [
    "import json\n",
    "def make_list(df, index_dict, author):\n",
    "    df_list = []\n",
    "    for index, row in df.iterrows():\n",
    "        temp = {}\n",
    "        temp['author'] = author\n",
    "        temp['UUID'] = row['UUID']\n",
    "        for i in index_dict:\n",
    "            if index_dict[i]:\n",
    "                if not isinstance(index_dict[i], tuple):\n",
    "                    temp[i] = row[index_dict[i]]\n",
    "                else:\n",
    "                    idx = index_dict[i][0]\n",
    "                    if isinstance(index_dict[i][1], str):\n",
    "                        temp[i] = [row[idx]]\n",
    "                    else:\n",
    "                        temp[i] = [row[idx].replace('[','').replace(']','')]\n",
    "        df_list.append(temp)\n",
    "    return df_list\n",
    "    \n",
    "    \n",
    "    "
   ]
  },
  {
   "cell_type": "code",
   "execution_count": 177,
   "id": "674e9e43",
   "metadata": {},
   "outputs": [],
   "source": [
    "karthik_index_dict = {\"question\":\"Question\", \"examples\":\"Question Example/Explanation\", \"link\":\"Link\", \"difficulty\":\"Difficulty\", \"categories\":(\"Categories\", list), 'code': \"Method 1\",'asserts':\"Assert Statement 1\"}\n",
    "hafeez_index_dict = {\"question\":\"Question\", \"examples\":\"Examples\", \"link\":\"Link \", \"difficulty\":\"Difficulty\", \"categories\":(\"Categories\", str), 'code': \"Code\",'asserts':\"Asserts\"}\n",
    "calvin_index_dict = {\"question\":\"Question\", \"examples\":\"Examples\", \"link\":\"Link for ref (if any)\", \"difficulty\":None, \"categories\":(\"Categories\", list), 'code': \"Code\",'asserts':\"Assert Statement 1\"}\n"
   ]
  },
  {
   "cell_type": "code",
   "execution_count": 178,
   "id": "b4e94892",
   "metadata": {},
   "outputs": [],
   "source": [
    "karthik_df_list = make_list(df_karthik, karthik_index_dict, 'Karthik')\n",
    "hafeez_df_list = make_list(df_hafeez, hafeez_index_dict, \"Hafeez\")\n",
    "calvin_df_list = make_list(df_calvin, calvin_index_dict, \"Calvin\")"
   ]
  },
  {
   "cell_type": "code",
   "execution_count": 179,
   "id": "32e06e0e",
   "metadata": {},
   "outputs": [
    {
     "data": {
      "text/plain": [
       "67"
      ]
     },
     "execution_count": 179,
     "metadata": {},
     "output_type": "execute_result"
    }
   ],
   "source": [
    "len(karthik_df_list)+len(hafeez_df_list)+len(calvin_df_list)"
   ]
  },
  {
   "cell_type": "code",
   "execution_count": 180,
   "id": "16144cb6",
   "metadata": {},
   "outputs": [],
   "source": [
    "def has_multiple_occurrences(string, substring):\n",
    "    return string.count(substring) >= 2"
   ]
  },
  {
   "cell_type": "code",
   "execution_count": 228,
   "id": "9574ff16",
   "metadata": {},
   "outputs": [],
   "source": [
    "combined_list = karthik_df_list+hafeez_df_list+calvin_df_list"
   ]
  },
  {
   "cell_type": "code",
   "execution_count": 230,
   "id": "e70e4651",
   "metadata": {
    "scrolled": true
   },
   "outputs": [
    {
     "name": "stdout",
     "output_type": "stream",
     "text": [
      "['assert middlesum([[2, 5, 7],[3, 7, 2],[5, 6, 9]]) == [12, 18]']\n",
      "['assert isPermutedMatrix([[1, 2, 3, 4], [4, 1, 2, 3], [3, 4, 1, 2], [2, 3, 4, 1]]) == True']\n",
      "['assert countZeroes([[0, 0, 0, 0, 1],[0, 0, 0, 1, 1],[0, 1, 1, 1, 1],[1, 1, 1, 1, 1],[1, 1, 1, 1, 1]]) == 8']\n",
      "['assert MatrixChainOrder([40, 20, 30, 10, 30], 0, 4) ==  26000']\n",
      "['assert kLargest([1, 23, 12, 9, 30, 2, 50], 3) == [50, 30, 23]']\n",
      "['assert heapSort([4,6,3,2,9]) == [2,3,4,6,9]']\n",
      "['assert maxDistinctNum([5, 7, 5, 5, 1, 2, 2], 3) == 3']\n",
      "['assert LargestTripletMultiplication([1,2,3,4,5]) == [-1,-1,6,24,60]']\n",
      "['assert kthLargestSum([20, -5, -1], 3) == 14']\n",
      "['assert search([2, 3, 4, 10, 40], 10) == 3']\n",
      "['assert binarySearch([2, 3, 4, 10, 40], 10) == 3']\n",
      "['assert jumpSearch([0,1,1,2,3,5,8,13,21,34,55,89,144,233,377,610], 55) == 10']\n",
      "['assert interpolationSearch([10, 12, 13, 16, 18, 19, 20, 21, 22, 23, 24, 33, 35, 42, 47], 18) == 4']\n",
      "['assert ternarySearch(5, [1, 2, 3, 4, 5, 6, 7, 8, 9, 10]) == 4']\n",
      "['assert max_distance([1, 2, 4, 1, 3, 4, 2, 5, 6, 5]) == 5']\n",
      "['assert subset([5, 6, 9, 3, 4, 3, 4]) == 2']\n",
      "['assert longestSubarrWthSumDivByK([2, 7, 6, 1, 4, 5], 3) == 4']\n",
      "['assert countWindowDistinct([1, 2, 1, 3, 4, 2, 3], 4) == [3,4,4,3]']\n",
      "['assert findSubArray([1, 0, 0, 1, 0, 1, 1]) == 6']\n",
      "['assert countDistinctSubarray([2, 1, 3, 2, 3]) == 5']\n",
      "['assert leftRotate(16, 2) == 2']\n",
      "['assert isPowerOfTwo(31) == False']\n",
      "['assert swapBits(47, 1, 5, 3) == 227']\n",
      "['assert isPalindrome(9) == True']\n",
      "['assert maxSubarrayXOR([1, 2, 3, 4]) == 7']\n",
      "['assert float_bin(11.234, 4) == 1011.0011']\n",
      "['assert bitonicGenerator([0, 1, 2, 3, 4, 5, 6, 7]) == [0, 2, 4, 6, 1, 3, 5, 7]']\n",
      "['assert minSwapToMakeArraySame([3, 6, 4, 8], [4, 6, 8, 3]) == 2']\n",
      "['assert findSubsequenceCount(\"banana\", \"ban\") == 3']\n",
      "['assert ksmallest([1, 3], 4) == 6']\n",
      "['assert getMaximumGenerated(2)==1']\n",
      "['assert tribonacci(25)==1389537']\n",
      "['assert maxProfit([1,2,3,4,5])==4']\n",
      "['assert change(10,[10])==1']\n",
      "['assert backspaceCompare(\\'\\'ab##\", \"c#d#\")==True']\n",
      "['assert isValid(\"(]\")==False']\n",
      "['assert minRemoveToMakeValid(\"a)b(c)d\")==\"ab(c)d\"']\n",
      "['assert trap([4,2,0,3,2,5])==9']\n",
      "['assert majorityElement([2,2,1,1,1,2,2])==2']\n",
      "['assert titleToNumber(\"AB\")==28']\n",
      "['assert arrangeCoins(8)==3']\n",
      "['assert minDistance(1,3, [0,1], [0,0], [[0,2]])==3']\n",
      "['assert consecutiveNumbersSum(9)==3']\n",
      "['assert minTimeToVisitAllPoints([[3,2],[-2,2]])==5']\n",
      "['assert projectionArea([[2]])==5']\n",
      "['assert kClosest([[3,3],[5,-1],[-2,4]], 2)==[[3,3],[-2,4]]']\n",
      "['assert repeatedSubstringPattern(\"abab\")==True']\n",
      "['assert containsPattern([1,2,4,4,4,4],1,3)==True']\n",
      "['assert wordPattern(\"abba\", \"dog cat cat dog\")==True']\n",
      "['assert findAndReplacePattern([\"a\",\"b\",\"c\"], \"a\")==[\"a\",\"b\",\"c\"]']\n",
      "['assert wordPatternMatch(\"aaaa\", \"asdasdasdasd\")==True']\n",
      "['assert even_odd_reorder([1,2,3,4,5,6,7,8,9]) == [8, 2, 6, 4, 5, 7, 3, 9, 1]']\n",
      "['assert set(array_intersection([1,0,2,0,2,0,2,1,1,1], [2,1,0,2,0,2,2,2,1,0])) == {0,1,2}']\n",
      "['assert findThePrefixCommonArray([1,3,2,4], [3,1,2,4]) == [0,2,3,4]']\n",
      "['assert solveKT(8) == [[0,59,38,33,30,17, 8,63 ],']\n",
      "['assert set(subsetsum([3, 34, 4, 12, 5, 2], 9)) == set([4,5])']\n",
      "['assert reconstructQueue([[8,1],[5,0],[6,1],[5,2],[4,4],[7,1]]) == [[5, 0], [8, 1], [5, 2], [6, 1], [4, 4], [7, 1]]']\n",
      "['assert assignHole([1, 2, 3, 4], [4, 3, 2, 1]) == 0']\n",
      "['assert MaxActivities([2, 4, 5, 6, 7, 8], [3, 5, 6, 7, 9, 10]) == [0, 1, 2, 3, 4]']\n",
      "['assert orderlyQueue(\"abcd\", 1) == \"abcd\"']\n",
      "['assert fibonacci(9) == 34']\n",
      "['assert fact(5) == 120']\n",
      "['assert fractionToDecimal(1, 2) == \"0.5\"']\n",
      "['assert reverse_string(list(\"abcd\")) == list(\"dcba\")']\n",
      "['assert permutation_in_string(\"hello\", \"ooollehhhhh\") == True']\n",
      "['assert shuffle_string(\"reoc\", [2, 0, 1, 3]) == \"core\"']\n",
      "['assert countVowelStrings(3) == 35']\n"
     ]
    }
   ],
   "source": [
    "for i in combined_list:\n",
    "    assert_list = i['asserts'].split('\\n')\n",
    "    assert_list = [j for j in assert_list if j]\n",
    "    if len(assert_list)>1:\n",
    "        assert_list = assert_list[:1]\n",
    "    print(assert_list)\n",
    "    "
   ]
  },
  {
   "cell_type": "code",
   "execution_count": 231,
   "id": "21f4bdf8",
   "metadata": {},
   "outputs": [],
   "source": [
    "import re\n",
    "def remove_empty_lines(string):\n",
    "    return re.sub(r'\\n\\s*\\n', '\\n', string)\n"
   ]
  },
  {
   "cell_type": "code",
   "execution_count": 232,
   "id": "d0d9a3ab",
   "metadata": {},
   "outputs": [],
   "source": [
    "for idx in range(len(combined_list)):\n",
    "    combined_list[idx]['code'] = remove_empty_lines(combined_list[idx]['code']).replace('        ', ' '*4).strip()"
   ]
  },
  {
   "cell_type": "code",
   "execution_count": 235,
   "id": "6ad84600",
   "metadata": {},
   "outputs": [],
   "source": [
    "with open('seed_data_Nov18.json', 'w') as json_file:\n",
    "    json.dump(combined_list, json_file)"
   ]
  }
 ],
 "metadata": {
  "kernelspec": {
   "display_name": "Python 3",
   "language": "python",
   "name": "python3"
  },
  "language_info": {
   "codemirror_mode": {
    "name": "ipython",
    "version": 3
   },
   "file_extension": ".py",
   "mimetype": "text/x-python",
   "name": "python",
   "nbconvert_exporter": "python",
   "pygments_lexer": "ipython3",
   "version": "3.8.8"
  }
 },
 "nbformat": 4,
 "nbformat_minor": 5
}
