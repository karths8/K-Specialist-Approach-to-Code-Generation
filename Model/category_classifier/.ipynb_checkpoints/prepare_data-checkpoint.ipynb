{
 "cells": [
  {
   "cell_type": "code",
   "execution_count": 41,
   "id": "01678b59-fb43-4b3a-845e-bb9bbb1a7769",
   "metadata": {},
   "outputs": [],
   "source": [
    "import json\n",
    "import re"
   ]
  },
  {
   "cell_type": "code",
   "execution_count": 36,
   "id": "18095ba9-bf26-4bd0-a3e2-669619786798",
   "metadata": {},
   "outputs": [],
   "source": [
    "data_file_path = \"./../../Data_files/final_seed_data.json\""
   ]
  },
  {
   "cell_type": "code",
   "execution_count": 37,
   "id": "5a3f9b00-c910-42b6-91b6-52c62e0ba453",
   "metadata": {},
   "outputs": [],
   "source": [
    "data = []\n",
    "with open(data_file_path, 'r') as data_file:\n",
    "    data = json.load(data_file)"
   ]
  },
  {
   "cell_type": "code",
   "execution_count": null,
   "id": "eec9e706-6be5-4c16-bb80-b4778b5573e4",
   "metadata": {},
   "outputs": [],
   "source": []
  },
  {
   "cell_type": "code",
   "execution_count": null,
   "id": "b8622d7a-f6e5-42cd-903d-6e15af4e53b9",
   "metadata": {},
   "outputs": [],
   "source": []
  },
  {
   "cell_type": "code",
   "execution_count": null,
   "id": "350d892b-4bfe-4c14-a7a4-05e2e417df28",
   "metadata": {},
   "outputs": [],
   "source": []
  },
  {
   "cell_type": "code",
   "execution_count": 38,
   "id": "ed20452c-d954-48a9-b07a-b204b3dd1080",
   "metadata": {},
   "outputs": [],
   "source": [
    "# Debug"
   ]
  },
  {
   "cell_type": "code",
   "execution_count": 25,
   "id": "ef950db1-ba49-4f2d-bcc6-3532ab578b08",
   "metadata": {},
   "outputs": [
    {
     "data": {
      "text/plain": [
       "'Given an integer matrix of odd dimensions (like 3 * 3 or 5 * 5), find the sum of the middle row & column elements. Return the values in an array, with the first element being the row sum and the second element being the column sum'"
      ]
     },
     "execution_count": 25,
     "metadata": {},
     "output_type": "execute_result"
    }
   ],
   "source": [
    "data[0]['question']"
   ]
  },
  {
   "cell_type": "code",
   "execution_count": 27,
   "id": "8b07c0c7-a611-4b0c-bdef-8ec8ebfe745a",
   "metadata": {},
   "outputs": [
    {
     "data": {
      "text/plain": [
       "['Matrix']"
      ]
     },
     "execution_count": 27,
     "metadata": {},
     "output_type": "execute_result"
    }
   ],
   "source": [
    "data[0]['categories']"
   ]
  },
  {
   "cell_type": "code",
   "execution_count": 46,
   "id": "b54f6017-082b-4ebf-b5f7-289377d7921a",
   "metadata": {},
   "outputs": [
    {
     "data": {
      "text/plain": [
       "['assert middlesum([[2, 5, 7],[3, 7, 2],[5, 6, 9]]) == [12, 18]',\n",
       " 'assert middlesum([[1, 3, 5, 6, 7], [3, 5, 3, 2, 1], [1, 2, 3, 4, 5], [7, 9, 2, 1, 6], [9, 1, 5, 3, 2]]) == [15, 18]',\n",
       " 'assert middlesum([[4]]) == [4, 4]',\n",
       " 'assert middlesum([[8, 2, 4], [1, 5, 9], [6, 3, 7]]) == [15, 10]',\n",
       " 'assert middlesum([[3, 3, 3, 3, 3], [3, 3, 3, 3, 3], [3, 3, 3, 3, 3], [3, 3, 3, 3, 3], [3, 3, 3, 3, 3]]) == [15, 15]']"
      ]
     },
     "execution_count": 46,
     "metadata": {},
     "output_type": "execute_result"
    }
   ],
   "source": [
    "data[0]['asserts']"
   ]
  },
  {
   "cell_type": "code",
   "execution_count": 48,
   "id": "fe76557c-e646-408f-8fc5-2ecbcc224d49",
   "metadata": {},
   "outputs": [
    {
     "data": {
      "text/plain": [
       "'middlesum([[2, 5, 7],[3, 7, 2],[5, 6, 9]]) == [12, 18]'"
      ]
     },
     "execution_count": 48,
     "metadata": {},
     "output_type": "execute_result"
    }
   ],
   "source": [
    "data[0]['asserts'][0][7:]"
   ]
  },
  {
   "cell_type": "code",
   "execution_count": null,
   "id": "7a4e7c51-4571-485c-aa41-983c9fb5c88f",
   "metadata": {},
   "outputs": [],
   "source": []
  }
 ],
 "metadata": {
  "kernelspec": {
   "display_name": "Python 3 (ipykernel)",
   "language": "python",
   "name": "python3"
  },
  "language_info": {
   "codemirror_mode": {
    "name": "ipython",
    "version": 3
   },
   "file_extension": ".py",
   "mimetype": "text/x-python",
   "name": "python",
   "nbconvert_exporter": "python",
   "pygments_lexer": "ipython3",
   "version": "3.11.5"
  }
 },
 "nbformat": 4,
 "nbformat_minor": 5
}
