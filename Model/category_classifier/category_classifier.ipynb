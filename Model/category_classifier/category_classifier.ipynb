{
 "cells": [
  {
   "cell_type": "code",
   "execution_count": 1,
   "id": "c65f882a-32f4-4ddd-9dc2-261ab641954a",
   "metadata": {},
   "outputs": [],
   "source": [
    "system_prompt = '''\n",
    "You are an expert at classifying coding questions into one of the given categories that best represent the type of the problem. \n",
    "Your job is to correctly label the provided input question into one of the following categories only: \n",
    "\n",
    "'Pattern', 'Bitwise', 'Heap', 'Matrix', 'Sorting', 'Math', 'Hash', 'String', 'Recursion', 'Searching', \n",
    "'Dynamic_progrxamming', 'Array', 'Divide_and_conquer', 'Geometry', 'Stack'\n",
    "\n",
    "'''"
   ]
  },
  {
   "cell_type": "code",
   "execution_count": null,
   "id": "af3cba74-e0af-4af7-892f-9ea2dddc1c3f",
   "metadata": {},
   "outputs": [],
   "source": [
    "'Pattern', 'Bitwise', 'Heap', 'Matrix', 'Sorting', 'Math', 'Hash', 'String', 'Recursion', 'Searching', \n",
    "'Dynamic_progrxamming', 'Array', 'Divide_and_conquer', 'Geometry', 'Stack'"
   ]
  }
 ],
 "metadata": {
  "kernelspec": {
   "display_name": "Python 3 (ipykernel)",
   "language": "python",
   "name": "python3"
  },
  "language_info": {
   "codemirror_mode": {
    "name": "ipython",
    "version": 3
   },
   "file_extension": ".py",
   "mimetype": "text/x-python",
   "name": "python",
   "nbconvert_exporter": "python",
   "pygments_lexer": "ipython3",
   "version": "3.11.5"
  }
 },
 "nbformat": 4,
 "nbformat_minor": 5
}
