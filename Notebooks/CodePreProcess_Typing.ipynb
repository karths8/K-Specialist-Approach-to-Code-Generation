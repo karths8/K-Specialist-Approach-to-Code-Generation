{
 "cells": [
  {
   "cell_type": "code",
   "execution_count": 276,
   "id": "747b8137-dbdf-4524-92a3-0000c8ca6c18",
   "metadata": {},
   "outputs": [],
   "source": [
    "import json\n",
    "import re\n",
    "import ast\n",
    "\n",
    "from itertools import zip_longest"
   ]
  },
  {
   "cell_type": "code",
   "execution_count": 277,
   "id": "71f9cd0a-51e7-4a7c-a065-107fa6661b22",
   "metadata": {},
   "outputs": [],
   "source": [
    "json_file_path = \"seed_data_final_Nov18.json\""
   ]
  },
  {
   "cell_type": "code",
   "execution_count": 278,
   "id": "56bbaa2b-c27b-4839-89b6-9560ffca8f1b",
   "metadata": {},
   "outputs": [],
   "source": [
    "json_file = open(json_file_path, 'r')"
   ]
  },
  {
   "cell_type": "code",
   "execution_count": 279,
   "id": "8953c9ca-eed2-42aa-8615-9ecd44c7a4d5",
   "metadata": {},
   "outputs": [],
   "source": [
    "data = json.load(json_file)"
   ]
  },
  {
   "cell_type": "code",
   "execution_count": 280,
   "id": "92571699-20cc-4bb4-aeed-ff141a28cd64",
   "metadata": {},
   "outputs": [],
   "source": [
    "# if number then int, [] then list, some alphanumeric then char, if True/False then boolean"
   ]
  },
  {
   "cell_type": "code",
   "execution_count": 282,
   "id": "9a0df9ad-af09-48b4-8763-e7fcecd57e59",
   "metadata": {},
   "outputs": [],
   "source": [
    "for datum in data:\n",
    "    # MATCH INPUT AND OUTPUT\n",
    "    match = re.search(r'\\w+\\((.*?)\\)\\s*==\\s*(.*)', datum['asserts'][0])\n",
    "    outputs = ast.literal_eval(match.group(2))\n",
    "\n",
    "    # recursively apply string match to find actual input params\n",
    "    # some hardcoding to ignore fucked up cases\n",
    "    if match.group(1) != '\"a)b(c)d\"':\n",
    "        inputs_match = None\n",
    "        while match is not None:\n",
    "            inputs_match = match\n",
    "            match = re.search(r'\\w+\\((.*?)\\)\\s*', match.group(1))\n",
    "        inputs = ast.literal_eval(inputs_match.group(1))\n",
    "    else:\n",
    "        inputs = ast.literal_eval(match.group(1))\n",
    "\n",
    "    # zipping for later \n",
    "    if isinstance(inputs, tuple):\n",
    "        inputs = list(inputs)\n",
    "    else:\n",
    "        inputs = [inputs]\n",
    "\n",
    "    # MATCH FUNCTION NAME TO MAKE TYPED\n",
    "    match = re.search(r'assert (.*?)\\((.*?)\\)\\s*==\\s*(.*)', datum['asserts'][0])\n",
    "    func_name = match.group(1)\n",
    "    # some hardcoding to ignore fucked up cases\n",
    "    if func_name == \"set\":\n",
    "        inner_match = re.search(r'(.*)\\((.*?)\\)\\s*', match.group(2))\n",
    "        func_name = inner_match.group(1)\n",
    "\n",
    "    # find func_name and extract that line from code\n",
    "    func_def_line = \"\"\n",
    "    for line in datum['code'].splitlines():\n",
    "        if \"def \" + func_name in line:\n",
    "            func_def_line = line\n",
    "            break\n",
    "    \n",
    "    # IF FUNC_DEF IS ALREADY TYPED, IGNORE\n",
    "    if \"->\" not in func_def_line:\n",
    "        print(func_def_line)\n",
    "        match = re.search(r'(.*)\\((.*?)\\)\\s*:\\s*', func_def_line)\n",
    "        # assumption: vars are separated by \", \"\n",
    "        var_names = match.group(2).split(\", \")\n",
    "        typed_signature = match.group(1) + '('\n",
    "        first_var = True\n",
    "        for var_name, input in zip_longest(var_names, inputs):\n",
    "            # add comma only after first var\n",
    "            if first_var == True:\n",
    "                first_var = False\n",
    "            else:\n",
    "                typed_signature = typed_signature + \", \"\n",
    "\n",
    "            # if var already has type\n",
    "            if \":\" in var_name:\n",
    "                typed_signature = typed_signature + var_name\n",
    "            else:\n",
    "                # if var has default value\n",
    "                if \"=\" in var_name:\n",
    "                    v_name = var_name.split(\"=\")[0]\n",
    "                    default_val = var_name.split(\"=\")[1]\n",
    "                    typed_signature = typed_signature + v_name + \": \" + type(ast.literal_eval(default_val)).__name__ + \" = \" + default_val\n",
    "                else:\n",
    "                    typed_signature = typed_signature + var_name + \": \" + type(input).__name__\n",
    "        typed_signature = typed_signature + ') -> ' + type(outputs).__name__ + ':' \n",
    "        code = datum['code']\n",
    "        new_code = \"\"\n",
    "        for line in code.splitlines():\n",
    "            if \"def \" + func_name in line:\n",
    "                new_code = new_code + typed_signature + \"\\n\"\n",
    "            else:\n",
    "                new_code = new_code + line + \"\\n\"\n",
    "        datum['code'] = new_code"
   ]
  },
  {
   "cell_type": "code",
   "execution_count": 287,
   "id": "c88a8dce-acc5-4b51-b297-048d2931c787",
   "metadata": {},
   "outputs": [],
   "source": [
    "processed_json_file_path = \"processed_\" + json_file_path "
   ]
  },
  {
   "cell_type": "code",
   "execution_count": 288,
   "id": "8705887f-6c87-45d4-90a6-6f46f20b9214",
   "metadata": {},
   "outputs": [],
   "source": [
    "with open(processed_json_file_path, 'w') as processed_file:\n",
    "    json.dump(data, processed_file)"
   ]
  },
  {
   "cell_type": "code",
   "execution_count": null,
   "id": "3fb4ea6e-bf4d-4d6e-bfa3-62313800a26f",
   "metadata": {},
   "outputs": [],
   "source": []
  },
  {
   "cell_type": "code",
   "execution_count": null,
   "id": "f6fd82fa-bb98-4b7a-810b-0a915e1dd6d0",
   "metadata": {},
   "outputs": [],
   "source": []
  },
  {
   "cell_type": "code",
   "execution_count": null,
   "id": "afba95ff-ee26-4a4b-8998-1b84da17d4e3",
   "metadata": {},
   "outputs": [],
   "source": []
  },
  {
   "cell_type": "code",
   "execution_count": null,
   "id": "8dc30dd6-067c-4970-ac52-012c8c446aa5",
   "metadata": {},
   "outputs": [],
   "source": []
  },
  {
   "cell_type": "code",
   "execution_count": null,
   "id": "dcc60bcf-5784-4ab9-822c-9090a3daddad",
   "metadata": {},
   "outputs": [],
   "source": []
  },
  {
   "cell_type": "code",
   "execution_count": 283,
   "id": "3025568a-e492-4764-8caf-dbc7a8a3c101",
   "metadata": {},
   "outputs": [],
   "source": [
    "#debug"
   ]
  },
  {
   "cell_type": "code",
   "execution_count": 233,
   "id": "8e3a0261-0dd8-4914-8beb-38055f7b5bbe",
   "metadata": {},
   "outputs": [
    {
     "data": {
      "text/plain": [
       "str"
      ]
     },
     "execution_count": 233,
     "metadata": {},
     "output_type": "execute_result"
    }
   ],
   "source": [
    "type(str(type(\"sa\")))"
   ]
  },
  {
   "cell_type": "code",
   "execution_count": 240,
   "id": "4a576565-fda3-47cd-b62c-7e63d7dad7d6",
   "metadata": {},
   "outputs": [
    {
     "data": {
      "text/plain": [
       "'hello int'"
      ]
     },
     "execution_count": 240,
     "metadata": {},
     "output_type": "execute_result"
    }
   ],
   "source": [
    "\"hello \" + type(2).__name__"
   ]
  },
  {
   "cell_type": "code",
   "execution_count": 190,
   "id": "9d8a8a12-d97c-4f53-96e9-cb941da8c166",
   "metadata": {},
   "outputs": [
    {
     "data": {
      "text/plain": [
       "'def middlesum(mat):\\n\\n        row_sum = 0\\n        col_sum = 0\\n        n = len(mat)\\n\\n        for i in range(n):\\n                row_sum += mat[n // 2][i]\\n        \\n        for i in range(n):\\n                col_sum += mat[i][n // 2]\\n\\n        mid_sum = [row_sum, col_sum]\\n        return mid_sum\\n        \\n        '"
      ]
     },
     "execution_count": 190,
     "metadata": {},
     "output_type": "execute_result"
    }
   ],
   "source": [
    "data[0]['code']"
   ]
  },
  {
   "cell_type": "code",
   "execution_count": 136,
   "id": "d60efe2d-bb84-4d95-b5f5-104be34fb8c9",
   "metadata": {},
   "outputs": [],
   "source": [
    "eval = ast.literal_eval(\"[1, 23, 12, 9, 30, 2, 50], 3\")"
   ]
  },
  {
   "cell_type": "code",
   "execution_count": 140,
   "id": "84be79e3-3d9d-4dd7-9436-217087aa27ce",
   "metadata": {},
   "outputs": [
    {
     "data": {
      "text/plain": [
       "int"
      ]
     },
     "execution_count": 140,
     "metadata": {},
     "output_type": "execute_result"
    }
   ],
   "source": [
    "type(eval[1])"
   ]
  },
  {
   "cell_type": "code",
   "execution_count": 172,
   "id": "5d685bfb-08e2-4350-9523-83ff4eb47ea3",
   "metadata": {},
   "outputs": [],
   "source": [
    "string = \"assert minRemoveToMakeValid(\\\"a)b(c)d\\\")==\\\"ab(c)d\\\"\""
   ]
  },
  {
   "cell_type": "code",
   "execution_count": 173,
   "id": "0fedad84-009c-48e3-9a30-8577b89c3a35",
   "metadata": {},
   "outputs": [],
   "source": [
    "match = re.search(r'\\w+\\((.*?)\\)\\s*==\\s*(.*)', string)"
   ]
  },
  {
   "cell_type": "code",
   "execution_count": 180,
   "id": "458dfdac-38ae-425f-b03c-5d1009b259ca",
   "metadata": {},
   "outputs": [
    {
     "data": {
      "text/plain": [
       "False"
      ]
     },
     "execution_count": 180,
     "metadata": {},
     "output_type": "execute_result"
    }
   ],
   "source": [
    "match.group(1)!= '\"a)b(c)d\"'"
   ]
  },
  {
   "cell_type": "code",
   "execution_count": 175,
   "id": "d5bffd3a-185a-425c-ba24-c031672bcf95",
   "metadata": {},
   "outputs": [
    {
     "data": {
      "text/plain": [
       "'\"ab(c)d\"'"
      ]
     },
     "execution_count": 175,
     "metadata": {},
     "output_type": "execute_result"
    }
   ],
   "source": [
    "match.group(2)"
   ]
  },
  {
   "cell_type": "code",
   "execution_count": 177,
   "id": "8b143dcb-6ebc-467d-ad91-7be3d874a069",
   "metadata": {},
   "outputs": [
    {
     "data": {
      "text/plain": [
       "'a)b(c)d'"
      ]
     },
     "execution_count": 177,
     "metadata": {},
     "output_type": "execute_result"
    }
   ],
   "source": [
    "ast.literal_eval(match.group(1))"
   ]
  },
  {
   "cell_type": "code",
   "execution_count": 166,
   "id": "b5732590-1ee7-411d-8e12-0e26095683cb",
   "metadata": {},
   "outputs": [],
   "source": [
    "match = re.search(r'\\w+\\((.*?)\\)', match.group(1))"
   ]
  },
  {
   "cell_type": "code",
   "execution_count": 167,
   "id": "241235ba-aa21-45f1-9b3b-be0000d8effa",
   "metadata": {},
   "outputs": [
    {
     "data": {
      "text/plain": [
       "'c'"
      ]
     },
     "execution_count": 167,
     "metadata": {},
     "output_type": "execute_result"
    }
   ],
   "source": [
    "match.group(1)"
   ]
  },
  {
   "cell_type": "code",
   "execution_count": 193,
   "id": "2428a9a7-45f8-47d1-bae0-171648177582",
   "metadata": {},
   "outputs": [
    {
     "data": {
      "text/plain": [
       "'assert middlesum([[2, 5, 7],[3, 7, 2],[5, 6, 9]]) == [12, 18]'"
      ]
     },
     "execution_count": 193,
     "metadata": {},
     "output_type": "execute_result"
    }
   ],
   "source": [
    "data[0]['asserts'][0]"
   ]
  },
  {
   "cell_type": "code",
   "execution_count": 219,
   "id": "45f3dbe2-d9f0-48d7-903b-48216980c8c4",
   "metadata": {},
   "outputs": [],
   "source": [
    "match = re.search(r'(.*)\\((.*?)\\):', \"def maxDistinctNum(a, k):\")"
   ]
  },
  {
   "cell_type": "code",
   "execution_count": 225,
   "id": "61343e27-cc0e-4870-8c47-165dcd9c4542",
   "metadata": {},
   "outputs": [
    {
     "data": {
      "text/plain": [
       "['a', 'k']"
      ]
     },
     "execution_count": 225,
     "metadata": {},
     "output_type": "execute_result"
    }
   ],
   "source": [
    "match.group(2).split(\", \")"
   ]
  },
  {
   "cell_type": "code",
   "execution_count": 226,
   "id": "48cdf9ed-8ba7-4447-a3e3-a4f8bdf35831",
   "metadata": {},
   "outputs": [
    {
     "data": {
      "text/plain": [
       "'def maxDistinctNum'"
      ]
     },
     "execution_count": 226,
     "metadata": {},
     "output_type": "execute_result"
    }
   ],
   "source": [
    "match.group(1)"
   ]
  },
  {
   "cell_type": "code",
   "execution_count": 227,
   "id": "857d23be-84d1-4f17-b5ff-127af2b086f6",
   "metadata": {},
   "outputs": [],
   "source": [
    "a = [1,2,3]"
   ]
  },
  {
   "cell_type": "code",
   "execution_count": 256,
   "id": "f8a43fcf-5202-478a-b114-280706d1e12b",
   "metadata": {},
   "outputs": [],
   "source": [
    "b = [4,5]"
   ]
  },
  {
   "cell_type": "code",
   "execution_count": 257,
   "id": "93e94cf9-43c4-418d-980d-9a0d00477625",
   "metadata": {},
   "outputs": [
    {
     "name": "stdout",
     "output_type": "stream",
     "text": [
      "1\n",
      "4\n",
      "2\n",
      "5\n"
     ]
    }
   ],
   "source": [
    "for x,y in zip(a,b):\n",
    "    print(x)\n",
    "    print(y)"
   ]
  },
  {
   "cell_type": "code",
   "execution_count": 242,
   "id": "7c65ae62-3301-4287-86ec-5d61ba98ada0",
   "metadata": {},
   "outputs": [
    {
     "data": {
      "text/plain": [
       "['x ', ' 5']"
      ]
     },
     "execution_count": 242,
     "metadata": {},
     "output_type": "execute_result"
    }
   ],
   "source": [
    "\"x = 5\".split(\"=\")"
   ]
  },
  {
   "cell_type": "code",
   "execution_count": 261,
   "id": "615d6c77-e666-48b7-866a-b53e33b056a4",
   "metadata": {},
   "outputs": [
    {
     "data": {
      "text/plain": [
       "[[1, 2, 3], 4]"
      ]
     },
     "execution_count": 261,
     "metadata": {},
     "output_type": "execute_result"
    }
   ],
   "source": [
    "list(([1,2,3],4))"
   ]
  },
  {
   "cell_type": "code",
   "execution_count": 262,
   "id": "fffa6e46-be6c-4b90-b2e9-33b00bb02de4",
   "metadata": {},
   "outputs": [
    {
     "ename": "TypeError",
     "evalue": "'int' object is not iterable",
     "output_type": "error",
     "traceback": [
      "\u001b[0;31m---------------------------------------------------------------------------\u001b[0m",
      "\u001b[0;31mTypeError\u001b[0m                                 Traceback (most recent call last)",
      "Cell \u001b[0;32mIn[262], line 1\u001b[0m\n\u001b[0;32m----> 1\u001b[0m \u001b[38;5;28;43mlist\u001b[39;49m\u001b[43m(\u001b[49m\u001b[38;5;241;43m4\u001b[39;49m\u001b[43m)\u001b[49m\n",
      "\u001b[0;31mTypeError\u001b[0m: 'int' object is not iterable"
     ]
    }
   ],
   "source": [
    "list(4)"
   ]
  },
  {
   "cell_type": "code",
   "execution_count": 263,
   "id": "ab56549b-a84b-4202-a5df-844de1135ba9",
   "metadata": {},
   "outputs": [
    {
     "name": "stderr",
     "output_type": "stream",
     "text": [
      "<>:1: SyntaxWarning: \"is\" with a literal. Did you mean \"==\"?\n",
      "<>:1: SyntaxWarning: \"is\" with a literal. Did you mean \"==\"?\n",
      "/var/folders/v0/g401c4x979d___jdl5ddw2_r0000gn/T/ipykernel_18515/4053484565.py:1: SyntaxWarning: \"is\" with a literal. Did you mean \"==\"?\n",
      "  if (1,2) is iterable:\n"
     ]
    },
    {
     "ename": "NameError",
     "evalue": "name 'iterable' is not defined",
     "output_type": "error",
     "traceback": [
      "\u001b[0;31m---------------------------------------------------------------------------\u001b[0m",
      "\u001b[0;31mNameError\u001b[0m                                 Traceback (most recent call last)",
      "Cell \u001b[0;32mIn[263], line 1\u001b[0m\n\u001b[0;32m----> 1\u001b[0m \u001b[38;5;28;01mif\u001b[39;00m (\u001b[38;5;241m1\u001b[39m,\u001b[38;5;241m2\u001b[39m) \u001b[38;5;129;01mis\u001b[39;00m \u001b[43miterable\u001b[49m:\n\u001b[1;32m      2\u001b[0m     \u001b[38;5;28mprint\u001b[39m(\u001b[38;5;124m\"\u001b[39m\u001b[38;5;124mhello\u001b[39m\u001b[38;5;124m\"\u001b[39m)\n",
      "\u001b[0;31mNameError\u001b[0m: name 'iterable' is not defined"
     ]
    }
   ],
   "source": [
    "if (1,2) is iterable:\n",
    "    print(\"hello\")"
   ]
  },
  {
   "cell_type": "code",
   "execution_count": 265,
   "id": "c760f7c3-6066-4c56-9cac-7f706222ba8c",
   "metadata": {},
   "outputs": [
    {
     "data": {
      "text/plain": [
       "False"
      ]
     },
     "execution_count": 265,
     "metadata": {},
     "output_type": "execute_result"
    }
   ],
   "source": [
    "is_iterable(4)"
   ]
  },
  {
   "cell_type": "code",
   "execution_count": 266,
   "id": "75198c16-e813-4a88-948c-88cf93ecf0a1",
   "metadata": {},
   "outputs": [
    {
     "data": {
      "text/plain": [
       "True"
      ]
     },
     "execution_count": 266,
     "metadata": {},
     "output_type": "execute_result"
    }
   ],
   "source": [
    "is_iterable((1,2,[1,2,3]))"
   ]
  },
  {
   "cell_type": "code",
   "execution_count": 270,
   "id": "552cb52d-feed-4846-8e48-906720813208",
   "metadata": {},
   "outputs": [
    {
     "data": {
      "text/plain": [
       "True"
      ]
     },
     "execution_count": 270,
     "metadata": {},
     "output_type": "execute_result"
    }
   ],
   "source": [
    "isinstance((1,2), tuple)"
   ]
  },
  {
   "cell_type": "code",
   "execution_count": null,
   "id": "24fd5071-67c7-4faa-9811-8892dcc444a3",
   "metadata": {},
   "outputs": [],
   "source": []
  }
 ],
 "metadata": {
  "kernelspec": {
   "display_name": "Python 3 (ipykernel)",
   "language": "python",
   "name": "python3"
  },
  "language_info": {
   "codemirror_mode": {
    "name": "ipython",
    "version": 3
   },
   "file_extension": ".py",
   "mimetype": "text/x-python",
   "name": "python",
   "nbconvert_exporter": "python",
   "pygments_lexer": "ipython3",
   "version": "3.11.5"
  }
 },
 "nbformat": 4,
 "nbformat_minor": 5
}
