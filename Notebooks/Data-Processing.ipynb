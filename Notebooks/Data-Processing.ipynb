{
 "cells": [
  {
   "cell_type": "code",
   "execution_count": 236,
   "id": "ea6a70d5",
   "metadata": {},
   "outputs": [],
   "source": [
    "import pandas as pd\n",
    "df_karthik = pd.read_csv('Karthik-split.csv')\n",
    "df_hafeez = pd.read_csv('Hafeez-split.csv')\n",
    "df_calvin = pd.read_csv('Calvin-split.csv')"
   ]
  },
  {
   "cell_type": "code",
   "execution_count": 237,
   "id": "43ba735c",
   "metadata": {},
   "outputs": [],
   "source": [
    "import uuid\n",
    "def assign_uuid(df):\n",
    "    df['UUID'] = [str(uuid.uuid4()) for _ in range(len(df))]\n",
    "    return df"
   ]
  },
  {
   "cell_type": "code",
   "execution_count": 238,
   "id": "118fba6d",
   "metadata": {},
   "outputs": [],
   "source": [
    "df_karthik = assign_uuid(df_karthik)\n",
    "df_hafeez = assign_uuid(df_hafeez)\n",
    "df_calvin = assign_uuid(df_calvin)"
   ]
  },
  {
   "cell_type": "code",
   "execution_count": 239,
   "id": "1dea14d2",
   "metadata": {},
   "outputs": [],
   "source": [
    "def check_for_substring(df,column='Method 1', substring_to_check='class'):\n",
    "    indices=[]\n",
    "    for index, row in df.iterrows():\n",
    "        if not pd.isnull(row[column]):\n",
    "            if substring_to_check in row[column]:\n",
    "                print(f\"{row['UUID']} has '{substring_to_check}' in their '{column}' column\")\n",
    "                indices.append(index)\n",
    "    return indices\n",
    "    "
   ]
  },
  {
   "cell_type": "code",
   "execution_count": 240,
   "id": "bd8e6ec4",
   "metadata": {
    "scrolled": true
   },
   "outputs": [
    {
     "name": "stdout",
     "output_type": "stream",
     "text": [
      "aa471867-aa0d-4e14-ba9b-8e8f537394e4 has 'assert' in their 'Assert Statement 1' column\n",
      "3c29c2a6-0039-4bc9-a4a5-6faea36dfa7e has 'assert' in their 'Assert Statement 1' column\n",
      "cc621092-1c08-4777-8341-f53f97e7cb4d has 'assert' in their 'Assert Statement 1' column\n",
      "83190ce9-1db2-4b27-9211-d06ca290b1f0 has 'assert' in their 'Assert Statement 1' column\n",
      "9ff858e2-b55c-4a58-b9d1-036cd107c2de has 'assert' in their 'Assert Statement 1' column\n",
      "5640a625-3a7f-46ce-81b5-45b28f6981a3 has 'assert' in their 'Assert Statement 1' column\n",
      "89396d48-febb-46d4-a7e9-fc6db885a2cb has 'assert' in their 'Assert Statement 1' column\n",
      "b2d10472-1c51-495a-a76c-b37a3c5986fb has 'assert' in their 'Assert Statement 1' column\n",
      "47709123-a6fd-44dc-b1b3-6360282a7b0e has 'assert' in their 'Assert Statement 1' column\n",
      "fc15ed0b-2303-4ccb-b9e0-9bc18f2a71ec has 'assert' in their 'Assert Statement 1' column\n",
      "7defcd3a-da7e-426f-b578-5321686acf19 has 'assert' in their 'Assert Statement 1' column\n",
      "f4b4653d-f7d7-46ff-9371-6ce5306b0f49 has 'assert' in their 'Assert Statement 1' column\n",
      "4d754c72-3726-4f91-b435-b01a6dd531b9 has 'assert' in their 'Assert Statement 1' column\n",
      "89460848-49b1-4efa-9612-9d0bfcdaa170 has 'assert' in their 'Assert Statement 1' column\n",
      "a304b379-a885-412d-9170-0e1570ef4984 has 'assert' in their 'Assert Statement 1' column\n",
      "9cc313a6-5fd9-45e4-8192-f5a9da8702c2 has 'assert' in their 'Assert Statement 1' column\n",
      "b1f7f5f3-33da-411e-a123-00128141b44a has 'assert' in their 'Assert Statement 1' column\n",
      "000bd3a5-0260-4ed5-a341-72498af9ffb8 has 'assert' in their 'Assert Statement 1' column\n",
      "b9f3e5e1-657a-413f-a266-970047b2222c has 'assert' in their 'Assert Statement 1' column\n",
      "d43ea585-bcee-4a3b-b341-aad2988f7cac has 'assert' in their 'Assert Statement 1' column\n",
      "3418f7cc-2703-4dbb-8705-e51df4295087 has 'assert' in their 'Assert Statement 1' column\n",
      "06becabf-b745-4905-bc52-d291d0c15e0d has 'assert' in their 'Assert Statement 1' column\n",
      "4fba2bf1-fda1-48e9-9c2a-bc3ed4718da0 has 'assert' in their 'Assert Statement 1' column\n",
      "09d82a2d-5a3f-449f-bc1a-4f24cf4328e6 has 'assert' in their 'Assert Statement 1' column\n",
      "d8c99575-b9bd-4988-b2ed-23c3b889c9c8 has 'assert' in their 'Assert Statement 1' column\n",
      "b07b0bf3-3482-489e-99b5-c21f11e3cd29 has 'assert' in their 'Assert Statement 1' column\n",
      "8714ed57-3a2b-4115-b4d8-100182b1f6bb has 'assert' in their 'Assert Statement 1' column\n",
      "a1eec3ae-a390-4b99-90ae-8520d462bd27 has 'assert' in their 'Assert Statement 1' column\n",
      "99fa7e96-23ff-4c94-951a-98176d1045cb has 'assert' in their 'Assert Statement 1' column\n",
      "039c3ece-6170-412d-ae03-6d0825e0e340 has 'assert' in their 'Assert Statement 1' column\n",
      "178ae598-7393-45be-a548-9ec811c72789 has 'assert' in their 'Assert Statement 1' column\n",
      "6aaf1310-7585-4d90-91e7-1f405c9b25e7 has 'assert' in their 'Asserts' column\n",
      "d695e67c-5b0e-4235-8406-30ee6be61173 has 'assert' in their 'Asserts' column\n",
      "38dca76c-ee6c-4c71-83a9-89240828a3b7 has 'assert' in their 'Asserts' column\n",
      "296ab89e-7208-4f6f-bed1-d623f30e32c9 has 'assert' in their 'Asserts' column\n",
      "b6f47e1f-52e7-4dca-837f-88bc0d3b7a5a has 'assert' in their 'Asserts' column\n",
      "4b76d4d6-6dbe-4bcf-ba3f-9c6a418373ea has 'assert' in their 'Asserts' column\n",
      "2fb3578a-9202-463d-8eb1-88df11a49ca7 has 'assert' in their 'Asserts' column\n",
      "a4782492-10a7-4601-a995-c1a0f9d57a67 has 'assert' in their 'Asserts' column\n",
      "f4b91546-3f1c-4c4d-96a4-54541929438f has 'assert' in their 'Asserts' column\n",
      "828013d5-f389-4c8e-8e81-3caf3f2bf40b has 'assert' in their 'Asserts' column\n",
      "de168393-5fd5-4856-89e1-a8722feeb70f has 'assert' in their 'Asserts' column\n",
      "6ceae436-ff42-4122-a163-cc19372ef773 has 'assert' in their 'Asserts' column\n",
      "22847d55-ac87-410b-956b-009096af4c77 has 'assert' in their 'Asserts' column\n",
      "fc3fbbf7-4bca-4fca-9308-23d9f5735034 has 'assert' in their 'Asserts' column\n",
      "e2c47631-84af-497c-8e1d-3ce51c4b3eff has 'assert' in their 'Asserts' column\n",
      "e1724953-bc74-4dbf-86e7-5713be00a339 has 'assert' in their 'Asserts' column\n",
      "effcb732-1f0d-4caa-8d9f-be914708d4ae has 'assert' in their 'Asserts' column\n",
      "e811f9cc-fa5e-4ea0-8adb-8cf3ab7c72db has 'assert' in their 'Asserts' column\n",
      "df98fd29-db88-4de7-a00a-0a3bd5ba1539 has 'assert' in their 'Asserts' column\n",
      "8c9548d2-7b9c-46a4-9b8e-8afd488f7e87 has 'assert' in their 'Asserts' column\n",
      "124bfeca-24d0-411d-b4ad-26009b79436b has 'assert' in their 'Asserts' column\n",
      "a9c5e697-af5d-432b-8447-5675d739c728 has 'assert' in their 'Assert Statement 1' column\n",
      "e8821b39-847a-4244-a831-f314de0c9805 has 'assert' in their 'Assert Statement 1' column\n",
      "9e45b73f-583d-40ab-b387-e0d1624af07b has 'assert' in their 'Assert Statement 1' column\n",
      "4871bb5e-9aec-4b1d-9355-ba3c2887af5a has 'assert' in their 'Assert Statement 1' column\n",
      "f795bda7-9822-4bc5-9c7e-b9c0f2752085 has 'assert' in their 'Assert Statement 1' column\n",
      "f452df1d-cc8f-408f-a79d-1452e32ef567 has 'assert' in their 'Assert Statement 1' column\n",
      "7d5cc2d3-2787-4b41-bf88-156deab5c37f has 'assert' in their 'Assert Statement 1' column\n",
      "9c6891aa-0d5b-464f-aaa3-6f4c527a2967 has 'assert' in their 'Assert Statement 1' column\n",
      "51a5caf9-241f-4de3-9ee2-9420490b73d7 has 'assert' in their 'Assert Statement 1' column\n",
      "fae0d93d-a8cd-4180-84c8-7b34b67f478a has 'assert' in their 'Assert Statement 1' column\n",
      "e4eb56b5-4d7b-4bd0-a607-d457ead0c16d has 'assert' in their 'Assert Statement 1' column\n",
      "fb94082f-4627-4f5a-b280-08d869823d70 has 'assert' in their 'Assert Statement 1' column\n",
      "48c6aa37-e00d-4b55-9afc-6b1cf2a1aff2 has 'assert' in their 'Assert Statement 1' column\n",
      "1aeb3246-4c22-4d34-a48c-db7be8ba1b94 has 'assert' in their 'Assert Statement 1' column\n",
      "ac641352-08d5-4950-8993-6a143da92ecf has 'assert' in their 'Assert Statement 1' column\n",
      "5e7011e5-fee4-4c1a-a98f-3b81e50508cc has 'assert' in their 'Assert Statement 1' column\n",
      "e35d1110-85e8-4f50-80aa-91eb976b310b has 'assert' in their 'Assert Statement 1' column\n",
      "9a970ea6-ed80-4fd3-a257-f01e0a8d5eaa has 'assert' in their 'Assert Statement 1' column\n",
      "80e34b28-16a8-46ac-8b6a-ee28beb1e8d4 has 'assert' in their 'Assert Statement 1' column\n",
      "d0ce7430-cfcd-4c69-b161-b3b2a186422c has 'assert' in their 'Assert Statement 1' column\n",
      "87372a22-f5ef-4100-845b-28700ca3fde3 has 'assert' in their 'Assert Statement 1' column\n",
      "56b48f6d-0d81-478d-b838-4d47b62d3031 has 'assert' in their 'Assert Statement 1' column\n",
      "[0, 1, 2, 3, 4, 5, 6, 7, 8, 9, 10, 11, 12, 13, 14, 15, 16, 17, 18, 19, 20, 21, 22, 23, 24, 25, 26, 27, 28, 29, 30]\n",
      "[10, 11, 12, 13, 15, 16, 17, 19, 20, 25, 26, 27, 29, 30, 31, 32, 35, 36, 37, 38, 39]\n",
      "[0, 1, 2, 3, 4, 5, 6, 7, 8, 9, 10, 14, 15, 18, 28, 29, 30, 31, 34, 35, 36, 37]\n",
      "74\n"
     ]
    }
   ],
   "source": [
    "karthik_asserts = check_for_substring(df_karthik, \"Assert Statement 1\", 'assert')\n",
    "hafeez_asserts = check_for_substring(df_hafeez, \"Asserts\", 'assert')\n",
    "calvin_asserts = check_for_substring(df_calvin, \"Assert Statement 1\", 'assert')\n",
    "print(karthik_asserts)\n",
    "print(hafeez_asserts)\n",
    "print(calvin_asserts)\n",
    "print(len(karthik_asserts)+len(hafeez_asserts)+len(calvin_asserts))"
   ]
  },
  {
   "cell_type": "code",
   "execution_count": 241,
   "id": "6d855ab7",
   "metadata": {},
   "outputs": [],
   "source": [
    "df_karthik = df_karthik.loc[karthik_asserts]\n",
    "df_hafeez = df_hafeez.loc[hafeez_asserts]\n",
    "df_calvin = df_calvin.loc[calvin_asserts]"
   ]
  },
  {
   "cell_type": "code",
   "execution_count": 242,
   "id": "4a48367f",
   "metadata": {},
   "outputs": [
    {
     "name": "stdout",
     "output_type": "stream",
     "text": [
      "9ff858e2-b55c-4a58-b9d1-036cd107c2de has 'class' in their 'Method 1' column\n",
      "e4eb56b5-4d7b-4bd0-a607-d457ead0c16d has 'class' in their 'Code' column\n",
      "[4]\n",
      "[]\n",
      "[10]\n",
      "2\n"
     ]
    }
   ],
   "source": [
    "karthik_classes = check_for_substring(df_karthik, \"Method 1\", 'class')\n",
    "hafeez_classes = check_for_substring(df_hafeez, \"Code\", 'class')\n",
    "calvin_classes = check_for_substring(df_calvin, \"Code\", 'class')\n",
    "print(karthik_classes)\n",
    "print(hafeez_classes)\n",
    "print(calvin_classes)\n",
    "print(len(karthik_classes)+len(hafeez_classes)+len(calvin_classes))"
   ]
  },
  {
   "cell_type": "code",
   "execution_count": 243,
   "id": "639c3dfd",
   "metadata": {},
   "outputs": [],
   "source": [
    "df_karthik = df_karthik.drop(karthik_classes)\n",
    "df_hafeez = df_hafeez.drop(hafeez_classes)\n",
    "df_calvin = df_calvin.drop(calvin_classes)"
   ]
  },
  {
   "cell_type": "code",
   "execution_count": 244,
   "id": "213eabe6",
   "metadata": {
    "scrolled": true
   },
   "outputs": [
    {
     "name": "stdout",
     "output_type": "stream",
     "text": [
      "a9c5e697-af5d-432b-8447-5675d739c728 has 'Input' in their 'Examples' column\n",
      "9e45b73f-583d-40ab-b387-e0d1624af07b has 'Input' in their 'Examples' column\n",
      "f795bda7-9822-4bc5-9c7e-b9c0f2752085 has 'Input' in their 'Examples' column\n",
      "f452df1d-cc8f-408f-a79d-1452e32ef567 has 'Input' in their 'Examples' column\n",
      "51a5caf9-241f-4de3-9ee2-9420490b73d7 has 'Input' in their 'Examples' column\n",
      "fb94082f-4627-4f5a-b280-08d869823d70 has 'Input' in their 'Examples' column\n",
      "48c6aa37-e00d-4b55-9afc-6b1cf2a1aff2 has 'Input' in their 'Examples' column\n",
      "1aeb3246-4c22-4d34-a48c-db7be8ba1b94 has 'Input' in their 'Examples' column\n",
      "ac641352-08d5-4950-8993-6a143da92ecf has 'Input' in their 'Examples' column\n",
      "5e7011e5-fee4-4c1a-a98f-3b81e50508cc has 'Input' in their 'Examples' column\n",
      "e35d1110-85e8-4f50-80aa-91eb976b310b has 'Input' in their 'Examples' column\n",
      "9a970ea6-ed80-4fd3-a257-f01e0a8d5eaa has 'Input' in their 'Examples' column\n",
      "80e34b28-16a8-46ac-8b6a-ee28beb1e8d4 has 'Input' in their 'Examples' column\n",
      "d0ce7430-cfcd-4c69-b161-b3b2a186422c has 'Input' in their 'Examples' column\n",
      "87372a22-f5ef-4100-845b-28700ca3fde3 has 'Input' in their 'Examples' column\n",
      "56b48f6d-0d81-478d-b838-4d47b62d3031 has 'Input' in their 'Examples' column\n"
     ]
    }
   ],
   "source": [
    "calvin_filter = check_for_substring(df_calvin, \"Examples\", 'Input')"
   ]
  },
  {
   "cell_type": "code",
   "execution_count": 245,
   "id": "85b14d04",
   "metadata": {},
   "outputs": [],
   "source": [
    "df_calvin = df_calvin.loc[calvin_filter]"
   ]
  },
  {
   "cell_type": "code",
   "execution_count": 246,
   "id": "341cd4f7",
   "metadata": {},
   "outputs": [
    {
     "name": "stdout",
     "output_type": "stream",
     "text": [
      "67\n"
     ]
    }
   ],
   "source": [
    "print(len(df_karthik)+len(df_hafeez)+len(df_calvin))"
   ]
  },
  {
   "cell_type": "code",
   "execution_count": 247,
   "id": "c1c21d91",
   "metadata": {},
   "outputs": [],
   "source": [
    "import json\n",
    "def make_list(df, index_dict, author):\n",
    "    df_list = []\n",
    "    for index, row in df.iterrows():\n",
    "        temp = {}\n",
    "        temp['author'] = author\n",
    "        temp['UUID'] = row['UUID']\n",
    "        for i in index_dict:\n",
    "            if index_dict[i]:\n",
    "                if not isinstance(index_dict[i], tuple):\n",
    "                    temp[i] = row[index_dict[i]]\n",
    "                else:\n",
    "                    idx = index_dict[i][0]\n",
    "                    if isinstance(index_dict[i][1], str):\n",
    "                        temp[i] = [row[idx]]\n",
    "                    else:\n",
    "                        temp[i] = [row[idx].replace('[','').replace(']','')]\n",
    "        df_list.append(temp)\n",
    "    return df_list\n",
    "    \n",
    "    \n",
    "    "
   ]
  },
  {
   "cell_type": "code",
   "execution_count": 248,
   "id": "674e9e43",
   "metadata": {},
   "outputs": [],
   "source": [
    "karthik_index_dict = {\"question\":\"Question\", \"examples\":\"Question Example/Explanation\", \"link\":\"Link\", \"difficulty\":\"Difficulty\", \"categories\":(\"Categories\", list), 'code': \"Method 1\",'asserts':\"Assert Statement 1\"}\n",
    "hafeez_index_dict = {\"question\":\"Question\", \"examples\":\"Examples\", \"link\":\"Link \", \"difficulty\":\"Difficulty\", \"categories\":(\"Categories\", str), 'code': \"Code\",'asserts':\"Asserts\"}\n",
    "calvin_index_dict = {\"question\":\"Question\", \"examples\":\"Examples\", \"link\":\"Link for ref (if any)\", \"difficulty\":None, \"categories\":(\"Categories\", list), 'code': \"Code\",'asserts':\"Assert Statement 1\"}\n"
   ]
  },
  {
   "cell_type": "code",
   "execution_count": 249,
   "id": "b4e94892",
   "metadata": {},
   "outputs": [],
   "source": [
    "karthik_df_list = make_list(df_karthik, karthik_index_dict, 'Karthik')\n",
    "hafeez_df_list = make_list(df_hafeez, hafeez_index_dict, \"Hafeez\")\n",
    "calvin_df_list = make_list(df_calvin, calvin_index_dict, \"Calvin\")"
   ]
  },
  {
   "cell_type": "code",
   "execution_count": 250,
   "id": "32e06e0e",
   "metadata": {},
   "outputs": [
    {
     "data": {
      "text/plain": [
       "67"
      ]
     },
     "execution_count": 250,
     "metadata": {},
     "output_type": "execute_result"
    }
   ],
   "source": [
    "len(karthik_df_list)+len(hafeez_df_list)+len(calvin_df_list)"
   ]
  },
  {
   "cell_type": "code",
   "execution_count": 251,
   "id": "16144cb6",
   "metadata": {},
   "outputs": [],
   "source": [
    "def has_multiple_occurrences(string, substring):\n",
    "    return string.count(substring) >= 2"
   ]
  },
  {
   "cell_type": "code",
   "execution_count": 252,
   "id": "9574ff16",
   "metadata": {},
   "outputs": [],
   "source": [
    "combined_list = karthik_df_list+hafeez_df_list+calvin_df_list"
   ]
  },
  {
   "cell_type": "code",
   "execution_count": 257,
   "id": "e70e4651",
   "metadata": {
    "scrolled": true
   },
   "outputs": [],
   "source": [
    "for idx, i in enumerate(combined_list):\n",
    "    assert_list = i['asserts'].split('\\n')\n",
    "    assert_list = [j for j in assert_list if j]\n",
    "    if len(assert_list)>1:\n",
    "        assert_list = assert_list[:1]\n",
    "    combined_list[idx]['asserts'] = assert_list \n",
    "    "
   ]
  },
  {
   "cell_type": "code",
   "execution_count": 258,
   "id": "21f4bdf8",
   "metadata": {},
   "outputs": [],
   "source": [
    "import re\n",
    "def remove_empty_lines(string):\n",
    "    return re.sub(r'\\n\\s*\\n', '\\n', string)\n"
   ]
  },
  {
   "cell_type": "code",
   "execution_count": 259,
   "id": "d0d9a3ab",
   "metadata": {},
   "outputs": [],
   "source": [
    "# for idx in range(len(combined_list)):\n",
    "#     combined_list[idx]['code'] = remove_empty_lines(combined_list[idx]['code']).replace('        ', ' '*4).strip()"
   ]
  },
  {
   "cell_type": "code",
   "execution_count": 260,
   "id": "6ad84600",
   "metadata": {},
   "outputs": [],
   "source": [
    "with open('seed_data_Nov18.json', 'w') as json_file:\n",
    "    json.dump(combined_list, json_file)"
   ]
  },
  {
   "cell_type": "code",
   "execution_count": null,
   "id": "98564cdb",
   "metadata": {},
   "outputs": [],
   "source": []
  }
 ],
 "metadata": {
  "kernelspec": {
   "display_name": "Python 3",
   "language": "python",
   "name": "python3"
  },
  "language_info": {
   "codemirror_mode": {
    "name": "ipython",
    "version": 3
   },
   "file_extension": ".py",
   "mimetype": "text/x-python",
   "name": "python",
   "nbconvert_exporter": "python",
   "pygments_lexer": "ipython3",
   "version": "3.8.8"
  }
 },
 "nbformat": 4,
 "nbformat_minor": 5
}
