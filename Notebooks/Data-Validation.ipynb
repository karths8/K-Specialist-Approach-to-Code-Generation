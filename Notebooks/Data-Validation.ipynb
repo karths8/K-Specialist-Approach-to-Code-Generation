{
 "cells": [
  {
   "cell_type": "code",
   "execution_count": 5,
   "id": "58291499",
   "metadata": {},
   "outputs": [],
   "source": [
    "import json\n",
    "with open('../Data_files/seed_data_final_Nov18.json', 'r') as json_file:\n",
    "    seed = json.load(json_file)"
   ]
  },
  {
   "cell_type": "code",
   "execution_count": 1,
   "id": "311b44f3",
   "metadata": {
    "scrolled": true
   },
   "outputs": [
    {
     "name": "stdout",
     "output_type": "stream",
     "text": [
      "/Users/karthiksuresh/.zshenv:1: /Library/Java/JavaVirtualMachines/jdk1.8.0_301.jdk/Contents/Home/lib not found\n",
      "Collecting rouge-score\n",
      "  Downloading rouge_score-0.1.2.tar.gz (17 kB)\n",
      "  Preparing metadata (setup.py) ... \u001b[?25ldone\n",
      "\u001b[?25hRequirement already satisfied: absl-py in /Users/karthiksuresh/opt/anaconda3/lib/python3.8/site-packages (from rouge-score) (1.3.0)\n",
      "Requirement already satisfied: nltk in /Users/karthiksuresh/opt/anaconda3/lib/python3.8/site-packages (from rouge-score) (3.6.1)\n",
      "Requirement already satisfied: numpy in /Users/karthiksuresh/opt/anaconda3/lib/python3.8/site-packages (from rouge-score) (1.24.3)\n",
      "Requirement already satisfied: six>=1.14.0 in /Users/karthiksuresh/opt/anaconda3/lib/python3.8/site-packages (from rouge-score) (1.15.0)\n",
      "Requirement already satisfied: click in /Users/karthiksuresh/opt/anaconda3/lib/python3.8/site-packages (from nltk->rouge-score) (8.1.7)\n",
      "Requirement already satisfied: joblib in /Users/karthiksuresh/opt/anaconda3/lib/python3.8/site-packages (from nltk->rouge-score) (1.0.1)\n",
      "Requirement already satisfied: regex in /Users/karthiksuresh/opt/anaconda3/lib/python3.8/site-packages (from nltk->rouge-score) (2021.4.4)\n",
      "Requirement already satisfied: tqdm in /Users/karthiksuresh/opt/anaconda3/lib/python3.8/site-packages (from nltk->rouge-score) (4.66.1)\n",
      "Building wheels for collected packages: rouge-score\n",
      "  Building wheel for rouge-score (setup.py) ... \u001b[?25ldone\n",
      "\u001b[?25h  Created wheel for rouge-score: filename=rouge_score-0.1.2-py3-none-any.whl size=24956 sha256=01dba862c7830b9f30cb00b199da99e67c0d26287e695badcec45cd712d43d6f\n",
      "  Stored in directory: /Users/karthiksuresh/Library/Caches/pip/wheels/24/55/6f/ebfc4cb176d1c9665da4e306e1705496206d08215c1acd9dde\n",
      "Successfully built rouge-score\n",
      "\u001b[33mDEPRECATION: pyodbc 4.0.0-unsupported has a non-standard version number. pip 23.3 will enforce this behaviour change. A possible replacement is to upgrade to a newer version of pyodbc or contact the author to suggest that they release a version with a conforming version number. Discussion can be found at https://github.com/pypa/pip/issues/12063\u001b[0m\u001b[33m\n",
      "\u001b[0mInstalling collected packages: rouge-score\n",
      "Successfully installed rouge-score-0.1.2\n",
      "\n",
      "\u001b[1m[\u001b[0m\u001b[34;49mnotice\u001b[0m\u001b[1;39;49m]\u001b[0m\u001b[39;49m A new release of pip is available: \u001b[0m\u001b[31;49m22.0.4\u001b[0m\u001b[39;49m -> \u001b[0m\u001b[32;49m23.3.1\u001b[0m\n",
      "\u001b[1m[\u001b[0m\u001b[34;49mnotice\u001b[0m\u001b[1;39;49m]\u001b[0m\u001b[39;49m To update, run: \u001b[0m\u001b[32;49mpip install --upgrade pip\u001b[0m\n"
     ]
    }
   ],
   "source": [
    "!pip install rouge-score"
   ]
  },
  {
   "cell_type": "code",
   "execution_count": 22,
   "id": "eb51411e",
   "metadata": {},
   "outputs": [
    {
     "ename": "TypeError",
     "evalue": "score() takes 3 positional arguments but 4 were given",
     "output_type": "error",
     "traceback": [
      "\u001b[0;31m---------------------------------------------------------------------------\u001b[0m",
      "\u001b[0;31mTypeError\u001b[0m                                 Traceback (most recent call last)",
      "\u001b[0;32m<ipython-input-22-c74a1e7ff9d1>\u001b[0m in \u001b[0;36m<module>\u001b[0;34m\u001b[0m\n\u001b[1;32m      1\u001b[0m \u001b[0mscorer\u001b[0m \u001b[0;34m=\u001b[0m \u001b[0mrouge_scorer\u001b[0m\u001b[0;34m.\u001b[0m\u001b[0mRougeScorer\u001b[0m\u001b[0;34m(\u001b[0m\u001b[0;34m[\u001b[0m\u001b[0;34m'rougeL'\u001b[0m\u001b[0;34m]\u001b[0m\u001b[0;34m,\u001b[0m \u001b[0muse_stemmer\u001b[0m\u001b[0;34m=\u001b[0m\u001b[0;32mTrue\u001b[0m\u001b[0;34m)\u001b[0m\u001b[0;34m\u001b[0m\u001b[0;34m\u001b[0m\u001b[0m\n\u001b[0;32m----> 2\u001b[0;31m scores = scorer.score('Calculate the number of times the dog jumps over the cat this rumtaaa',\n\u001b[0m\u001b[1;32m      3\u001b[0m                       'Calculate the fibonacci sequencssssesa hello but nobody sees msse','djhbjfbda')\n\u001b[1;32m      4\u001b[0m \u001b[0mscores\u001b[0m\u001b[0;34m[\u001b[0m\u001b[0;34m'rougeL'\u001b[0m\u001b[0;34m]\u001b[0m\u001b[0;34m.\u001b[0m\u001b[0mfmeasure\u001b[0m\u001b[0;34m\u001b[0m\u001b[0;34m\u001b[0m\u001b[0m\n",
      "\u001b[0;31mTypeError\u001b[0m: score() takes 3 positional arguments but 4 were given"
     ]
    }
   ],
   "source": [
    "\n",
    "\n",
    "scorer = rouge_scorer.RougeScorer(['rougeL'], use_stemmer=True)\n",
    "scores = scorer.score('Calculate the number of times the dog jumps over the cat this rumtaaa',\n",
    "                      'Calculate the fibonacci sequencssssesa hello but nobody sees msse',\\)\n",
    "scores['rougeL'].fmeasure"
   ]
  },
  {
   "cell_type": "code",
   "execution_count": 16,
   "id": "0a50c166",
   "metadata": {},
   "outputs": [
    {
     "data": {
      "text/plain": [
       "0.6086956521739131"
      ]
     },
     "execution_count": 16,
     "metadata": {},
     "output_type": "execute_result"
    }
   ],
   "source": [
    "import difflib\n",
    "a = 'Hello, All you people'\n",
    "b = 'hello, all You peopleee hello my name is karthik'\n",
    "seq=difflib.SequenceMatcher(a=a.lower(), b=b.lower())\n",
    "seq.ratio()"
   ]
  },
  {
   "cell_type": "code",
   "execution_count": null,
   "id": "1b1b22dc",
   "metadata": {},
   "outputs": [],
   "source": [
    "from rouge_score import rouge_scorer\n",
    "def check_rouge(generation,seed_set, threshold=0.8):\n",
    "    scorer = rouge_scorer.RougeScorer(['rougeL'], use_stemmer=True)\n",
    "    scores = []\n",
    "    for i in seed_set:\n",
    "        score = scorer.score(generation,i)\n",
    "        scores.append(score['rougeL'].fmeasure)\n",
    "    return scores\n",
    "\n",
    "def check_generated_asserts(assert_list):\n",
    "    mod_array_list = [s.replace(' ','') for s in assert_list]\n",
    "    return len(set(mod_array_list))==len(mod_array_list)\n",
    "    "
   ]
  }
 ],
 "metadata": {
  "kernelspec": {
   "display_name": "Python 3",
   "language": "python",
   "name": "python3"
  },
  "language_info": {
   "codemirror_mode": {
    "name": "ipython",
    "version": 3
   },
   "file_extension": ".py",
   "mimetype": "text/x-python",
   "name": "python",
   "nbconvert_exporter": "python",
   "pygments_lexer": "ipython3",
   "version": "3.8.8"
  }
 },
 "nbformat": 4,
 "nbformat_minor": 5
}
