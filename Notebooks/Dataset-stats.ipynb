{
 "cells": [
  {
   "cell_type": "code",
   "execution_count": 5,
   "id": "bd3b5206-b9d2-4535-bdaa-24ce39c2644c",
   "metadata": {},
   "outputs": [
    {
     "ename": "AttributeError",
     "evalue": "'list' object has no attribute 'lower'",
     "output_type": "error",
     "traceback": [
      "\u001b[0;31m---------------------------------------------------------------------------\u001b[0m",
      "\u001b[0;31mAttributeError\u001b[0m                            Traceback (most recent call last)",
      "Cell \u001b[0;32mIn[5], line 12\u001b[0m\n\u001b[1;32m      3\u001b[0m text \u001b[38;5;241m=\u001b[39m [\u001b[38;5;124m\"\"\"\u001b[39m\u001b[38;5;124mMeasure of textual lexical diversity, computed as the mean length of sequential words in\u001b[39m\n\u001b[1;32m      4\u001b[0m \u001b[38;5;124m                a text that maintains a minimum threshold TTR score.\u001b[39m\n\u001b[1;32m      5\u001b[0m \n\u001b[0;32m   (...)\u001b[0m\n\u001b[1;32m      8\u001b[0m \u001b[38;5;124m                threshold in the range of [0.660, 0.750].\u001b[39m\n\u001b[1;32m      9\u001b[0m \u001b[38;5;124m                (McCarthy 2005, McCarthy and Jarvis 2010)\u001b[39m\u001b[38;5;124m\"\"\"\u001b[39m,\u001b[38;5;124m'\u001b[39m\u001b[38;5;124mSomething random\u001b[39m\u001b[38;5;124m'\u001b[39m]\n\u001b[1;32m     11\u001b[0m \u001b[38;5;66;03m# instantiate new text object (use the tokenizer=blobber argument to use the textblob tokenizer)\u001b[39;00m\n\u001b[0;32m---> 12\u001b[0m lex \u001b[38;5;241m=\u001b[39m \u001b[43mLexicalRichness\u001b[49m\u001b[43m(\u001b[49m\u001b[43mtext\u001b[49m\u001b[43m)\u001b[49m\n",
      "File \u001b[0;32m/usr/local/lib/python3.10/dist-packages/lexicalrichness/lexicalrichness.py:248\u001b[0m, in \u001b[0;36mLexicalRichness.__init__\u001b[0;34m(self, text, preprocessor, tokenizer)\u001b[0m\n\u001b[1;32m    246\u001b[0m \u001b[38;5;28;01mif\u001b[39;00m \u001b[38;5;28mself\u001b[39m\u001b[38;5;241m.\u001b[39mtokenizer:\n\u001b[1;32m    247\u001b[0m     \u001b[38;5;28;01mif\u001b[39;00m \u001b[38;5;28mself\u001b[39m\u001b[38;5;241m.\u001b[39mpreprocessor:\n\u001b[0;32m--> 248\u001b[0m         text \u001b[38;5;241m=\u001b[39m \u001b[38;5;28;43mself\u001b[39;49m\u001b[38;5;241;43m.\u001b[39;49m\u001b[43mpreprocessor\u001b[49m\u001b[43m(\u001b[49m\u001b[43mtext\u001b[49m\u001b[43m)\u001b[49m\n\u001b[1;32m    249\u001b[0m     \u001b[38;5;28mself\u001b[39m\u001b[38;5;241m.\u001b[39mwordlist \u001b[38;5;241m=\u001b[39m \u001b[38;5;28mself\u001b[39m\u001b[38;5;241m.\u001b[39mtokenizer(text)\n\u001b[1;32m    250\u001b[0m \u001b[38;5;28;01melse\u001b[39;00m:\n",
      "File \u001b[0;32m/usr/local/lib/python3.10/dist-packages/lexicalrichness/lexicalrichness.py:58\u001b[0m, in \u001b[0;36mpreprocess\u001b[0;34m(text)\u001b[0m\n\u001b[1;32m     43\u001b[0m \u001b[38;5;250m\u001b[39m\u001b[38;5;124;03m\"\"\"Preprocess text (minimal).\u001b[39;00m\n\u001b[1;32m     44\u001b[0m \n\u001b[1;32m     45\u001b[0m \u001b[38;5;124;03m1. lower case\u001b[39;00m\n\u001b[0;32m   (...)\u001b[0m\n\u001b[1;32m     55\u001b[0m \u001b[38;5;124;03mstring\u001b[39;00m\n\u001b[1;32m     56\u001b[0m \u001b[38;5;124;03m\"\"\"\u001b[39;00m\n\u001b[1;32m     57\u001b[0m \u001b[38;5;66;03m# lowercase and remove digits\u001b[39;00m\n\u001b[0;32m---> 58\u001b[0m text \u001b[38;5;241m=\u001b[39m re\u001b[38;5;241m.\u001b[39msub(\u001b[38;5;124mr\u001b[39m\u001b[38;5;124m\"\u001b[39m\u001b[38;5;124m[0-9]+\u001b[39m\u001b[38;5;124m\"\u001b[39m, \u001b[38;5;124m\"\u001b[39m\u001b[38;5;124m\"\u001b[39m, \u001b[43mtext\u001b[49m\u001b[38;5;241;43m.\u001b[39;49m\u001b[43mlower\u001b[49m())\n\u001b[1;32m     60\u001b[0m \u001b[38;5;66;03m# Replace dashes/hyphens\u001b[39;00m\n\u001b[1;32m     61\u001b[0m \u001b[38;5;28;01mif\u001b[39;00m sys\u001b[38;5;241m.\u001b[39mversion_info[\u001b[38;5;241m0\u001b[39m] \u001b[38;5;241m==\u001b[39m \u001b[38;5;241m3\u001b[39m:\n",
      "\u001b[0;31mAttributeError\u001b[0m: 'list' object has no attribute 'lower'"
     ]
    }
   ],
   "source": [
    "from lexicalrichness import LexicalRichness\n",
    "\n",
    "text = [\"\"\"Measure of textual lexical diversity, computed as the mean length of sequential words in\n",
    "                a text that maintains a minimum threshold TTR score.\n",
    "\n",
    "                Iterates over words until TTR scores falls below a threshold, then increase factor\n",
    "                counter by 1 and start over. McCarthy and Jarvis (2010, pg. 385) recommends a factor\n",
    "                threshold in the range of [0.660, 0.750].\n",
    "                (McCarthy 2005, McCarthy and Jarvis 2010)\"\"\",'Something random']\n",
    "\n",
    "# instantiate new text object (use the tokenizer=blobber argument to use the textblob tokenizer)\n",
    "\n"
   ]
  },
  {
   "cell_type": "code",
   "execution_count": 5,
   "id": "c99e51e1-3a20-4f0d-b6c0-79abcf8e9ed7",
   "metadata": {},
   "outputs": [],
   "source": [
    "import numpy as np\n",
    "def make_dictionary(dataset):\n",
    "    d_dict = dataset.to_dict()\n",
    "    d_list = []\n",
    "    for i in range(len(d_dict['task_id'])):\n",
    "        d_list.append({k:d_dict[k][i] for k in d_dict})\n",
    "    return d_list"
   ]
  },
  {
   "cell_type": "code",
   "execution_count": 87,
   "id": "e63505f0-45cb-4bd8-b92e-c957848aa980",
   "metadata": {},
   "outputs": [],
   "source": [
    "from lexicalrichness import LexicalRichness\n",
    "def calculate_mtld(text):\n",
    "    lex = LexicalRichness(text)\n",
    "    try:\n",
    "        result = lex.mtld(threshold=0.72)\n",
    "    except ZeroDivisionError as e:\n",
    "        result = None\n",
    "    return result\n",
    "\n",
    "import numpy as np\n",
    "from sklearn.metrics.pairwise import cosine_similarity\n",
    "\n",
    "def calculate_spread_cosine(embeddings):\n",
    "    \"\"\"\n",
    "    Calculate the spread using cosine similarity between embeddings.\n",
    "    \"\"\"\n",
    "    print('Started Cosine Sim')\n",
    "    # Assuming embeddings is a numpy array where each row represents the embedding of a word\n",
    "    similarity_matrix = cosine_similarity(embeddings)\n",
    "    print('Finished Cosine Sim')\n",
    "    # Exclude self-similarity (diagonal) and take the average of the remaining similarities\n",
    "    spread_cosine = np.mean(similarity_matrix[np.triu_indices(similarity_matrix.shape[0], k=1)])\n",
    "    \n",
    "    return spread_cosine\n",
    "def normalize_score(score, min_range, max_range):\n",
    "    \"\"\"\n",
    "    Normalize a score within a given range.\n",
    "    \"\"\"\n",
    "    # normalized_score = (score - min_range) / (max_range - min_range)\n",
    "    return score\n",
    "\n",
    "def get_MTLD_list(samples):\n",
    "    probs, mtld_list = [], []\n",
    "    for i in samples:\n",
    "        if calculate_mtld(i):\n",
    "            mtld_list.append(calculate_mtld(i))\n",
    "        else:\n",
    "            probs.append(i)\n",
    "    return probs, mtld_list"
   ]
  },
  {
   "cell_type": "code",
   "execution_count": 110,
   "id": "1db82874-a1aa-4f8b-af39-0f4b0399db27",
   "metadata": {},
   "outputs": [
    {
     "ename": "NameError",
     "evalue": "name 'seed' is not defined",
     "output_type": "error",
     "traceback": [
      "\u001b[0;31m---------------------------------------------------------------------------\u001b[0m",
      "\u001b[0;31mNameError\u001b[0m                                 Traceback (most recent call last)",
      "Cell \u001b[0;32mIn[110], line 1\u001b[0m\n\u001b[0;32m----> 1\u001b[0m \u001b[38;5;28mlen\u001b[39m(\u001b[43mseed\u001b[49m)\n",
      "\u001b[0;31mNameError\u001b[0m: name 'seed' is not defined"
     ]
    }
   ],
   "source": [
    "len(seed)"
   ]
  },
  {
   "cell_type": "code",
   "execution_count": 101,
   "id": "c5595bff-79ae-4ed8-a782-b20f40ee9a3d",
   "metadata": {},
   "outputs": [],
   "source": [
    "import json\n",
    "import pickle\n",
    "def calculate_diversity_score(dataset,model,dataset_name, question_key='question', code_key='code'):\n",
    "    print('Starting for new dataset\\n\\n')\n",
    "    min_range = 0.7775569693909751\n",
    "    max_range = 0.9527710969170251\n",
    "    questions = [i[question_key] for i in dataset]\n",
    "    code = [i[code_key] for i in dataset]\n",
    "    print('Calculating MTLD!')\n",
    "    question_probs, question_mtld = get_MTLD_list(questions)\n",
    "    print(f'Length of probs = {len(question_probs)}')\n",
    "    print(f'Length of MTLD list = {len(question_mtld)}')\n",
    "    print()\n",
    "    code_probs, code_mtld = get_MTLD_list(code)\n",
    "    print(f'Length of probs = {len(code_probs)}')\n",
    "    print(f'Length of MTLD list = {len(code_mtld)}')\n",
    "    question_mtld = sum(question_mtld)/len(question_mtld)\n",
    "    code_mtld = sum(code_mtld)/len(code_mtld)\n",
    "    sample_num = min(len(questions),5000)\n",
    "    sampled_numbers = random.sample(range(len(questions)), sample_num)\n",
    "    sampled_questions = [i for idx, i in enumerate(questions) if idx in sampled_numbers]\n",
    "    sampled_code = [i for idx, i in enumerate(code) if idx in sampled_numbers]\n",
    "    print('MTLD Done!')\n",
    "    print('Preparing embeddings!')\n",
    "    question_embeddings = model.encode(sampled_questions,show_progress_bar=True, batch_size=512, device='cuda')\n",
    "    # with open(f'question_embeddings_{dataset_name}.pkl', \"wb\") as fOut:\n",
    "    #     pickle.dump({'sentences': questions, 'embeddings': question_embeddings}, fOut, protocol=pickle.HIGHEST_PROTOCOL)\n",
    "    code_embeddings = model.encode(sampled_code,show_progress_bar=True, batch_size=512, device='cuda')\n",
    "    # with open(f'code_embeddings_{dataset_name}.pkl', \"wb\") as fOut:\n",
    "    #     pickle.dump({'sentences': code, 'embeddings': code_embeddings}, fOut, protocol=pickle.HIGHEST_PROTOCOL)\n",
    "    print('Embedings done!')\n",
    "    print('Calculating spread!')\n",
    "    question_spread = normalize_score(calculate_spread_cosine(question_embeddings), min_range, max_range)\n",
    "    code_spread = normalize_score(calculate_spread_cosine(code_embeddings), min_range, max_range)\n",
    "    print('Spread calc done!')\n",
    "    return question_mtld, code_mtld, question_spread, code_spread\n",
    "    "
   ]
  },
  {
   "cell_type": "code",
   "execution_count": 49,
   "id": "0488528a-4c7e-49ef-b278-b1d99b7cb27d",
   "metadata": {},
   "outputs": [
    {
     "name": "stdout",
     "output_type": "stream",
     "text": [
      "Loading Model!\n",
      "Model Loaded!\n"
     ]
    }
   ],
   "source": [
    "from sentence_transformers import SentenceTransformer, util\n",
    "print('Loading Model!')\n",
    "model = SentenceTransformer('/workspace/CS762_Project/e5-base-v2', device='cuda')\n",
    "print('Model Loaded!')"
   ]
  },
  {
   "cell_type": "code",
   "execution_count": 50,
   "id": "2af402be-948e-45f4-a619-e151d6de2700",
   "metadata": {
    "scrolled": true
   },
   "outputs": [],
   "source": [
    "from datasets import load_dataset\n",
    "\n",
    "evol_codealpaca_v1 = load_dataset(\"theblackcat102/evol-codealpaca-v1\")\n",
    "evol_instruct_code_v1 = load_dataset(\"nickrosh/Evol-Instruct-Code-80k-v1\")\n",
    "magicoder_instruct = load_dataset(\"ise-uiuc/Magicoder-OSS-Instruct-75K\")\n",
    "magicoder_evol_instruct = load_dataset(\"ise-uiuc/Magicoder-Evol-Instruct-110K\")\n",
    "with open('/workspace/CS762_Project/code_alpaca_20k.json', 'r') as fp:\n",
    "    code_alpaca = json.load(fp)\n",
    "with open('/workspace/CS762_Project/Data_files/final_combined_data_Dec15_mod_asserts.json', 'r') as fp:\n",
    "    code_mix = json.load(fp)"
   ]
  },
  {
   "cell_type": "code",
   "execution_count": 51,
   "id": "0635195a-3ab5-4127-b450-3aadabb6f420",
   "metadata": {
    "scrolled": true
   },
   "outputs": [],
   "source": [
    "# print(evol_codealpaca_v1['train'][0])\n",
    "# print(evol_instruct_code_v1['train'][0])\n",
    "# print(magicoder_instruct['train'][0])\n",
    "# print(magicoder_evol_instruct['train'][0])\n",
    "# print(code_alpaca[0])"
   ]
  },
  {
   "cell_type": "code",
   "execution_count": 60,
   "id": "afb89ccc-cc0d-4a0f-aa8f-7f36ee98e12c",
   "metadata": {},
   "outputs": [],
   "source": [
    "def filter_python(sample, q_key='question', c_key='code'):\n",
    "    question = sample[q_key].lower()\n",
    "    code = sample[c_key].lower()\n",
    "    if 'python' in question or 'python' in code:\n",
    "        return True\n",
    "    return False\n",
    "    \n",
    "    "
   ]
  },
  {
   "cell_type": "code",
   "execution_count": 52,
   "id": "79cc5380-818b-401c-8270-f81d987c7d05",
   "metadata": {},
   "outputs": [],
   "source": [
    "def make_dict_from_dataset(dataset):\n",
    "    return [i for i in dataset]"
   ]
  },
  {
   "cell_type": "code",
   "execution_count": 53,
   "id": "9e809cf1-f439-4f03-8d48-8ffc239dfde4",
   "metadata": {},
   "outputs": [],
   "source": [
    "evol_codealpaca_v1 = make_dict_from_dataset(evol_codealpaca_v1['train'])\n",
    "evol_instruct_code_v1 = make_dict_from_dataset(evol_instruct_code_v1['train'])\n",
    "magicoder_instruct = make_dict_from_dataset(magicoder_instruct['train'])\n",
    "magicoder_evol_instruct = make_dict_from_dataset(magicoder_evol_instruct['train'])"
   ]
  },
  {
   "cell_type": "code",
   "execution_count": 69,
   "id": "ea08a12c-99c5-4f90-8915-8edbbe00b4bb",
   "metadata": {},
   "outputs": [
    {
     "name": "stdout",
     "output_type": "stream",
     "text": [
      "Dataset evol_codealpaca_v1\n",
      "Dataset evol_instruct_code_v1\n",
      "Dataset magicoder_instruct\n",
      "Dataset magicoder_evol_instruct\n",
      "Dataset code_alpaca\n",
      "Dataset CodeMix-dataset\n"
     ]
    }
   ],
   "source": [
    "result_only_python = {}\n",
    "dataset_vars = [evol_codealpaca_v1, evol_instruct_code_v1, magicoder_instruct, magicoder_evol_instruct, code_alpaca, code_mix]\n",
    "name_mapping = ['evol_codealpaca_v1','evol_instruct_code_v1','magicoder_instruct','magicoder_evol_instruct','code_alpaca','CodeMix-dataset']\n",
    "keys = [{'question':'instruction', 'code':'output'}, {'question':'instruction', 'code':'output'}, {'question':'problem', 'code':'solution'}, {'question':'instruction', 'code':'response'},{'question':'instruction', 'code':'output'}, {'question':'question', 'code':'code'}]\n",
    "for idx1,d in enumerate(dataset_vars):\n",
    "    print(f'Dataset {name_mapping[idx1]}')\n",
    "    new_ds = []\n",
    "    for j in d:\n",
    "        if filter_python(j, q_key=keys[idx1]['question'], c_key=keys[idx1]['code']) or name_mapping[idx1]=='CodeMix-dataset' or name_mapping[idx1]=='magicoder_instruct':\n",
    "            new_ds.append(j)\n",
    "    result_only_python[name_mapping[idx1]] = new_ds"
   ]
  },
  {
   "cell_type": "code",
   "execution_count": 70,
   "id": "ed1f7453-1b98-46ad-b3a3-6a1812dfc850",
   "metadata": {},
   "outputs": [
    {
     "data": {
      "text/plain": [
       "{'evol_codealpaca_v1': 57997,\n",
       " 'evol_instruct_code_v1': 26588,\n",
       " 'magicoder_instruct': 75197,\n",
       " 'magicoder_evol_instruct': 57931,\n",
       " 'code_alpaca': 2672,\n",
       " 'CodeMix-dataset': 20252}"
      ]
     },
     "execution_count": 70,
     "metadata": {},
     "output_type": "execute_result"
    }
   ],
   "source": [
    "{k:len(v) for k,v in result_only_python.items()}"
   ]
  },
  {
   "cell_type": "code",
   "execution_count": 72,
   "id": "01b0e88a-aedb-4e82-956e-5ea7b72aacbe",
   "metadata": {},
   "outputs": [],
   "source": [
    "evol_codealpaca_v1_python = result_only_python['evol_codealpaca_v1']\n",
    "evol_instruct_code_v1_python = result_only_python['evol_instruct_code_v1']\n",
    "magicoder_instruct_python = result_only_python['magicoder_instruct']\n",
    "magicoder_evol_instruct_python = result_only_python['magicoder_evol_instruct']\n",
    "code_alpaca_python = result_only_python['code_alpaca']"
   ]
  },
  {
   "cell_type": "code",
   "execution_count": 54,
   "id": "97e600a9-0037-41ef-bdf0-6a2d67a71342",
   "metadata": {},
   "outputs": [
    {
     "data": {
      "text/plain": [
       "dict_keys(['instruction', 'response'])"
      ]
     },
     "execution_count": 54,
     "metadata": {},
     "output_type": "execute_result"
    }
   ],
   "source": [
    "magicoder_evol_instruct[1].keys()"
   ]
  },
  {
   "cell_type": "code",
   "execution_count": 76,
   "id": "3a40479d-43d7-4375-beef-cdfbc3886336",
   "metadata": {},
   "outputs": [
    {
     "data": {
      "text/plain": [
       "[1, 4]"
      ]
     },
     "execution_count": 76,
     "metadata": {},
     "output_type": "execute_result"
    }
   ],
   "source": [
    "import random\n",
    "\n",
    "random.sample([1,2,3,4],2)"
   ]
  },
  {
   "cell_type": "code",
   "execution_count": 102,
   "id": "c558fcbc-1dfa-45f5-ba88-8910b96cbad8",
   "metadata": {
    "scrolled": true
   },
   "outputs": [
    {
     "name": "stdout",
     "output_type": "stream",
     "text": [
      "Starting for evol_codealpaca_v1\n",
      "Starting for new dataset\n",
      "\n",
      "\n",
      "Calculating MTLD!\n",
      "Length of probs = 0\n",
      "Length of MTLD list = 57997\n",
      "\n",
      "Length of probs = 0\n",
      "Length of MTLD list = 57997\n",
      "MTLD Done!\n",
      "Preparing embeddings!\n"
     ]
    },
    {
     "data": {
      "application/vnd.jupyter.widget-view+json": {
       "model_id": "5059e00a76cc4424820f2c29fc196836",
       "version_major": 2,
       "version_minor": 0
      },
      "text/plain": [
       "Batches:   0%|          | 0/10 [00:00<?, ?it/s]"
      ]
     },
     "metadata": {},
     "output_type": "display_data"
    },
    {
     "data": {
      "application/vnd.jupyter.widget-view+json": {
       "model_id": "d8d7f4c94fb9466e9894998bef9e9dac",
       "version_major": 2,
       "version_minor": 0
      },
      "text/plain": [
       "Batches:   0%|          | 0/10 [00:00<?, ?it/s]"
      ]
     },
     "metadata": {},
     "output_type": "display_data"
    },
    {
     "name": "stdout",
     "output_type": "stream",
     "text": [
      "Embedings done!\n",
      "Calculating spread!\n",
      "Started Cosine Sim\n",
      "Finished Cosine Sim\n",
      "Started Cosine Sim\n",
      "Finished Cosine Sim\n",
      "Spread calc done!\n",
      "Starting for evol_instruct_code_v1\n",
      "Starting for new dataset\n",
      "\n",
      "\n",
      "Calculating MTLD!\n",
      "Length of probs = 0\n",
      "Length of MTLD list = 26588\n",
      "\n",
      "Length of probs = 21\n",
      "Length of MTLD list = 26567\n",
      "MTLD Done!\n",
      "Preparing embeddings!\n"
     ]
    },
    {
     "data": {
      "application/vnd.jupyter.widget-view+json": {
       "model_id": "b7efb6d984e4414c9575d5b1dd022bf8",
       "version_major": 2,
       "version_minor": 0
      },
      "text/plain": [
       "Batches:   0%|          | 0/10 [00:00<?, ?it/s]"
      ]
     },
     "metadata": {},
     "output_type": "display_data"
    },
    {
     "data": {
      "application/vnd.jupyter.widget-view+json": {
       "model_id": "5bcdbc3f3c94485d802eb31512f004a5",
       "version_major": 2,
       "version_minor": 0
      },
      "text/plain": [
       "Batches:   0%|          | 0/10 [00:00<?, ?it/s]"
      ]
     },
     "metadata": {},
     "output_type": "display_data"
    },
    {
     "name": "stdout",
     "output_type": "stream",
     "text": [
      "Embedings done!\n",
      "Calculating spread!\n",
      "Started Cosine Sim\n",
      "Finished Cosine Sim\n",
      "Started Cosine Sim\n",
      "Finished Cosine Sim\n",
      "Spread calc done!\n",
      "Starting for magicoder_instruct\n",
      "Starting for new dataset\n",
      "\n",
      "\n",
      "Calculating MTLD!\n",
      "Length of probs = 0\n",
      "Length of MTLD list = 38284\n",
      "\n",
      "Length of probs = 0\n",
      "Length of MTLD list = 38284\n",
      "MTLD Done!\n",
      "Preparing embeddings!\n"
     ]
    },
    {
     "data": {
      "application/vnd.jupyter.widget-view+json": {
       "model_id": "5511ad1d9f094d7ebc057fddba9f61e5",
       "version_major": 2,
       "version_minor": 0
      },
      "text/plain": [
       "Batches:   0%|          | 0/10 [00:00<?, ?it/s]"
      ]
     },
     "metadata": {},
     "output_type": "display_data"
    },
    {
     "data": {
      "application/vnd.jupyter.widget-view+json": {
       "model_id": "a2f0c41f1d7341ea80fa67c720ab3e0a",
       "version_major": 2,
       "version_minor": 0
      },
      "text/plain": [
       "Batches:   0%|          | 0/10 [00:00<?, ?it/s]"
      ]
     },
     "metadata": {},
     "output_type": "display_data"
    },
    {
     "name": "stdout",
     "output_type": "stream",
     "text": [
      "Embedings done!\n",
      "Calculating spread!\n",
      "Started Cosine Sim\n",
      "Finished Cosine Sim\n",
      "Started Cosine Sim\n",
      "Finished Cosine Sim\n",
      "Spread calc done!\n",
      "Starting for magicoder_evol_instruct\n",
      "Starting for new dataset\n",
      "\n",
      "\n",
      "Calculating MTLD!\n",
      "Length of probs = 0\n",
      "Length of MTLD list = 57931\n",
      "\n",
      "Length of probs = 0\n",
      "Length of MTLD list = 57931\n",
      "MTLD Done!\n",
      "Preparing embeddings!\n"
     ]
    },
    {
     "data": {
      "application/vnd.jupyter.widget-view+json": {
       "model_id": "5e7f0d5d5b504c4cb4faa7ec03dbe279",
       "version_major": 2,
       "version_minor": 0
      },
      "text/plain": [
       "Batches:   0%|          | 0/10 [00:00<?, ?it/s]"
      ]
     },
     "metadata": {},
     "output_type": "display_data"
    },
    {
     "data": {
      "application/vnd.jupyter.widget-view+json": {
       "model_id": "70c884c23fe049f689a16d2e2202eaee",
       "version_major": 2,
       "version_minor": 0
      },
      "text/plain": [
       "Batches:   0%|          | 0/10 [00:00<?, ?it/s]"
      ]
     },
     "metadata": {},
     "output_type": "display_data"
    },
    {
     "name": "stdout",
     "output_type": "stream",
     "text": [
      "Embedings done!\n",
      "Calculating spread!\n",
      "Started Cosine Sim\n",
      "Finished Cosine Sim\n",
      "Started Cosine Sim\n",
      "Finished Cosine Sim\n",
      "Spread calc done!\n",
      "Starting for code_alpaca\n",
      "Starting for new dataset\n",
      "\n",
      "\n",
      "Calculating MTLD!\n",
      "Length of probs = 0\n",
      "Length of MTLD list = 2672\n",
      "\n",
      "Length of probs = 15\n",
      "Length of MTLD list = 2657\n",
      "MTLD Done!\n",
      "Preparing embeddings!\n"
     ]
    },
    {
     "data": {
      "application/vnd.jupyter.widget-view+json": {
       "model_id": "1d30d63caaea464ea94d43d01e79e9ed",
       "version_major": 2,
       "version_minor": 0
      },
      "text/plain": [
       "Batches:   0%|          | 0/6 [00:00<?, ?it/s]"
      ]
     },
     "metadata": {},
     "output_type": "display_data"
    },
    {
     "data": {
      "application/vnd.jupyter.widget-view+json": {
       "model_id": "6793a856ad354dd28de51b02c33abb69",
       "version_major": 2,
       "version_minor": 0
      },
      "text/plain": [
       "Batches:   0%|          | 0/6 [00:00<?, ?it/s]"
      ]
     },
     "metadata": {},
     "output_type": "display_data"
    },
    {
     "name": "stdout",
     "output_type": "stream",
     "text": [
      "Embedings done!\n",
      "Calculating spread!\n",
      "Started Cosine Sim\n",
      "Finished Cosine Sim\n",
      "Started Cosine Sim\n",
      "Finished Cosine Sim\n",
      "Spread calc done!\n",
      "Starting for CodeMix-dataset\n",
      "Starting for new dataset\n",
      "\n",
      "\n",
      "Calculating MTLD!\n",
      "Length of probs = 1\n",
      "Length of MTLD list = 20251\n",
      "\n",
      "Length of probs = 0\n",
      "Length of MTLD list = 20252\n",
      "MTLD Done!\n",
      "Preparing embeddings!\n"
     ]
    },
    {
     "data": {
      "application/vnd.jupyter.widget-view+json": {
       "model_id": "c6aa0c8eca7f4f8eb6162070005f4e55",
       "version_major": 2,
       "version_minor": 0
      },
      "text/plain": [
       "Batches:   0%|          | 0/10 [00:00<?, ?it/s]"
      ]
     },
     "metadata": {},
     "output_type": "display_data"
    },
    {
     "data": {
      "application/vnd.jupyter.widget-view+json": {
       "model_id": "ea519072f33e4b1aad61b3183ad65937",
       "version_major": 2,
       "version_minor": 0
      },
      "text/plain": [
       "Batches:   0%|          | 0/10 [00:00<?, ?it/s]"
      ]
     },
     "metadata": {},
     "output_type": "display_data"
    },
    {
     "name": "stdout",
     "output_type": "stream",
     "text": [
      "Embedings done!\n",
      "Calculating spread!\n",
      "Started Cosine Sim\n",
      "Finished Cosine Sim\n",
      "Started Cosine Sim\n",
      "Finished Cosine Sim\n",
      "Spread calc done!\n"
     ]
    }
   ],
   "source": [
    "result_dict = {}\n",
    "random.seed(42)\n",
    "# dataset_vars = [evol_codealpaca_v1, evol_instruct_code_v1, magicoder_instruct, magicoder_evol_instruct, code_alpaca, code_mix]\n",
    "dataset_vars = [evol_codealpaca_v1_python, evol_instruct_code_v1_python, magicoder_instruct_python, magicoder_evol_instruct_python, code_alpaca_python, code_mix]\n",
    "name_mapping = ['evol_codealpaca_v1','evol_instruct_code_v1','magicoder_instruct','magicoder_evol_instruct','code_alpaca','CodeMix-dataset']\n",
    "keys = [{'question':'instruction', 'code':'output'}, {'question':'instruction', 'code':'output'}, {'question':'problem', 'code':'solution'}, {'question':'instruction', 'code':'response'},{'question':'instruction', 'code':'output'}, {'question':'question', 'code':'code'}]\n",
    "for idx, i in enumerate(dataset_vars):\n",
    "    ds_name = name_mapping[idx]\n",
    "    q_key = keys[idx]['question']\n",
    "    c_key = keys[idx]['code']\n",
    "    print(f'Starting for {ds_name}')\n",
    "    if ds_name=='magicoder_instruct':\n",
    "        new_ds = [t for t in i if t['lang']=='python']\n",
    "        question_mtld, code_mtld, question_spread, code_spread = calculate_diversity_score(new_ds,model,ds_name, question_key=q_key, code_key=c_key)\n",
    "    else:\n",
    "        question_mtld, code_mtld, question_spread, code_spread = calculate_diversity_score(i,model,ds_name,question_key=q_key, code_key=c_key)\n",
    "    result_dict[ds_name] = {'question_mtld':question_mtld, 'code_mtld':code_mtld, 'question_spread':float(question_spread), 'code_spread':float(code_spread)}\n",
    "    with open('diversity_results_v2.json', 'w') as json_file:\n",
    "        json.dump(result_dict, json_file, indent=4)"
   ]
  },
  {
   "cell_type": "code",
   "execution_count": 103,
   "id": "e4dc2496-f192-46e1-b1cd-e17da1b6279d",
   "metadata": {},
   "outputs": [
    {
     "data": {
      "text/plain": [
       "{'evol_codealpaca_v1': {'question_mtld': 59.06801438647717,\n",
       "  'code_mtld': 35.26156405023193,\n",
       "  'question_spread': 0.7789011597633362,\n",
       "  'code_spread': 0.8093565702438354},\n",
       " 'evol_instruct_code_v1': {'question_mtld': 42.450001621497854,\n",
       "  'code_mtld': 24.204403985269664,\n",
       "  'question_spread': 0.7883182168006897,\n",
       "  'code_spread': 0.801061749458313},\n",
       " 'magicoder_instruct': {'question_mtld': 36.31170034281009,\n",
       "  'code_mtld': 22.907301603978148,\n",
       "  'question_spread': 0.8156304955482483,\n",
       "  'code_spread': 0.8202199935913086},\n",
       " 'magicoder_evol_instruct': {'question_mtld': 59.073604193942906,\n",
       "  'code_mtld': 35.26902291192707,\n",
       "  'question_spread': 0.778901994228363,\n",
       "  'code_spread': 0.8092754483222961},\n",
       " 'code_alpaca': {'question_mtld': 30.92201141117365,\n",
       "  'code_mtld': 14.948013597450808,\n",
       "  'question_spread': 0.8183609247207642,\n",
       "  'code_spread': 0.7745630145072937},\n",
       " 'CodeMix-dataset': {'question_mtld': 40.35980535761259,\n",
       "  'code_mtld': 12.020248788664244,\n",
       "  'question_spread': 0.7952884435653687,\n",
       "  'code_spread': 0.8102909326553345}}"
      ]
     },
     "execution_count": 103,
     "metadata": {},
     "output_type": "execute_result"
    }
   ],
   "source": [
    "result_dict"
   ]
  },
  {
   "cell_type": "code",
   "execution_count": 104,
   "id": "57d5098e-abb3-4fcf-bfbd-a84bcd5d44fc",
   "metadata": {},
   "outputs": [],
   "source": [
    "for i in result_dict:\n",
    "    result_dict[i]['question_spread'] = 1/result_dict[i]['question_spread']\n",
    "    result_dict[i]['code_spread'] = 1/result_dict[i]['code_spread']"
   ]
  },
  {
   "cell_type": "code",
   "execution_count": 109,
   "id": "059fac94-fde1-4b1e-8493-866dda8e68b1",
   "metadata": {
    "scrolled": true
   },
   "outputs": [
    {
     "data": {
      "text/plain": [
       "{'evol_codealpaca_v1': {'question_mtld': 59.07,\n",
       "  'code_mtld': 35.26,\n",
       "  'question_spread': 1.28,\n",
       "  'code_spread': 1.24},\n",
       " 'evol_instruct_code_v1': {'question_mtld': 42.45,\n",
       "  'code_mtld': 24.2,\n",
       "  'question_spread': 1.27,\n",
       "  'code_spread': 1.25},\n",
       " 'magicoder_instruct': {'question_mtld': 36.31,\n",
       "  'code_mtld': 22.91,\n",
       "  'question_spread': 1.23,\n",
       "  'code_spread': 1.22},\n",
       " 'magicoder_evol_instruct': {'question_mtld': 59.07,\n",
       "  'code_mtld': 35.27,\n",
       "  'question_spread': 1.28,\n",
       "  'code_spread': 1.24},\n",
       " 'code_alpaca': {'question_mtld': 30.92,\n",
       "  'code_mtld': 14.95,\n",
       "  'question_spread': 1.22,\n",
       "  'code_spread': 1.29},\n",
       " 'CodeMix-dataset': {'question_mtld': 40.36,\n",
       "  'code_mtld': 12.02,\n",
       "  'question_spread': 1.26,\n",
       "  'code_spread': 1.23}}"
      ]
     },
     "execution_count": 109,
     "metadata": {},
     "output_type": "execute_result"
    }
   ],
   "source": [
    "{k:{p:round(q,2) for p,q in result_dict[k].items()} for k in result_dict}"
   ]
  },
  {
   "cell_type": "code",
   "execution_count": 33,
   "id": "95b0f65b-6070-4be3-9b7f-0b20a4a873a3",
   "metadata": {},
   "outputs": [],
   "source": [
    "import pickle\n",
    "min_range = 0.7775569693909751\n",
    "max_range = 0.9527710969170251\n",
    "with open('/workspace/CS762_Project/Notebooks/code_embeddings_magicoder_evol_instruct.pkl', \"rb\") as fIn:\n",
    "    stored_data = pickle.load(fIn)\n",
    "    stored_sentences = stored_data['sentences']\n",
    "    stored_embeddings = stored_data['embeddings']\n",
    "\n"
   ]
  },
  {
   "cell_type": "code",
   "execution_count": 8,
   "id": "1f93e010-602e-4c95-9d7f-9fc7923fe092",
   "metadata": {
    "scrolled": true
   },
   "outputs": [
    {
     "data": {
      "text/plain": [
       "numpy.ndarray"
      ]
     },
     "execution_count": 8,
     "metadata": {},
     "output_type": "execute_result"
    }
   ],
   "source": [
    "type(stored_embeddings)"
   ]
  },
  {
   "cell_type": "code",
   "execution_count": 15,
   "id": "ca6602ef-e858-4016-8b32-19f5e92d2d52",
   "metadata": {
    "scrolled": true
   },
   "outputs": [
    {
     "name": "stderr",
     "output_type": "stream",
     "text": [
      "  0%|          | 0/111272 [00:00<?, ?it/s]"
     ]
    },
    {
     "name": "stdout",
     "output_type": "stream",
     "text": [
      "Started Cosine Sim\n"
     ]
    },
    {
     "name": "stderr",
     "output_type": "stream",
     "text": [
      "  0%|          | 1/111272 [00:01<37:23:02,  1.21s/it]"
     ]
    },
    {
     "name": "stdout",
     "output_type": "stream",
     "text": [
      "torch.Size([1, 111271])\n",
      "Done with Cosine Sim\n",
      "0.009503579465811164\n",
      "Started Cosine Sim\n"
     ]
    },
    {
     "name": "stderr",
     "output_type": "stream",
     "text": [
      "  0%|          | 2/111272 [00:02<40:39:57,  1.32s/it]"
     ]
    },
    {
     "name": "stdout",
     "output_type": "stream",
     "text": [
      "torch.Size([1, 111271])\n",
      "Done with Cosine Sim\n",
      "0.020859525929638786\n",
      "Started Cosine Sim\n"
     ]
    },
    {
     "name": "stderr",
     "output_type": "stream",
     "text": [
      "  0%|          | 3/111272 [00:03<40:26:56,  1.31s/it]"
     ]
    },
    {
     "name": "stdout",
     "output_type": "stream",
     "text": [
      "torch.Size([1, 111271])\n",
      "Done with Cosine Sim\n",
      "-0.034885713752853834\n",
      "Started Cosine Sim\n"
     ]
    },
    {
     "name": "stderr",
     "output_type": "stream",
     "text": [
      "  0%|          | 4/111272 [00:05<40:20:30,  1.31s/it]"
     ]
    },
    {
     "name": "stdout",
     "output_type": "stream",
     "text": [
      "torch.Size([1, 111271])\n",
      "Done with Cosine Sim\n",
      "0.001623950086455847\n",
      "Started Cosine Sim\n"
     ]
    },
    {
     "name": "stderr",
     "output_type": "stream",
     "text": [
      "  0%|          | 5/111272 [00:06<40:16:21,  1.30s/it]"
     ]
    },
    {
     "name": "stdout",
     "output_type": "stream",
     "text": [
      "torch.Size([1, 111271])\n",
      "Done with Cosine Sim\n",
      "-0.07777548591188932\n",
      "Started Cosine Sim\n"
     ]
    },
    {
     "name": "stderr",
     "output_type": "stream",
     "text": [
      "  0%|          | 6/111272 [00:07<40:15:06,  1.30s/it]"
     ]
    },
    {
     "name": "stdout",
     "output_type": "stream",
     "text": [
      "torch.Size([1, 111271])\n",
      "Done with Cosine Sim\n",
      "-0.16209122825183286\n",
      "Started Cosine Sim\n"
     ]
    },
    {
     "name": "stderr",
     "output_type": "stream",
     "text": [
      "  0%|          | 7/111272 [00:09<40:40:09,  1.32s/it]"
     ]
    },
    {
     "name": "stdout",
     "output_type": "stream",
     "text": [
      "torch.Size([1, 111271])\n",
      "Done with Cosine Sim\n",
      "-0.14735047358852393\n",
      "Started Cosine Sim\n"
     ]
    },
    {
     "name": "stderr",
     "output_type": "stream",
     "text": [
      "  0%|          | 8/111272 [00:10<40:05:02,  1.30s/it]"
     ]
    },
    {
     "name": "stdout",
     "output_type": "stream",
     "text": [
      "torch.Size([1, 111271])\n",
      "Done with Cosine Sim\n",
      "-0.18718405309789712\n",
      "Started Cosine Sim\n"
     ]
    },
    {
     "name": "stderr",
     "output_type": "stream",
     "text": [
      "  0%|          | 9/111272 [00:11<40:05:57,  1.30s/it]"
     ]
    },
    {
     "name": "stdout",
     "output_type": "stream",
     "text": [
      "torch.Size([1, 111271])\n",
      "Done with Cosine Sim\n",
      "-0.0065737492091321355\n",
      "Started Cosine Sim\n"
     ]
    },
    {
     "name": "stderr",
     "output_type": "stream",
     "text": [
      "  0%|          | 10/111272 [00:12<39:11:10,  1.27s/it]"
     ]
    },
    {
     "name": "stdout",
     "output_type": "stream",
     "text": [
      "torch.Size([1, 111271])\n",
      "Done with Cosine Sim\n",
      "-0.05528879328856138\n",
      "Started Cosine Sim\n"
     ]
    },
    {
     "name": "stderr",
     "output_type": "stream",
     "text": [
      "  0%|          | 11/111272 [00:14<39:28:24,  1.28s/it]"
     ]
    },
    {
     "name": "stdout",
     "output_type": "stream",
     "text": [
      "torch.Size([1, 111271])\n",
      "Done with Cosine Sim\n",
      "-0.04203701405129563\n",
      "Started Cosine Sim\n"
     ]
    },
    {
     "name": "stderr",
     "output_type": "stream",
     "text": [
      "  0%|          | 12/111272 [00:15<39:41:10,  1.28s/it]"
     ]
    },
    {
     "name": "stdout",
     "output_type": "stream",
     "text": [
      "torch.Size([1, 111271])\n",
      "Done with Cosine Sim\n",
      "-0.015120815139983163\n",
      "Started Cosine Sim\n"
     ]
    },
    {
     "name": "stderr",
     "output_type": "stream",
     "text": [
      "  0%|          | 13/111272 [00:16<39:50:09,  1.29s/it]"
     ]
    },
    {
     "name": "stdout",
     "output_type": "stream",
     "text": [
      "torch.Size([1, 111271])\n",
      "Done with Cosine Sim\n",
      "-0.029603031689562864\n",
      "Started Cosine Sim\n"
     ]
    },
    {
     "name": "stderr",
     "output_type": "stream",
     "text": [
      "  0%|          | 14/111272 [00:18<39:00:55,  1.26s/it]"
     ]
    },
    {
     "name": "stdout",
     "output_type": "stream",
     "text": [
      "torch.Size([1, 111271])\n",
      "Done with Cosine Sim\n",
      "0.001818874216938539\n",
      "Started Cosine Sim\n"
     ]
    },
    {
     "name": "stderr",
     "output_type": "stream",
     "text": [
      "  0%|          | 15/111272 [00:19<39:21:50,  1.27s/it]"
     ]
    },
    {
     "name": "stdout",
     "output_type": "stream",
     "text": [
      "torch.Size([1, 111271])\n",
      "Done with Cosine Sim\n",
      "-0.008339632562248461\n",
      "Started Cosine Sim\n"
     ]
    },
    {
     "name": "stderr",
     "output_type": "stream",
     "text": [
      "  0%|          | 16/111272 [00:20<40:31:54,  1.31s/it]"
     ]
    },
    {
     "name": "stdout",
     "output_type": "stream",
     "text": [
      "torch.Size([1, 111271])\n",
      "Done with Cosine Sim\n",
      "0.008411596117033779\n",
      "Started Cosine Sim\n"
     ]
    },
    {
     "name": "stderr",
     "output_type": "stream",
     "text": [
      "  0%|          | 17/111272 [00:21<39:29:39,  1.28s/it]"
     ]
    },
    {
     "name": "stdout",
     "output_type": "stream",
     "text": [
      "torch.Size([1, 111271])\n",
      "Done with Cosine Sim\n",
      "-0.07864056804769645\n",
      "Started Cosine Sim\n"
     ]
    },
    {
     "name": "stderr",
     "output_type": "stream",
     "text": [
      "  0%|          | 18/111272 [00:23<38:47:38,  1.26s/it]"
     ]
    },
    {
     "name": "stdout",
     "output_type": "stream",
     "text": [
      "torch.Size([1, 111271])\n",
      "Done with Cosine Sim\n",
      "-0.0912279723690238\n",
      "Started Cosine Sim\n"
     ]
    },
    {
     "name": "stderr",
     "output_type": "stream",
     "text": [
      "  0%|          | 19/111272 [00:24<39:04:22,  1.26s/it]"
     ]
    },
    {
     "name": "stdout",
     "output_type": "stream",
     "text": [
      "torch.Size([1, 111271])\n",
      "Done with Cosine Sim\n",
      "-0.20918564657625416\n",
      "Started Cosine Sim\n"
     ]
    },
    {
     "name": "stderr",
     "output_type": "stream",
     "text": [
      "  0%|          | 20/111272 [00:25<39:31:17,  1.28s/it]"
     ]
    },
    {
     "name": "stdout",
     "output_type": "stream",
     "text": [
      "torch.Size([1, 111271])\n",
      "Done with Cosine Sim\n",
      "-0.15517295243747595\n",
      "Started Cosine Sim\n"
     ]
    },
    {
     "name": "stderr",
     "output_type": "stream",
     "text": [
      "  0%|          | 21/111272 [00:26<38:48:37,  1.26s/it]"
     ]
    },
    {
     "name": "stdout",
     "output_type": "stream",
     "text": [
      "torch.Size([1, 111271])\n",
      "Done with Cosine Sim\n",
      "0.07467525484756277\n",
      "Started Cosine Sim\n"
     ]
    },
    {
     "name": "stderr",
     "output_type": "stream",
     "text": [
      "  0%|          | 22/111272 [00:28<38:16:32,  1.24s/it]"
     ]
    },
    {
     "name": "stdout",
     "output_type": "stream",
     "text": [
      "torch.Size([1, 111271])\n",
      "Done with Cosine Sim\n",
      "-0.13024477554804978\n",
      "Started Cosine Sim\n"
     ]
    },
    {
     "name": "stderr",
     "output_type": "stream",
     "text": [
      "  0%|          | 23/111272 [00:29<38:51:23,  1.26s/it]"
     ]
    },
    {
     "name": "stdout",
     "output_type": "stream",
     "text": [
      "torch.Size([1, 111271])\n",
      "Done with Cosine Sim\n",
      "-0.044663897359476\n",
      "Started Cosine Sim\n"
     ]
    },
    {
     "name": "stderr",
     "output_type": "stream",
     "text": [
      "  0%|          | 24/111272 [00:30<38:18:26,  1.24s/it]"
     ]
    },
    {
     "name": "stdout",
     "output_type": "stream",
     "text": [
      "torch.Size([1, 111271])\n",
      "Done with Cosine Sim\n",
      "0.043573800129394165\n",
      "Started Cosine Sim\n"
     ]
    },
    {
     "name": "stderr",
     "output_type": "stream",
     "text": [
      "  0%|          | 25/111272 [00:31<39:47:36,  1.29s/it]"
     ]
    },
    {
     "name": "stdout",
     "output_type": "stream",
     "text": [
      "torch.Size([1, 111271])\n",
      "Done with Cosine Sim\n",
      "0.0273501933111567\n",
      "Started Cosine Sim\n"
     ]
    },
    {
     "name": "stderr",
     "output_type": "stream",
     "text": [
      "  0%|          | 26/111272 [00:33<39:54:18,  1.29s/it]"
     ]
    },
    {
     "name": "stdout",
     "output_type": "stream",
     "text": [
      "torch.Size([1, 111271])\n",
      "Done with Cosine Sim\n",
      "0.05903471951213042\n",
      "Started Cosine Sim\n"
     ]
    },
    {
     "name": "stderr",
     "output_type": "stream",
     "text": [
      "  0%|          | 27/111272 [00:34<39:59:14,  1.29s/it]"
     ]
    },
    {
     "name": "stdout",
     "output_type": "stream",
     "text": [
      "torch.Size([1, 111271])\n",
      "Done with Cosine Sim\n",
      "0.059679363887810526\n",
      "Started Cosine Sim\n"
     ]
    },
    {
     "name": "stderr",
     "output_type": "stream",
     "text": [
      "  0%|          | 28/111272 [00:35<40:57:35,  1.33s/it]"
     ]
    },
    {
     "name": "stdout",
     "output_type": "stream",
     "text": [
      "torch.Size([1, 111271])\n",
      "Done with Cosine Sim\n",
      "-0.020028276756638163\n",
      "Started Cosine Sim\n"
     ]
    },
    {
     "name": "stderr",
     "output_type": "stream",
     "text": [
      "  0%|          | 29/111272 [00:37<40:43:58,  1.32s/it]"
     ]
    },
    {
     "name": "stdout",
     "output_type": "stream",
     "text": [
      "torch.Size([1, 111271])\n",
      "Done with Cosine Sim\n",
      "-0.15412349180477244\n",
      "Started Cosine Sim\n"
     ]
    },
    {
     "name": "stderr",
     "output_type": "stream",
     "text": [
      "  0%|          | 30/111272 [00:38<40:33:48,  1.31s/it]"
     ]
    },
    {
     "name": "stdout",
     "output_type": "stream",
     "text": [
      "torch.Size([1, 111271])\n",
      "Done with Cosine Sim\n",
      "-0.0750438266313029\n",
      "Started Cosine Sim\n"
     ]
    },
    {
     "name": "stderr",
     "output_type": "stream",
     "text": [
      "  0%|          | 31/111272 [00:39<40:26:36,  1.31s/it]"
     ]
    },
    {
     "name": "stdout",
     "output_type": "stream",
     "text": [
      "torch.Size([1, 111271])\n",
      "Done with Cosine Sim\n",
      "-0.032817068661291436\n",
      "Started Cosine Sim\n"
     ]
    },
    {
     "name": "stderr",
     "output_type": "stream",
     "text": [
      "  0%|          | 32/111272 [00:41<40:21:00,  1.31s/it]"
     ]
    },
    {
     "name": "stdout",
     "output_type": "stream",
     "text": [
      "torch.Size([1, 111271])\n",
      "Done with Cosine Sim\n",
      "-0.16735792177388004\n",
      "Started Cosine Sim\n"
     ]
    },
    {
     "name": "stderr",
     "output_type": "stream",
     "text": [
      "  0%|          | 33/111272 [00:42<40:18:05,  1.30s/it]"
     ]
    },
    {
     "name": "stdout",
     "output_type": "stream",
     "text": [
      "torch.Size([1, 111271])\n",
      "Done with Cosine Sim\n",
      "-0.05638928118055354\n",
      "Started Cosine Sim\n"
     ]
    },
    {
     "name": "stderr",
     "output_type": "stream",
     "text": [
      "  0%|          | 34/111272 [00:43<39:19:57,  1.27s/it]"
     ]
    },
    {
     "name": "stdout",
     "output_type": "stream",
     "text": [
      "torch.Size([1, 111271])\n",
      "Done with Cosine Sim\n",
      "-0.00437243324341922\n",
      "Started Cosine Sim\n"
     ]
    },
    {
     "name": "stderr",
     "output_type": "stream",
     "text": [
      "  0%|          | 35/111272 [00:44<38:40:22,  1.25s/it]"
     ]
    },
    {
     "name": "stdout",
     "output_type": "stream",
     "text": [
      "torch.Size([1, 111271])\n",
      "Done with Cosine Sim\n",
      "-0.009895623788824087\n",
      "Started Cosine Sim\n"
     ]
    },
    {
     "name": "stderr",
     "output_type": "stream",
     "text": [
      "  0%|          | 36/111272 [00:46<37:16:50,  1.21s/it]"
     ]
    },
    {
     "name": "stdout",
     "output_type": "stream",
     "text": [
      "torch.Size([1, 111271])\n",
      "Done with Cosine Sim\n",
      "-0.03139034649158043\n",
      "Started Cosine Sim\n"
     ]
    },
    {
     "name": "stderr",
     "output_type": "stream",
     "text": [
      "  0%|          | 37/111272 [00:47<37:12:56,  1.20s/it]"
     ]
    },
    {
     "name": "stdout",
     "output_type": "stream",
     "text": [
      "torch.Size([1, 111271])\n",
      "Done with Cosine Sim\n",
      "-0.13263455219140216\n",
      "Started Cosine Sim\n"
     ]
    },
    {
     "name": "stderr",
     "output_type": "stream",
     "text": [
      "  0%|          | 38/111272 [00:48<37:10:28,  1.20s/it]"
     ]
    },
    {
     "name": "stdout",
     "output_type": "stream",
     "text": [
      "torch.Size([1, 111271])\n",
      "Done with Cosine Sim\n",
      "-0.09544622580355326\n",
      "Started Cosine Sim\n"
     ]
    },
    {
     "name": "stderr",
     "output_type": "stream",
     "text": [
      "  0%|          | 39/111272 [00:49<37:07:57,  1.20s/it]"
     ]
    },
    {
     "name": "stdout",
     "output_type": "stream",
     "text": [
      "torch.Size([1, 111271])\n",
      "Done with Cosine Sim\n",
      "-0.04665770247074835\n",
      "Started Cosine Sim\n"
     ]
    },
    {
     "name": "stderr",
     "output_type": "stream",
     "text": [
      "  0%|          | 40/111272 [00:50<38:01:49,  1.23s/it]"
     ]
    },
    {
     "name": "stdout",
     "output_type": "stream",
     "text": [
      "torch.Size([1, 111271])\n",
      "Done with Cosine Sim\n",
      "-0.006359094538391161\n",
      "Started Cosine Sim\n"
     ]
    },
    {
     "name": "stderr",
     "output_type": "stream",
     "text": [
      "  0%|          | 41/111272 [00:51<36:49:02,  1.19s/it]"
     ]
    },
    {
     "name": "stdout",
     "output_type": "stream",
     "text": [
      "torch.Size([1, 111271])\n",
      "Done with Cosine Sim\n",
      "0.037375348852735996\n",
      "Started Cosine Sim\n"
     ]
    },
    {
     "name": "stderr",
     "output_type": "stream",
     "text": [
      "  0%|          | 42/111272 [00:53<36:55:08,  1.19s/it]"
     ]
    },
    {
     "name": "stdout",
     "output_type": "stream",
     "text": [
      "torch.Size([1, 111271])\n",
      "Done with Cosine Sim\n",
      "-0.194240442694062\n",
      "Started Cosine Sim\n"
     ]
    },
    {
     "name": "stderr",
     "output_type": "stream",
     "text": [
      "  0%|          | 43/111272 [00:54<37:51:51,  1.23s/it]"
     ]
    },
    {
     "name": "stdout",
     "output_type": "stream",
     "text": [
      "torch.Size([1, 111271])\n",
      "Done with Cosine Sim\n",
      "-0.0924954894897542\n",
      "Started Cosine Sim\n"
     ]
    },
    {
     "name": "stderr",
     "output_type": "stream",
     "text": [
      "  0%|          | 44/111272 [00:55<38:33:55,  1.25s/it]"
     ]
    },
    {
     "name": "stdout",
     "output_type": "stream",
     "text": [
      "torch.Size([1, 111271])\n",
      "Done with Cosine Sim\n",
      "-0.07104567077517188\n",
      "Started Cosine Sim\n"
     ]
    },
    {
     "name": "stderr",
     "output_type": "stream",
     "text": [
      "  0%|          | 45/111272 [00:57<39:02:17,  1.26s/it]"
     ]
    },
    {
     "name": "stdout",
     "output_type": "stream",
     "text": [
      "torch.Size([1, 111271])\n",
      "Done with Cosine Sim\n",
      "-0.015942694196259224\n",
      "Started Cosine Sim\n"
     ]
    },
    {
     "name": "stderr",
     "output_type": "stream",
     "text": [
      "  0%|          | 46/111272 [00:58<38:27:35,  1.24s/it]"
     ]
    },
    {
     "name": "stdout",
     "output_type": "stream",
     "text": [
      "torch.Size([1, 111271])\n",
      "Done with Cosine Sim\n",
      "-0.1124876294973237\n",
      "Started Cosine Sim\n"
     ]
    },
    {
     "name": "stderr",
     "output_type": "stream",
     "text": [
      "  0%|          | 47/111272 [00:59<38:02:49,  1.23s/it]"
     ]
    },
    {
     "name": "stdout",
     "output_type": "stream",
     "text": [
      "torch.Size([1, 111271])\n",
      "Done with Cosine Sim\n",
      "-0.08670627683259109\n",
      "Started Cosine Sim\n"
     ]
    },
    {
     "name": "stderr",
     "output_type": "stream",
     "text": [
      "  0%|          | 48/111272 [01:00<37:45:49,  1.22s/it]"
     ]
    },
    {
     "name": "stdout",
     "output_type": "stream",
     "text": [
      "torch.Size([1, 111271])\n",
      "Done with Cosine Sim\n",
      "-0.26877051742935437\n",
      "Started Cosine Sim\n"
     ]
    },
    {
     "name": "stderr",
     "output_type": "stream",
     "text": [
      "  0%|          | 49/111272 [01:01<37:32:45,  1.22s/it]"
     ]
    },
    {
     "name": "stdout",
     "output_type": "stream",
     "text": [
      "torch.Size([1, 111271])\n",
      "Done with Cosine Sim\n",
      "-0.1214364500496408\n",
      "Started Cosine Sim\n"
     ]
    },
    {
     "name": "stderr",
     "output_type": "stream",
     "text": [
      "  0%|          | 50/111272 [01:03<37:24:08,  1.21s/it]"
     ]
    },
    {
     "name": "stdout",
     "output_type": "stream",
     "text": [
      "torch.Size([1, 111271])\n",
      "Done with Cosine Sim\n",
      "-0.038731468194576055\n",
      "Started Cosine Sim\n"
     ]
    },
    {
     "name": "stderr",
     "output_type": "stream",
     "text": [
      "  0%|          | 51/111272 [01:04<38:13:23,  1.24s/it]"
     ]
    },
    {
     "name": "stdout",
     "output_type": "stream",
     "text": [
      "torch.Size([1, 111271])\n",
      "Done with Cosine Sim\n",
      "0.07713885092601941\n",
      "Started Cosine Sim\n"
     ]
    },
    {
     "name": "stderr",
     "output_type": "stream",
     "text": [
      "  0%|          | 52/111272 [01:05<37:53:08,  1.23s/it]"
     ]
    },
    {
     "name": "stdout",
     "output_type": "stream",
     "text": [
      "torch.Size([1, 111271])\n",
      "Done with Cosine Sim\n",
      "-0.0038029690297577425\n",
      "Started Cosine Sim\n"
     ]
    },
    {
     "name": "stderr",
     "output_type": "stream",
     "text": [
      "  0%|          | 53/111272 [01:06<38:33:10,  1.25s/it]"
     ]
    },
    {
     "name": "stdout",
     "output_type": "stream",
     "text": [
      "torch.Size([1, 111271])\n",
      "Done with Cosine Sim\n",
      "-0.10604016519533685\n",
      "Started Cosine Sim\n"
     ]
    },
    {
     "name": "stderr",
     "output_type": "stream",
     "text": [
      "  0%|          | 54/111272 [01:08<39:02:54,  1.26s/it]"
     ]
    },
    {
     "name": "stdout",
     "output_type": "stream",
     "text": [
      "torch.Size([1, 111271])\n",
      "Done with Cosine Sim\n",
      "-0.07814492326913924\n",
      "Started Cosine Sim\n"
     ]
    },
    {
     "name": "stderr",
     "output_type": "stream",
     "text": [
      "  0%|          | 55/111272 [01:09<39:22:39,  1.27s/it]"
     ]
    },
    {
     "name": "stdout",
     "output_type": "stream",
     "text": [
      "torch.Size([1, 111271])\n",
      "Done with Cosine Sim\n",
      "-0.005259967373313363\n",
      "Started Cosine Sim\n"
     ]
    },
    {
     "name": "stderr",
     "output_type": "stream",
     "text": [
      "  0%|          | 56/111272 [01:10<39:36:44,  1.28s/it]"
     ]
    },
    {
     "name": "stdout",
     "output_type": "stream",
     "text": [
      "torch.Size([1, 111271])\n",
      "Done with Cosine Sim\n",
      "-0.08368274162887353\n",
      "Started Cosine Sim\n"
     ]
    },
    {
     "name": "stderr",
     "output_type": "stream",
     "text": [
      "  0%|          | 57/111272 [01:12<38:51:58,  1.26s/it]"
     ]
    },
    {
     "name": "stdout",
     "output_type": "stream",
     "text": [
      "torch.Size([1, 111271])\n",
      "Done with Cosine Sim\n",
      "-0.024490780672296028\n",
      "Started Cosine Sim\n"
     ]
    },
    {
     "name": "stderr",
     "output_type": "stream",
     "text": [
      "  0%|          | 58/111272 [01:13<39:14:30,  1.27s/it]"
     ]
    },
    {
     "name": "stdout",
     "output_type": "stream",
     "text": [
      "torch.Size([1, 111271])\n",
      "Done with Cosine Sim\n",
      "-0.1695840710057801\n",
      "Started Cosine Sim\n"
     ]
    },
    {
     "name": "stderr",
     "output_type": "stream",
     "text": [
      "  0%|          | 59/111272 [01:14<39:30:29,  1.28s/it]"
     ]
    },
    {
     "name": "stdout",
     "output_type": "stream",
     "text": [
      "torch.Size([1, 111271])\n",
      "Done with Cosine Sim\n",
      "-0.05032622223187462\n",
      "Started Cosine Sim\n"
     ]
    },
    {
     "name": "stderr",
     "output_type": "stream",
     "text": [
      "  0%|          | 60/111272 [01:15<39:41:57,  1.29s/it]"
     ]
    },
    {
     "name": "stdout",
     "output_type": "stream",
     "text": [
      "torch.Size([1, 111271])\n",
      "Done with Cosine Sim\n",
      "-0.20039126852871741\n",
      "Started Cosine Sim\n"
     ]
    },
    {
     "name": "stderr",
     "output_type": "stream",
     "text": [
      "  0%|          | 61/111272 [01:17<39:50:50,  1.29s/it]"
     ]
    },
    {
     "name": "stdout",
     "output_type": "stream",
     "text": [
      "torch.Size([1, 111271])\n",
      "Done with Cosine Sim\n",
      "-0.06578407997905356\n",
      "Started Cosine Sim\n"
     ]
    },
    {
     "name": "stderr",
     "output_type": "stream",
     "text": [
      "  0%|          | 62/111272 [01:18<39:01:12,  1.26s/it]"
     ]
    },
    {
     "name": "stdout",
     "output_type": "stream",
     "text": [
      "torch.Size([1, 111271])\n",
      "Done with Cosine Sim\n",
      "-0.03804600201146502\n",
      "Started Cosine Sim\n"
     ]
    },
    {
     "name": "stderr",
     "output_type": "stream",
     "text": [
      "  0%|          | 63/111272 [01:19<37:29:37,  1.21s/it]"
     ]
    },
    {
     "name": "stdout",
     "output_type": "stream",
     "text": [
      "torch.Size([1, 111271])\n",
      "Done with Cosine Sim\n",
      "-0.09096433152936571\n",
      "Started Cosine Sim\n"
     ]
    },
    {
     "name": "stderr",
     "output_type": "stream",
     "text": [
      "  0%|          | 64/111272 [01:20<37:22:56,  1.21s/it]"
     ]
    },
    {
     "name": "stdout",
     "output_type": "stream",
     "text": [
      "torch.Size([1, 111271])\n",
      "Done with Cosine Sim\n",
      "-0.13353467304525418\n",
      "Started Cosine Sim\n"
     ]
    },
    {
     "name": "stderr",
     "output_type": "stream",
     "text": [
      "  0%|          | 64/111272 [01:21<39:26:33,  1.28s/it]\n"
     ]
    },
    {
     "ename": "KeyboardInterrupt",
     "evalue": "",
     "output_type": "error",
     "traceback": [
      "\u001b[0;31m---------------------------------------------------------------------------\u001b[0m",
      "\u001b[0;31mKeyboardInterrupt\u001b[0m                         Traceback (most recent call last)",
      "Cell \u001b[0;32mIn[15], line 6\u001b[0m\n\u001b[1;32m      4\u001b[0m embeddings1 \u001b[38;5;241m=\u001b[39m stored_embeddings[idx]\n\u001b[1;32m      5\u001b[0m embeddings2 \u001b[38;5;241m=\u001b[39m np\u001b[38;5;241m.\u001b[39mconcatenate((stored_embeddings[:idx],stored_embeddings[idx\u001b[38;5;241m+\u001b[39m\u001b[38;5;241m1\u001b[39m:]), axis\u001b[38;5;241m=\u001b[39m\u001b[38;5;241m0\u001b[39m)\n\u001b[0;32m----> 6\u001b[0m question_spread \u001b[38;5;241m=\u001b[39m normalize_score(\u001b[43mcalculate_spread_cosine\u001b[49m\u001b[43m(\u001b[49m\u001b[43membeddings1\u001b[49m\u001b[43m,\u001b[49m\u001b[43membeddings2\u001b[49m\u001b[43m,\u001b[49m\u001b[38;5;124;43m'\u001b[39;49m\u001b[38;5;124;43mevol_codealpaca_v1\u001b[39;49m\u001b[38;5;124;43m'\u001b[39;49m\u001b[43m,\u001b[49m\u001b[43m \u001b[49m\u001b[38;5;124;43m'\u001b[39;49m\u001b[38;5;124;43mquestion\u001b[39;49m\u001b[38;5;124;43m'\u001b[39;49m\u001b[43m \u001b[49m\u001b[43m)\u001b[49m, min_range, max_range)\n\u001b[1;32m      7\u001b[0m questions_spread\u001b[38;5;241m.\u001b[39mappend(question_spread)\n\u001b[1;32m      8\u001b[0m \u001b[38;5;28mprint\u001b[39m(question_spread)\n",
      "Cell \u001b[0;32mIn[14], line 20\u001b[0m, in \u001b[0;36mcalculate_spread_cosine\u001b[0;34m(embeddings1, embeddings2, dataset_name, data_type)\u001b[0m\n\u001b[1;32m     18\u001b[0m \u001b[38;5;28mprint\u001b[39m(\u001b[38;5;124m'\u001b[39m\u001b[38;5;124mStarted Cosine Sim\u001b[39m\u001b[38;5;124m'\u001b[39m)\n\u001b[1;32m     19\u001b[0m \u001b[38;5;66;03m# Assuming embeddings is a numpy array where each row represents the embedding of a word\u001b[39;00m\n\u001b[0;32m---> 20\u001b[0m similarity_matrix \u001b[38;5;241m=\u001b[39m \u001b[43mutil\u001b[49m\u001b[38;5;241;43m.\u001b[39;49m\u001b[43mcos_sim\u001b[49m\u001b[43m(\u001b[49m\u001b[43membeddings1\u001b[49m\u001b[43m,\u001b[49m\u001b[43m \u001b[49m\u001b[43membeddings2\u001b[49m\u001b[43m)\u001b[49m\n\u001b[1;32m     21\u001b[0m \u001b[38;5;66;03m# with open(f'{data_type}_similarity_{dataset_name}.pkl', \"wb\") as fOut:\u001b[39;00m\n\u001b[1;32m     22\u001b[0m \u001b[38;5;66;03m#     pickle.dump(similarity_matrix, fOut, protocol=pickle.HIGHEST_PROTOCOL)\u001b[39;00m\n\u001b[1;32m     23\u001b[0m \u001b[38;5;28mprint\u001b[39m(similarity_matrix\u001b[38;5;241m.\u001b[39mshape)\n",
      "File \u001b[0;32m/usr/local/lib/python3.10/dist-packages/sentence_transformers/util.py:48\u001b[0m, in \u001b[0;36mcos_sim\u001b[0;34m(a, b)\u001b[0m\n\u001b[1;32m     45\u001b[0m     b \u001b[38;5;241m=\u001b[39m b\u001b[38;5;241m.\u001b[39munsqueeze(\u001b[38;5;241m0\u001b[39m)\n\u001b[1;32m     47\u001b[0m a_norm \u001b[38;5;241m=\u001b[39m torch\u001b[38;5;241m.\u001b[39mnn\u001b[38;5;241m.\u001b[39mfunctional\u001b[38;5;241m.\u001b[39mnormalize(a, p\u001b[38;5;241m=\u001b[39m\u001b[38;5;241m2\u001b[39m, dim\u001b[38;5;241m=\u001b[39m\u001b[38;5;241m1\u001b[39m)\n\u001b[0;32m---> 48\u001b[0m b_norm \u001b[38;5;241m=\u001b[39m \u001b[43mtorch\u001b[49m\u001b[38;5;241;43m.\u001b[39;49m\u001b[43mnn\u001b[49m\u001b[38;5;241;43m.\u001b[39;49m\u001b[43mfunctional\u001b[49m\u001b[38;5;241;43m.\u001b[39;49m\u001b[43mnormalize\u001b[49m\u001b[43m(\u001b[49m\u001b[43mb\u001b[49m\u001b[43m,\u001b[49m\u001b[43m \u001b[49m\u001b[43mp\u001b[49m\u001b[38;5;241;43m=\u001b[39;49m\u001b[38;5;241;43m2\u001b[39;49m\u001b[43m,\u001b[49m\u001b[43m \u001b[49m\u001b[43mdim\u001b[49m\u001b[38;5;241;43m=\u001b[39;49m\u001b[38;5;241;43m1\u001b[39;49m\u001b[43m)\u001b[49m\n\u001b[1;32m     49\u001b[0m \u001b[38;5;28;01mreturn\u001b[39;00m torch\u001b[38;5;241m.\u001b[39mmm(a_norm, b_norm\u001b[38;5;241m.\u001b[39mtranspose(\u001b[38;5;241m0\u001b[39m, \u001b[38;5;241m1\u001b[39m))\n",
      "\u001b[0;31mKeyboardInterrupt\u001b[0m: "
     ]
    }
   ],
   "source": [
    "questions_spread = []\n",
    "from tqdm import tqdm\n",
    "for idx in tqdm(range(len(stored_embeddings))):\n",
    "    embeddings1 = stored_embeddings[idx]\n",
    "    embeddings2 = np.concatenate((stored_embeddings[:idx],stored_embeddings[idx+1:]), axis=0)\n",
    "    question_spread = normalize_score(calculate_spread_cosine(embeddings1,embeddings2,'evol_codealpaca_v1', 'question' ), min_range, max_range)\n",
    "    questions_spread.append(question_spread)\n",
    "    print(question_spread)"
   ]
  },
  {
   "cell_type": "code",
   "execution_count": 1,
   "id": "52dd0664-d440-44e4-84c2-fdc50bd88132",
   "metadata": {},
   "outputs": [
    {
     "ename": "EOFError",
     "evalue": "Ran out of input",
     "output_type": "error",
     "traceback": [
      "\u001b[0;31m---------------------------------------------------------------------------\u001b[0m",
      "\u001b[0;31mEOFError\u001b[0m                                  Traceback (most recent call last)",
      "Cell \u001b[0;32mIn[1], line 3\u001b[0m\n\u001b[1;32m      1\u001b[0m \u001b[38;5;28;01mimport\u001b[39;00m \u001b[38;5;21;01mpickle\u001b[39;00m\n\u001b[1;32m      2\u001b[0m \u001b[38;5;28;01mwith\u001b[39;00m \u001b[38;5;28mopen\u001b[39m(\u001b[38;5;124m'\u001b[39m\u001b[38;5;124mquestion_similarity_evol_codealpaca_v1.pkl\u001b[39m\u001b[38;5;124m'\u001b[39m, \u001b[38;5;124m\"\u001b[39m\u001b[38;5;124mrb\u001b[39m\u001b[38;5;124m\"\u001b[39m) \u001b[38;5;28;01mas\u001b[39;00m fIn:\n\u001b[0;32m----> 3\u001b[0m     data \u001b[38;5;241m=\u001b[39m \u001b[43mpickle\u001b[49m\u001b[38;5;241;43m.\u001b[39;49m\u001b[43mload\u001b[49m\u001b[43m(\u001b[49m\u001b[43mfIn\u001b[49m\u001b[43m)\u001b[49m\n",
      "\u001b[0;31mEOFError\u001b[0m: Ran out of input"
     ]
    }
   ],
   "source": [
    "import pickle\n",
    "with open('question_similarity_evol_codealpaca_v1.pkl', \"rb\") as fIn:\n",
    "    data = pickle.load(fIn)"
   ]
  },
  {
   "cell_type": "code",
   "execution_count": 34,
   "id": "0cfd84b8-0e08-473f-a0c4-2ece2ce5f162",
   "metadata": {},
   "outputs": [
    {
     "name": "stdout",
     "output_type": "stream",
     "text": [
      "Average Standard Deviation: 0.016798666\n"
     ]
    }
   ],
   "source": [
    "import numpy as np\n",
    "\n",
    "def average_std(embeddings):\n",
    "    # Convert the list of embeddings to a NumPy array\n",
    "    # Assuming each embedding is already a NumPy array\n",
    "    embeddings_array = np.array(embeddings)\n",
    "\n",
    "    # Calculate standard deviation along each axis/dimension\n",
    "    std_devs = np.std(embeddings_array, axis=0)\n",
    "\n",
    "    # Calculate the average of these standard deviations\n",
    "    avg_std_dev = np.mean(std_devs)\n",
    "    return avg_std_dev\n",
    "\n",
    "# Example usage\n",
    "embeddings = [np.random.rand(768) for _ in range(10)]  # 10 random embeddings of size 768\n",
    "avg_std = average_std(stored_embeddings)\n",
    "print(\"Average Standard Deviation:\", avg_std)\n"
   ]
  },
  {
   "cell_type": "code",
   "execution_count": 36,
   "id": "ae695b0b-ef87-4707-be9e-5e2f4f6f25a1",
   "metadata": {},
   "outputs": [],
   "source": [
    "name_mapping = ['evol_codealpaca_v1','evol_instruct_code_v1','magicoder_instruct','magicoder_evol_instruct','code_alpaca','CodeMix-dataset']\n",
    "std_results = {'question':{}, 'code':{}}\n",
    "for i in name_mapping:\n",
    "    for j in ['question', 'code']:\n",
    "        with open(f'/workspace/CS762_Project/Notebooks/{j}_embeddings_{i}.pkl', \"rb\") as fIn:\n",
    "            stored_data = pickle.load(fIn)\n",
    "            stored_embeddings = stored_data['embeddings']\n",
    "        avg_std = average_std(stored_embeddings)\n",
    "        std_results[j][i] = avg_std"
   ]
  },
  {
   "cell_type": "code",
   "execution_count": 37,
   "id": "dbb76cbc-c2fe-4277-ae0e-cbe4dc9c0b36",
   "metadata": {},
   "outputs": [
    {
     "data": {
      "text/plain": [
       "{'question': {'evol_codealpaca_v1': 0.01743797,\n",
       "  'evol_instruct_code_v1': 0.017142734,\n",
       "  'magicoder_instruct': 0.015445295,\n",
       "  'magicoder_evol_instruct': 0.017438613,\n",
       "  'code_alpaca': 0.016853206,\n",
       "  'CodeMix-dataset': 0.016257199},\n",
       " 'code': {'evol_codealpaca_v1': 0.01679833,\n",
       "  'evol_instruct_code_v1': 0.017222662,\n",
       "  'magicoder_instruct': 0.015257552,\n",
       "  'magicoder_evol_instruct': 0.016798666,\n",
       "  'code_alpaca': 0.017566217,\n",
       "  'CodeMix-dataset': 0.015647808}}"
      ]
     },
     "execution_count": 37,
     "metadata": {},
     "output_type": "execute_result"
    }
   ],
   "source": [
    "std_results"
   ]
  },
  {
   "cell_type": "code",
   "execution_count": 56,
   "id": "3c3fb324-ecd4-4b4f-bed1-236667e7a4b2",
   "metadata": {},
   "outputs": [],
   "source": [
    "import json\n",
    "with open('diversity_results.json', 'r') as fp:\n",
    "    diversity_results = json.load(fp)"
   ]
  },
  {
   "cell_type": "code",
   "execution_count": 57,
   "id": "8007930f-e561-42d2-811d-044d884da065",
   "metadata": {},
   "outputs": [
    {
     "data": {
      "text/plain": [
       "{'evol_codealpaca_v1': {'question_mtld': 60.135132380757035,\n",
       "  'code_mtld': 43.03108253698388},\n",
       " 'evol_instruct_code_v1': {'question_mtld': 41.28180945403313,\n",
       "  'code_mtld': 22.895224186569184},\n",
       " 'magicoder_instruct': {'question_mtld': 36.31170034281009,\n",
       "  'code_mtld': 22.907301603978148},\n",
       " 'magicoder_evol_instruct': {'question_mtld': 60.14508636787472,\n",
       "  'code_mtld': 43.044602836118024},\n",
       " 'code_alpaca': {'question_mtld': 29.412054749714912,\n",
       "  'code_mtld': 14.624050036777174},\n",
       " 'CodeMix-dataset': {'question_mtld': 40.35980535761259,\n",
       "  'code_mtld': 12.020248788664244}}"
      ]
     },
     "execution_count": 57,
     "metadata": {},
     "output_type": "execute_result"
    }
   ],
   "source": [
    "diversity_results"
   ]
  },
  {
   "cell_type": "code",
   "execution_count": null,
   "id": "e7358397-90d8-4b67-bb01-9300844059c2",
   "metadata": {},
   "outputs": [],
   "source": []
  }
 ],
 "metadata": {
  "kernelspec": {
   "display_name": "Python 3 (ipykernel)",
   "language": "python",
   "name": "python3"
  },
  "language_info": {
   "codemirror_mode": {
    "name": "ipython",
    "version": 3
   },
   "file_extension": ".py",
   "mimetype": "text/x-python",
   "name": "python",
   "nbconvert_exporter": "python",
   "pygments_lexer": "ipython3",
   "version": "3.10.12"
  }
 },
 "nbformat": 4,
 "nbformat_minor": 5
}
