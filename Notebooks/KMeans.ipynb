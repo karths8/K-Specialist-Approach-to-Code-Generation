{
 "cells": [
  {
   "cell_type": "code",
   "execution_count": 3,
   "id": "18c3e44e-255b-4b0a-9880-c4774a61791b",
   "metadata": {},
   "outputs": [
    {
     "name": "stdout",
     "output_type": "stream",
     "text": [
      "Embeddings starting!\n",
      "Embeddings complete!\n"
     ]
    }
   ],
   "source": [
    "import json\n",
    "from sentence_transformers import SentenceTransformer, util\n",
    "import joblib\n",
    "model = SentenceTransformer('/workspace/CS762_Project/e5-large-v2')\n",
    "\n",
    "with open('/workspace/CS762_Project/Data_files/final_combined_data_Dec15.json', 'r') as json_file:\n",
    "    data = json.load(json_file)\n",
    "\n",
    "\n",
    "questions = [i['question'] for i in data]\n",
    "print('Embeddings starting!')\n",
    "embeddings = model.encode(questions)\n",
    "print('Embeddings complete!')\n",
    "labels = ['' for i in data]"
   ]
  },
  {
   "cell_type": "code",
   "execution_count": 12,
   "id": "392a1aa4-36e7-462b-a297-5713510cad8a",
   "metadata": {},
   "outputs": [],
   "source": [
    "import joblib"
   ]
  },
  {
   "cell_type": "code",
   "execution_count": null,
   "id": "296df746-05a7-4a2c-9600-b8224a3207f7",
   "metadata": {},
   "outputs": [],
   "source": [
    "from sklearn.cluster import KMeans\n",
    "from sklearn.datasets import make_blobs\n",
    "import joblib\n",
    "\n",
    "# Generate some sample data (you can replace this with your own data)\n",
    "data, _ = make_blobs(n_samples=300, centers=3, random_state=42)\n",
    "\n",
    "# Create and fit a K-Means model\n",
    "kmeans = KMeans(n_clusters=3, random_state=42)\n",
    "kmeans.fit(data)\n",
    "\n",
    "# Save the K-Means model to a local file using joblib\n",
    "model_filename = \"kmeans_model.joblib\"\n",
    "joblib.dump(kmeans, model_filename)\n",
    "\n",
    "print(\"K-Means model saved to\", model_filename)\n"
   ]
  },
  {
   "cell_type": "code",
   "execution_count": 51,
   "id": "e071b348-82f2-473d-867d-6d5ef51308ae",
   "metadata": {},
   "outputs": [],
   "source": [
    "import numpy as np\n",
    "from sklearn.cluster import KMeans\n",
    "import joblib\n",
    "import json\n",
    "import numpy as np\n",
    "import pickle\n",
    "import os\n",
    "from sentence_transformers import SentenceTransformer, util\n",
    "\n",
    "\n",
    "def load_save_embeddings(data_path,save_path):\n",
    "    with open(data_path, 'r') as json_file:\n",
    "        data = json.load(json_file)\n",
    "    questions = [i['question'] for i in data]\n",
    "    print('Embeddings starting!')\n",
    "    embeddings = model.encode(questions)\n",
    "    print('Embeddings complete!')\n",
    "    np.save(save_path, embeddings)\n",
    "\n",
    "def kmeans_cluster_data(data_path, emb_path, num_clusters):\n",
    "    with open(data_path, 'r') as json_file:\n",
    "        data = json.load(json_file)\n",
    "    embeddings = np.load(emb_path)\n",
    "    labels = ['' for i in embeddings]\n",
    "    kmeans_path = os.path.join('/workspace/CS762_Project/Kmeans_data', f'k_{num_clusters}')\n",
    "    os.makedirs(kmeans_path, exist_ok=True)\n",
    "    # Perform k-means clustering\n",
    "    kmeans = KMeans(n_clusters=num_clusters, random_state=42)\n",
    "    kmeans_model = kmeans.fit(embeddings)\n",
    "    cluster_labels = kmeans_model.predict(embeddings)\n",
    "    cluster_centers = kmeans.cluster_centers_\n",
    "    model_filename = os.path.join(kmeans_path, 'kmeans_model.joblib')\n",
    "    joblib.dump(kmeans_model, model_filename)\n",
    "\n",
    "    cluster_dict = {}\n",
    "    for idx,i in enumerate(cluster_labels):\n",
    "        if i not in cluster_dict:\n",
    "            cluster_dict[i] = []\n",
    "        cluster_dict[i].append(data[idx])\n",
    "    d_path = os.path.join(kmeans_path, 'clustered_data.json')\n",
    "    cluster_dict = {str(k):v for k,v in cluster_dict.items()}\n",
    "    # print(cluster_dict)\n",
    "    with open(d_path, 'w') as data_file:\n",
    "        json.dump(cluster_dict, data_file)\n"
   ]
  },
  {
   "cell_type": "code",
   "execution_count": 52,
   "id": "4e2be25e-b1e6-473b-94ae-bb104aa1733d",
   "metadata": {},
   "outputs": [
    {
     "name": "stdout",
     "output_type": "stream",
     "text": [
      "Embeddings starting!\n",
      "Embeddings complete!\n"
     ]
    }
   ],
   "source": [
    "emb_path = 'final_combined_data_Dec15_embeddings.npy'\n",
    "data_path = '/workspace/CS762_Project/Data_files/final_combined_data_Dec15.json'\n",
    "\n",
    "load_save_embeddings(data_path,emb_path)"
   ]
  },
  {
   "cell_type": "code",
   "execution_count": 53,
   "id": "c6d7d00e-5c47-41ad-a277-b2d6a8660473",
   "metadata": {},
   "outputs": [
    {
     "name": "stderr",
     "output_type": "stream",
     "text": [
      "/usr/local/lib/python3.10/dist-packages/sklearn/cluster/_kmeans.py:1416: FutureWarning: The default value of `n_init` will change from 10 to 'auto' in 1.4. Set the value of `n_init` explicitly to suppress the warning\n",
      "  super()._check_params_vs_input(X, default_n_init=10)\n"
     ]
    }
   ],
   "source": [
    "data_path = '/workspace/CS762_Project/Data_files/final_combined_data_Dec15.json'\n",
    "emb_path = 'final_combined_data_Dec15_embeddings.npy'\n",
    "\n",
    "kmeans_cluster_data(data_path, emb_path, 5)"
   ]
  },
  {
   "cell_type": "code",
   "execution_count": null,
   "id": "60102079-fc69-4d00-833b-437167ec909d",
   "metadata": {},
   "outputs": [],
   "source": []
  },
  {
   "cell_type": "code",
   "execution_count": 54,
   "id": "d34e8507-420b-4be4-85fb-b17d4408c56d",
   "metadata": {
    "scrolled": true
   },
   "outputs": [],
   "source": [
    "with open('/workspace/CS762_Project/Kmeans_data/k_5/clustered_data.json', 'r') as json_file:\n",
    "    data = json.load(json_file)"
   ]
  },
  {
   "cell_type": "code",
   "execution_count": 55,
   "id": "1b2f80bf-bf8b-44ef-9157-48c3624ce074",
   "metadata": {
    "scrolled": true
   },
   "outputs": [
    {
     "data": {
      "text/plain": [
       "{'2': 5890, '1': 1966, '0': 3126, '3': 6387, '4': 2883}"
      ]
     },
     "execution_count": 55,
     "metadata": {},
     "output_type": "execute_result"
    }
   ],
   "source": [
    "{k:len(v) for k,v in data.items()}"
   ]
  },
  {
   "cell_type": "code",
   "execution_count": null,
   "id": "249bf754-bd8d-4a26-ba54-1c6cd0538b99",
   "metadata": {},
   "outputs": [],
   "source": [
    "{'2': 5890, '1': 1966, '0': 3126, '3': 6387, '4': 2883}"
   ]
  }
 ],
 "metadata": {
  "kernelspec": {
   "display_name": "Python 3 (ipykernel)",
   "language": "python",
   "name": "python3"
  },
  "language_info": {
   "codemirror_mode": {
    "name": "ipython",
    "version": 3
   },
   "file_extension": ".py",
   "mimetype": "text/x-python",
   "name": "python",
   "nbconvert_exporter": "python",
   "pygments_lexer": "ipython3",
   "version": "3.10.12"
  }
 },
 "nbformat": 4,
 "nbformat_minor": 5
}
