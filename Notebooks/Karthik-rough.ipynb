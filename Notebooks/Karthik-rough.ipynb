{
 "cells": [
  {
   "cell_type": "code",
   "execution_count": 19,
   "id": "f2228d1b-63a3-4321-b288-4e5561d0ebfb",
   "metadata": {},
   "outputs": [],
   "source": [
    "import json\n",
    "with open('/workspace/CS762_Project/Data_files/processed_seed_data_w_gen_asserts.json', 'r') as json_file:\n",
    "    data = json.load(json_file)"
   ]
  },
  {
   "cell_type": "code",
   "execution_count": 20,
   "id": "92af9279-80e7-4682-bbb7-5732c5a1afca",
   "metadata": {},
   "outputs": [],
   "source": [
    "def get_cats(data):\n",
    "    cats = {}\n",
    "    for i in data:\n",
    "        cat = i['categories'][0]\n",
    "        if cat not in cats:\n",
    "            cats[cat]=0\n",
    "        cats[cat]+=1\n",
    "    return cats"
   ]
  },
  {
   "cell_type": "code",
   "execution_count": 21,
   "id": "06ed8613-43da-42d1-bc7c-638d764dd831",
   "metadata": {},
   "outputs": [
    {
     "data": {
      "text/plain": [
       "{'Matrix/Grid': 3,\n",
       " 'Heap': 4,\n",
       " 'Searching Algorithm': 3,\n",
       " 'Hash': 6,\n",
       " 'Bitwise Algorithms': 5,\n",
       " 'Sorting Algorithms': 3,\n",
       " 'Dynamic Programming': 7,\n",
       " 'Stack': 4,\n",
       " 'Divide and Conquer': 1,\n",
       " 'Math': 4,\n",
       " 'Geometry': 2,\n",
       " 'Pattern': 5,\n",
       " 'array': 6,\n",
       " 'string': 5}"
      ]
     },
     "execution_count": 21,
     "metadata": {},
     "output_type": "execute_result"
    }
   ],
   "source": [
    "from copy import deepcopy\n",
    "change_dict = {\"'array'\":'array',\"'array', 'sorting'\":'array',\"'backtracking', 'recursion'\":'Dynamic Programming',\"'greedy', 'array'\":'array', \"'greedy', 'array', 'sorting'\":'array',\"'queue', 'string'\":'string',\"'greedy'\":'array',\"'recursion', 'mathematical'\":'Dynamic Programming',\"'string'\":'string',\"'string', 'pattern searching'\":'string'}\n",
    "data_copy = deepcopy(data)\n",
    "for idx in range(len(data_copy)):\n",
    "    cat = data_copy[idx]['categories'][0]\n",
    "    if cat in change_dict:\n",
    "        data_copy[idx]['categories'] = [change_dict[cat]]\n",
    "\n",
    "get_cats(data_copy)"
   ]
  },
  {
   "cell_type": "code",
   "execution_count": 1,
   "id": "216ca120-5ca3-4c3c-a367-bc2b65d8b951",
   "metadata": {},
   "outputs": [],
   "source": [
    "import json\n",
    "with open('../Data_files/filtered_combined_with_seed_data_Dec8.json', 'r') as json_file:\n",
    "    data = json.load(json_file)"
   ]
  },
  {
   "cell_type": "code",
   "execution_count": 2,
   "id": "181fddad",
   "metadata": {},
   "outputs": [
    {
     "data": {
      "text/plain": [
       "243"
      ]
     },
     "execution_count": 2,
     "metadata": {},
     "output_type": "execute_result"
    }
   ],
   "source": [
    "new_data = []\n",
    "for i in data:\n",
    "    new_data.extend(data[i])\n",
    "len(new_data)"
   ]
  },
  {
   "cell_type": "code",
   "execution_count": 42,
   "id": "4d7dad09",
   "metadata": {},
   "outputs": [
    {
     "name": "stdout",
     "output_type": "stream",
     "text": [
      "918.5463917525773\n",
      "320.44329896907215\n",
      "average Total price for 100 generations with 2 few shot is 0.156\n"
     ]
    }
   ],
   "source": [
    "import numpy as np\n",
    "prompt_tokens = []\n",
    "total_tokens = []\n",
    "completion_tokens = []\n",
    "prompt_price = 0.001/1000\n",
    "completion_price = 0.002/1000\n",
    "for i in new_data:\n",
    "    if 'prompt_tokens' in i.keys():\n",
    "        prompt_tokens.append(i['prompt_tokens'])\n",
    "        total_tokens.append(i['total_tokens'])\n",
    "        completion_tokens.append(i['completion_tokens'])\n",
    "avg_prompt_tokens = np.mean(prompt_tokens)\n",
    "avg_completion_tokens = np.mean(completion_tokens)\n",
    "print(avg_prompt_tokens)\n",
    "print(avg_completion_tokens)\n",
    "samples = 100\n",
    "print(f\"average Total price for {samples} generations with 2 few shot is {round(samples*(prompt_price*avg_prompt_tokens + avg_completion_tokens*completion_price),3)}\")"
   ]
  },
  {
   "cell_type": "code",
   "execution_count": null,
   "id": "cbc0dcf3",
   "metadata": {},
   "outputs": [],
   "source": [
    "$0.0010 / 1K tokens\n",
    "$0.002 / 1K tokens"
   ]
  },
  {
   "cell_type": "code",
   "execution_count": 3,
   "id": "bde6917e-0df3-473e-912b-3aa2fd1f668d",
   "metadata": {},
   "outputs": [],
   "source": [
    "from itertools import combinations\n",
    "\n",
    "def generate_combinations(input_list,r):\n",
    "    return list(combinations(input_list, r))"
   ]
  },
  {
   "cell_type": "code",
   "execution_count": 8,
   "id": "95bf38e7",
   "metadata": {},
   "outputs": [],
   "source": [
    "from itertools import permutations\n",
    "\n",
    "def generate_permutations(input_list,r):\n",
    "    # Generate permutations\n",
    "    return list(permutations(input_list,r))\n"
   ]
  },
  {
   "cell_type": "code",
   "execution_count": 31,
   "id": "28c0706c",
   "metadata": {
    "scrolled": true
   },
   "outputs": [
    {
     "name": "stdout",
     "output_type": "stream",
     "text": [
      "Matrix\n",
      "56\n",
      "336\n",
      "Searching\n",
      "20\n",
      "120\n",
      "Stack\n",
      "56\n",
      "336\n"
     ]
    }
   ],
   "source": [
    "data_combinations = {}\n",
    "\n",
    "for i in data:\n",
    "    cat_list = data[i]\n",
    "    cat_combinations = generate_combinations(cat_list,3)\n",
    "    cat_perms = generate_permutations(cat_list,3)\n",
    "    if len(cat_combinations)<200:\n",
    "        print(i)\n",
    "        print(len(cat_combinations))\n",
    "        print(len(cat_perms))\n",
    "        data_combinations[i] = cat_perms\n",
    "    else:\n",
    "        data_combinations[i] = cat_combinations\n"
   ]
  },
  {
   "cell_type": "code",
   "execution_count": 32,
   "id": "580fe7fe",
   "metadata": {},
   "outputs": [
    {
     "name": "stdout",
     "output_type": "stream",
     "text": [
      "Hash\n",
      "680\n",
      "Matrix\n",
      "336\n",
      "Bitwise\n",
      "220\n",
      "Searching\n",
      "120\n",
      "Heap\n",
      "220\n",
      "Stack\n",
      "336\n",
      "Dynamic_programming\n",
      "364\n",
      "Math\n",
      "7770\n",
      "Pattern\n",
      "3276\n",
      "String\n",
      "15180\n",
      "Array\n",
      "26235\n"
     ]
    }
   ],
   "source": [
    "for i in data_combinations:\n",
    "    print(i)\n",
    "    print(len(data_combinations[i]))"
   ]
  },
  {
   "cell_type": "code",
   "execution_count": 22,
   "id": "9097544e",
   "metadata": {},
   "outputs": [
    {
     "data": {
      "text/plain": [
       "336"
      ]
     },
     "execution_count": 22,
     "metadata": {},
     "output_type": "execute_result"
    }
   ],
   "source": [
    "len(data_combinations['Stack'])"
   ]
  },
  {
   "cell_type": "code",
   "execution_count": 23,
   "id": "2602b4d0",
   "metadata": {},
   "outputs": [],
   "source": [
    "import random\n",
    "sample_data = random.sample(data_combinations['Stack'], 200)"
   ]
  },
  {
   "cell_type": "code",
   "execution_count": 28,
   "id": "1a406b70",
   "metadata": {},
   "outputs": [
    {
     "data": {
      "text/plain": [
       "3"
      ]
     },
     "execution_count": 28,
     "metadata": {},
     "output_type": "execute_result"
    }
   ],
   "source": [
    "sample_data[0]"
   ]
  },
  {
   "cell_type": "code",
   "execution_count": 41,
   "id": "a0c893db",
   "metadata": {},
   "outputs": [],
   "source": [
    "with open('data_combinations_v1.json', 'w') as json_file:\n",
    "    json.dump(data_combinations, json_file, indent=4)"
   ]
  },
  {
   "cell_type": "code",
   "execution_count": 43,
   "id": "fc121cd7",
   "metadata": {},
   "outputs": [],
   "source": [
    "import json\n",
    "with open('Hash_results_v2_Dec8.json', 'r') as json_file:\n",
    "    hash_results = json.load(json_file)\n",
    "with open('Matrix_results_v2_Dec8.json', 'r') as json_file:\n",
    "    matrix_results = json.load(json_file)\n",
    "with open('Bitwise_results_v2_Dec8.json', 'r') as json_file:\n",
    "    bitwise_results = json.load(json_file)  \n",
    "with open('Searching_results_v2_Dec8.json', 'r') as json_file:\n",
    "    searching_results = json.load(json_file)"
   ]
  },
  {
   "cell_type": "code",
   "execution_count": 44,
   "id": "acaad73b",
   "metadata": {},
   "outputs": [],
   "source": [
    "combined_results = hash_results+matrix_results+bitwise_results+searching_results"
   ]
  },
  {
   "cell_type": "code",
   "execution_count": 46,
   "id": "ede61481",
   "metadata": {},
   "outputs": [],
   "source": [
    "prompt_tokens = []\n",
    "total_tokens = []\n",
    "completion_tokens = []\n",
    "for i in combined_results:\n",
    "    prompt_tokens.append(i['prompt_tokens'])\n",
    "    total_tokens.append(i['total_tokens'])\n",
    "    completion_tokens.append(i['completion_tokens'])"
   ]
  },
  {
   "cell_type": "code",
   "execution_count": 48,
   "id": "e8d0f7b9",
   "metadata": {},
   "outputs": [
    {
     "data": {
      "text/plain": [
       "1072"
      ]
     },
     "execution_count": 48,
     "metadata": {},
     "output_type": "execute_result"
    }
   ],
   "source": [
    "len(prompt_tokens)"
   ]
  },
  {
   "cell_type": "code",
   "execution_count": 47,
   "id": "a1eba8b9",
   "metadata": {},
   "outputs": [
    {
     "name": "stdout",
     "output_type": "stream",
     "text": [
      "1250796\n",
      "1528887\n",
      "278091\n"
     ]
    }
   ],
   "source": [
    "print(sum(prompt_tokens))\n",
    "print(sum(total_tokens))\n",
    "print(sum(completion_tokens))"
   ]
  },
  {
   "cell_type": "code",
   "execution_count": 57,
   "id": "4c93250b",
   "metadata": {},
   "outputs": [
    {
     "data": {
      "text/plain": [
       "69464"
      ]
     },
     "execution_count": 57,
     "metadata": {},
     "output_type": "execute_result"
    }
   ],
   "source": [
    "sum(completion_tokens[-300:])"
   ]
  },
  {
   "cell_type": "code",
   "execution_count": 97,
   "id": "72b01e32",
   "metadata": {},
   "outputs": [
    {
     "name": "stdout",
     "output_type": "stream",
     "text": [
      "\n",
      "Generate a pattern of letters where each row is a palindrome and each column is also a palindrome.\n",
      "\n",
      "###Code:\n",
      "\n",
      "```python\n",
      "def generatePalindromePattern(rows: int, cols: int, start: str) -> List[List[str]]:\n",
      "    pattern = []\n",
      "    for i in range(rows):\n",
      "        row = [start + chr(ord(start) + i) + start for _ in range(cols)]\n",
      "        pattern.append(row)\n",
      "    return pattern\n",
      "\n",
      "```\n",
      "\n",
      "###Testcases:\n",
      "\n",
      "```python\n",
      "assert generatePalindromePattern(2, 3, 'a') == [['aaa', 'aba', 'aaa'], ['aaa', 'aba', 'aaa']]\n",
      "assert generatePalindromePattern(2, 2, 'b') == [['bbb', 'bab'], ['bab', 'bbb']]\n",
      "assert generatePalindromePattern(3, 3, 'c') == [['ccc', 'cdc', 'ccc'], ['ccc', 'cdc', 'ccc'], ['ccc', 'cdc', 'ccc']]\n",
      "assert generatePalindromePattern(1, 1, 'd') == [['ddd']]\n",
      "assert generatePalindromePattern(4, 4, 'e') == [['eee', 'ege', 'ege', 'eee'], ['eee', 'ege', 'ege', 'eee'], ['eee', 'ege', 'ege', 'eee'], ['eee', 'ege', 'ege', 'eee']]\n",
      "```\n",
      "\n"
     ]
    }
   ],
   "source": [
    "import re\n",
    "str1 = '''\n",
    "Generate a pattern of letters where each row is a palindrome and each column is also a palindrome.\n",
    "\n",
    "###Code:\n",
    "\n",
    "```python\n",
    "def generatePalindromePattern(rows: int, cols: int, start: str) -> List[List[str]]:\n",
    "    pattern = []\n",
    "    for i in range(rows):\n",
    "        row = [start + chr(ord(start) + i) + start for _ in range(cols)]\n",
    "        pattern.append(row)\n",
    "    return pattern\n",
    "\n",
    "# Example usage\n",
    "pattern = generatePalindromePattern(3, 4, 'a')\n",
    "for row in pattern:\n",
    "    print(row)\n",
    "```\n",
    "\n",
    "###Testcases:\n",
    "\n",
    "```python\n",
    "assert generatePalindromePattern(2, 3, 'a') == [['aaa', 'aba', 'aaa'], ['aaa', 'aba', 'aaa']]\n",
    "assert generatePalindromePattern(2, 2, 'b') == [['bbb', 'bab'], ['bab', 'bbb']]\n",
    "assert generatePalindromePattern(3, 3, 'c') == [['ccc', 'cdc', 'ccc'], ['ccc', 'cdc', 'ccc'], ['ccc', 'cdc', 'ccc']]\n",
    "assert generatePalindromePattern(1, 1, 'd') == [['ddd']]\n",
    "assert generatePalindromePattern(4, 4, 'e') == [['eee', 'ege', 'ege', 'eee'], ['eee', 'ege', 'ege', 'eee'], ['eee', 'ege', 'ege', 'eee'], ['eee', 'ege', 'ege', 'eee']]\n",
    "```\n",
    "'''\n",
    "pattern_to_replace = r'# Example usage.*?```'\n",
    "search_pattern = re.search(pattern_to_replace, str1, flags=re.DOTALL)\n",
    "output_string = re.sub(pattern_to_replace, '', str1, flags=re.DOTALL)\n",
    "idx = search_pattern.span()[0]\n",
    "modified_string = output_string[:idx] + '```' + output_string[idx:]\n",
    "print(modified_string)\n",
    "# example_usage = '# Example usage[\\n.*]*'\n",
    "# pat = '###Code:'\n",
    "# str2 = re.sub(example_usage, '', str1, re.MULTILINE)\n",
    "# print(str2)"
   ]
  },
  {
   "cell_type": "code",
   "execution_count": 93,
   "id": "340b2d21",
   "metadata": {},
   "outputs": [
    {
     "name": "stdout",
     "output_type": "stream",
     "text": [
      "Original text: Hello, world!\n",
      "Result after inserting '123' at index 5: Hello123, world!\n"
     ]
    }
   ],
   "source": [
    "def insert_characters(original_string, index, characters_to_insert):\n",
    "    # Check if the index is within the bounds of the original string\n",
    "    if index < 0 or index > len(original_string):\n",
    "        raise ValueError(\"Index is out of bounds\")\n",
    "\n",
    "    # Insert characters at the specified index\n",
    "    modified_string = original_string[:index] + characters_to_insert + original_string[index:]\n",
    "\n",
    "    return modified_string\n",
    "\n",
    "# Example usage:\n",
    "original_text = \"Hello, world!\"\n",
    "index_to_insert = 5\n",
    "characters_to_insert = \"123\"\n",
    "\n",
    "result = insert_characters(original_text, index_to_insert, characters_to_insert)\n",
    "\n",
    "# Display the result\n",
    "print(\"Original text:\", original_text)\n",
    "print(f\"Result after inserting '{characters_to_insert}' at index {index_to_insert}:\", result)\n"
   ]
  },
  {
   "cell_type": "code",
   "execution_count": null,
   "id": "df4a09d5",
   "metadata": {},
   "outputs": [],
   "source": []
  }
 ],
 "metadata": {
  "kernelspec": {
   "display_name": "Python 3 (ipykernel)",
   "language": "python",
   "name": "python3"
  },
  "language_info": {
   "codemirror_mode": {
    "name": "ipython",
    "version": 3
   },
   "file_extension": ".py",
   "mimetype": "text/x-python",
   "name": "python",
   "nbconvert_exporter": "python",
   "pygments_lexer": "ipython3",
   "version": "3.10.12"
  }
 },
 "nbformat": 4,
 "nbformat_minor": 5
}
