{
 "cells": [
  {
   "cell_type": "code",
   "execution_count": 19,
   "id": "f2228d1b-63a3-4321-b288-4e5561d0ebfb",
   "metadata": {},
   "outputs": [],
   "source": [
    "import json\n",
    "with open('/workspace/CS762_Project/Data_files/processed_seed_data_w_gen_asserts.json', 'r') as json_file:\n",
    "    data = json.load(json_file)"
   ]
  },
  {
   "cell_type": "code",
   "execution_count": 20,
   "id": "92af9279-80e7-4682-bbb7-5732c5a1afca",
   "metadata": {},
   "outputs": [],
   "source": [
    "def get_cats(data):\n",
    "    cats = {}\n",
    "    for i in data:\n",
    "        cat = i['categories'][0]\n",
    "        if cat not in cats:\n",
    "            cats[cat]=0\n",
    "        cats[cat]+=1\n",
    "    return cats"
   ]
  },
  {
   "cell_type": "code",
   "execution_count": 21,
   "id": "06ed8613-43da-42d1-bc7c-638d764dd831",
   "metadata": {},
   "outputs": [
    {
     "data": {
      "text/plain": [
       "{'Matrix/Grid': 3,\n",
       " 'Heap': 4,\n",
       " 'Searching Algorithm': 3,\n",
       " 'Hash': 6,\n",
       " 'Bitwise Algorithms': 5,\n",
       " 'Sorting Algorithms': 3,\n",
       " 'Dynamic Programming': 7,\n",
       " 'Stack': 4,\n",
       " 'Divide and Conquer': 1,\n",
       " 'Math': 4,\n",
       " 'Geometry': 2,\n",
       " 'Pattern': 5,\n",
       " 'array': 6,\n",
       " 'string': 5}"
      ]
     },
     "execution_count": 21,
     "metadata": {},
     "output_type": "execute_result"
    }
   ],
   "source": [
    "from copy import deepcopy\n",
    "change_dict = {\"'array'\":'array',\"'array', 'sorting'\":'array',\"'backtracking', 'recursion'\":'Dynamic Programming',\"'greedy', 'array'\":'array', \"'greedy', 'array', 'sorting'\":'array',\"'queue', 'string'\":'string',\"'greedy'\":'array',\"'recursion', 'mathematical'\":'Dynamic Programming',\"'string'\":'string',\"'string', 'pattern searching'\":'string'}\n",
    "data_copy = deepcopy(data)\n",
    "for idx in range(len(data_copy)):\n",
    "    cat = data_copy[idx]['categories'][0]\n",
    "    if cat in change_dict:\n",
    "        data_copy[idx]['categories'] = [change_dict[cat]]\n",
    "\n",
    "get_cats(data_copy)"
   ]
  },
  {
   "cell_type": "code",
   "execution_count": 10,
   "id": "216ca120-5ca3-4c3c-a367-bc2b65d8b951",
   "metadata": {},
   "outputs": [],
   "source": []
  },
  {
   "cell_type": "code",
   "execution_count": 11,
   "id": "ecc3f31d-9527-409d-afd4-61b392ba44f5",
   "metadata": {},
   "outputs": [
    {
     "data": {
      "text/plain": [
       "{'Matrix/Grid': 3,\n",
       " 'Heap': 4,\n",
       " 'Searching Algorithm': 3,\n",
       " 'Hash': 6,\n",
       " 'Bitwise Algorithms': 5,\n",
       " 'Sorting Algorithms': 3,\n",
       " 'Dynamic Programming': 4,\n",
       " 'Stack': 4,\n",
       " 'Divide and Conquer': 1,\n",
       " 'Math': 4,\n",
       " 'Geometry': 2,\n",
       " 'Pattern': 5,\n",
       " \"'array', 'sorting'\": 1,\n",
       " \"'array'\": 2,\n",
       " \"'backtracking', 'recursion'\": 1,\n",
       " \"'greedy', 'array'\": 1,\n",
       " \"'greedy', 'array', 'sorting'\": 1,\n",
       " \"'greedy'\": 1,\n",
       " \"'queue', 'string'\": 1,\n",
       " \"'recursion', 'mathematical'\": 2,\n",
       " \"'string'\": 3,\n",
       " \"'string', 'pattern searching'\": 1}"
      ]
     },
     "execution_count": 11,
     "metadata": {},
     "output_type": "execute_result"
    }
   ],
   "source": [
    "cats"
   ]
  },
  {
   "cell_type": "code",
   "execution_count": null,
   "id": "bde6917e-0df3-473e-912b-3aa2fd1f668d",
   "metadata": {},
   "outputs": [],
   "source": []
  }
 ],
 "metadata": {
  "kernelspec": {
   "display_name": "Python 3",
   "language": "python",
   "name": "python3"
  },
  "language_info": {
   "codemirror_mode": {
    "name": "ipython",
    "version": 3
   },
   "file_extension": ".py",
   "mimetype": "text/x-python",
   "name": "python",
   "nbconvert_exporter": "python",
   "pygments_lexer": "ipython3",
   "version": "3.8.8"
  }
 },
 "nbformat": 4,
 "nbformat_minor": 5
}
