{
 "cells": [
  {
   "cell_type": "code",
   "execution_count": 87,
   "id": "23b305b3-fac1-4e20-ac76-0f855dd9074e",
   "metadata": {},
   "outputs": [],
   "source": [
    "import re"
   ]
  },
  {
   "cell_type": "code",
   "execution_count": 88,
   "id": "b5274656-bfbb-41ee-ba30-43cd50de4c79",
   "metadata": {},
   "outputs": [],
   "source": [
    "import pandas as pd\n",
    "import json"
   ]
  },
  {
   "cell_type": "code",
   "execution_count": 89,
   "id": "c6604ef9-1136-4e38-929b-61eac76b0c10",
   "metadata": {},
   "outputs": [],
   "source": [
    "from datasets import load_dataset\n",
    "\n",
    "dataset = load_dataset(\"openai_humaneval\")"
   ]
  },
  {
   "cell_type": "code",
   "execution_count": 90,
   "id": "80852528-260f-4e4c-8518-a91e8df32a24",
   "metadata": {},
   "outputs": [],
   "source": [
    "df = pd.DataFrame(dataset[\"test\"])"
   ]
  },
  {
   "cell_type": "code",
   "execution_count": 91,
   "id": "af083404-6cc5-4a7d-8c77-7b23744fc111",
   "metadata": {},
   "outputs": [],
   "source": [
    "def split_into_func_singature_and_question(code_string: str, pattern = r'\"\"\".*?\"\"\"'):\n",
    "    temp_code_string = code_string\n",
    "    matches = re.findall(pattern, code_string, re.DOTALL)\n",
    "\n",
    "    if matches:\n",
    "        question = matches[-1]\n",
    "        func_signature = code_string.replace(question, \"\")\n",
    "        question = '\"\"\"\\n' + question.replace(\"    \", \"\").replace('\"\"\"', '')[1:] + '\\n\"\"\"'\n",
    "        return func_signature, question\n",
    "    else:\n",
    "        return split_into_func_singature_and_question(temp_code_string, r\"'''.*?'''\")"
   ]
  },
  {
   "cell_type": "code",
   "execution_count": 92,
   "id": "2554fcd7-57f0-492a-a2b4-0abc8007f4df",
   "metadata": {},
   "outputs": [],
   "source": [
    "# Not used\n",
    "def split_comment_into_question_and_examples(code_string):\n",
    "    pattern = r\">>> (.*?)\\n(.*?)\\n\"\n",
    "    matches = re.findall(pattern, code_string, re.DOTALL)\n",
    "\n",
    "    examples = []\n",
    "    for match in matches:\n",
    "        input_example, output_example = match\n",
    "        examples.append((input_example.strip(), output_example.strip()))\n",
    "        example_block = f\">>> {input_example}\\n{output_example}\"\n",
    "        code_string = code_string.replace(example_block, \"\")\n",
    "\n",
    "    return code_string.strip(), examples"
   ]
  },
  {
   "cell_type": "code",
   "execution_count": 93,
   "id": "94bb7ea1-85f3-435b-a60f-7f67c7d073e4",
   "metadata": {},
   "outputs": [],
   "source": [
    "def process_prompt(prompt: str):\n",
    "    func_signature, question = split_into_func_singature_and_question(prompt)\n",
    "    return func_signature, question"
   ]
  },
  {
   "cell_type": "code",
   "execution_count": 94,
   "id": "f0ee82f7-4c13-44d1-811d-46854e8471f0",
   "metadata": {},
   "outputs": [],
   "source": [
    "json_data = []"
   ]
  },
  {
   "cell_type": "code",
   "execution_count": 95,
   "id": "2c41fc4c-dab5-4c6e-92fd-5079cca55daf",
   "metadata": {},
   "outputs": [],
   "source": [
    "for index, row in df.iterrows():\n",
    "    data = {}\n",
    "    data['task_id'] = row['task_id']\n",
    "    data['canonical_solution'] = row['canonical_solution']\n",
    "    data['test'] = row['test']\n",
    "    data['entry_point'] = row['entry_point']\n",
    "    data['function_signature'], data['question']= process_prompt(row['prompt'])\n",
    "    json_data.append(data)"
   ]
  },
  {
   "cell_type": "code",
   "execution_count": 96,
   "id": "565175c5-0a13-4a60-8aa2-8f6a9dac5d9e",
   "metadata": {},
   "outputs": [
    {
     "data": {
      "text/plain": [
       "164"
      ]
     },
     "execution_count": 96,
     "metadata": {},
     "output_type": "execute_result"
    }
   ],
   "source": [
    "len(json_data)"
   ]
  },
  {
   "cell_type": "code",
   "execution_count": 97,
   "id": "58dcf8d6-83c0-4625-9749-0482942e9298",
   "metadata": {},
   "outputs": [],
   "source": [
    "with open(\"./../Data_files/human_eval.json\", 'w') as json_file:\n",
    "    json.dump(json_data, json_file, indent=4)"
   ]
  },
  {
   "cell_type": "code",
   "execution_count": null,
   "id": "135c02a7-b170-4b99-9d86-313d7676adbd",
   "metadata": {},
   "outputs": [],
   "source": []
  },
  {
   "cell_type": "code",
   "execution_count": null,
   "id": "9ce41b9f-51fb-49d2-95c4-7958ac8c4785",
   "metadata": {},
   "outputs": [],
   "source": []
  },
  {
   "cell_type": "code",
   "execution_count": null,
   "id": "bc6308d2-bc0e-455a-b330-1dc49c0a736f",
   "metadata": {},
   "outputs": [],
   "source": []
  },
  {
   "cell_type": "code",
   "execution_count": null,
   "id": "46424bef-1cbd-4915-8196-b60cdc6bd571",
   "metadata": {},
   "outputs": [],
   "source": []
  },
  {
   "cell_type": "code",
   "execution_count": 12,
   "id": "25a5a8cb-a462-4ff3-a455-2329602b5905",
   "metadata": {},
   "outputs": [],
   "source": [
    "# test"
   ]
  },
  {
   "cell_type": "code",
   "execution_count": 46,
   "id": "80c0e2ec-7457-47c6-9e6e-358974b48ffb",
   "metadata": {},
   "outputs": [
    {
     "name": "stdout",
     "output_type": "stream",
     "text": [
      "{'task_id': 'HumanEval/69', 'canonical_solution': '    frq = [0] * (max(lst) + 1)\\n    for i in lst:\\n        frq[i] += 1;\\n\\n    ans = -1\\n    for i in range(1, len(frq)):\\n        if frq[i] >= i:\\n            ans = i\\n    \\n    return ans\\n', 'test': 'def check(candidate):\\n\\n    # manually generated tests\\n    assert candidate([5, 5, 5, 5, 1]) == 1\\n    assert candidate([4, 1, 4, 1, 4, 4]) == 4\\n    assert candidate([3, 3]) == -1\\n    assert candidate([8, 8, 8, 8, 8, 8, 8, 8]) == 8\\n    assert candidate([2, 3, 3, 2, 2]) == 2\\n\\n    # automatically generated tests\\n    assert candidate([2, 7, 8, 8, 4, 8, 7, 3, 9, 6, 5, 10, 4, 3, 6, 7, 1, 7, 4, 10, 8, 1]) == 1\\n    assert candidate([3, 2, 8, 2]) == 2\\n    assert candidate([6, 7, 1, 8, 8, 10, 5, 8, 5, 3, 10]) == 1\\n    assert candidate([8, 8, 3, 6, 5, 6, 4]) == -1\\n    assert candidate([6, 9, 6, 7, 1, 4, 7, 1, 8, 8, 9, 8, 10, 10, 8, 4, 10, 4, 10, 1, 2, 9, 5, 7, 9]) == 1\\n    assert candidate([1, 9, 10, 1, 3]) == 1\\n    assert candidate([6, 9, 7, 5, 8, 7, 5, 3, 7, 5, 10, 10, 3, 6, 10, 2, 8, 6, 5, 4, 9, 5, 3, 10]) == 5\\n    assert candidate([1]) == 1\\n    assert candidate([8, 8, 10, 6, 4, 3, 5, 8, 2, 4, 2, 8, 4, 6, 10, 4, 2, 1, 10, 2, 1, 1, 5]) == 4\\n    assert candidate([2, 10, 4, 8, 2, 10, 5, 1, 2, 9, 5, 5, 6, 3, 8, 6, 4, 10]) == 2\\n    assert candidate([1, 6, 10, 1, 6, 9, 10, 8, 6, 8, 7, 3]) == 1\\n    assert candidate([9, 2, 4, 1, 5, 1, 5, 2, 5, 7, 7, 7, 3, 10, 1, 5, 4, 2, 8, 4, 1, 9, 10, 7, 10, 2, 8, 10, 9, 4]) == 4\\n    assert candidate([2, 6, 4, 2, 8, 7, 5, 6, 4, 10, 4, 6, 3, 7, 8, 8, 3, 1, 4, 2, 2, 10, 7]) == 4\\n    assert candidate([9, 8, 6, 10, 2, 6, 10, 2, 7, 8, 10, 3, 8, 2, 6, 2, 3, 1]) == 2\\n    assert candidate([5, 5, 3, 9, 5, 6, 3, 2, 8, 5, 6, 10, 10, 6, 8, 4, 10, 7, 7, 10, 8]) == -1\\n    assert candidate([10]) == -1\\n    assert candidate([9, 7, 7, 2, 4, 7, 2, 10, 9, 7, 5, 7, 2]) == 2\\n    assert candidate([5, 4, 10, 2, 1, 1, 10, 3, 6, 1, 8]) == 1\\n    assert candidate([7, 9, 9, 9, 3, 4, 1, 5, 9, 1, 2, 1, 1, 10, 7, 5, 6, 7, 6, 7, 7, 6]) == 1\\n    assert candidate([3, 10, 10, 9, 2]) == -1\\n\\n', 'entry_point': 'search', 'function_signature': None, 'question': None}\n",
      "{'task_id': 'HumanEval/70', 'canonical_solution': '    res, switch = [], True\\n    while lst:\\n        res.append(min(lst) if switch else max(lst))\\n        lst.remove(res[-1])\\n        switch = not switch\\n    return res\\n', 'test': 'def check(candidate):\\n\\n    # Check some simple cases\\n    assert candidate([1, 2, 3, 4]) == [1, 4, 2, 3]\\n    assert candidate([5, 6, 7, 8, 9]) == [5, 9, 6, 8, 7]\\n    assert candidate([1, 2, 3, 4, 5]) == [1, 5, 2, 4, 3]\\n    assert candidate([5, 6, 7, 8, 9, 1]) == [1, 9, 5, 8, 6, 7]\\n    assert candidate([5, 5, 5, 5]) == [5, 5, 5, 5]\\n    assert candidate([]) == []\\n    assert candidate([1,2,3,4,5,6,7,8]) == [1, 8, 2, 7, 3, 6, 4, 5]\\n    assert candidate([0,2,2,2,5,5,-5,-5]) == [-5, 5, -5, 5, 0, 2, 2, 2]\\n    assert candidate([111111]) == [111111]\\n\\n    # Check some edge cases that are easy to work out by hand.\\n    assert True\\n\\n', 'entry_point': 'strange_sort_list', 'function_signature': None, 'question': None}\n",
      "{'task_id': 'HumanEval/71', 'canonical_solution': '    if a + b <= c or a + c <= b or b + c <= a:\\n        return -1 \\n    s = (a + b + c)/2    \\n    area = (s * (s - a) * (s - b) * (s - c)) ** 0.5\\n    area = round(area, 2)\\n    return area\\n', 'test': 'def check(candidate):\\n\\n    # Check some simple cases\\n    assert candidate(3, 4, 5) == 6.00, \"This prints if this assert fails 1 (good for debugging!)\"\\n    assert candidate(1, 2, 10) == -1\\n    assert candidate(4, 8, 5) == 8.18\\n    assert candidate(2, 2, 2) == 1.73\\n    assert candidate(1, 2, 3) == -1\\n    assert candidate(10, 5, 7) == 16.25\\n    assert candidate(2, 6, 3) == -1\\n\\n    # Check some edge cases that are easy to work out by hand.\\n    assert candidate(1, 1, 1) == 0.43, \"This prints if this assert fails 2 (also good for debugging!)\"\\n    assert candidate(2, 2, 10) == -1\\n\\n', 'entry_point': 'triangle_area', 'function_signature': None, 'question': None}\n",
      "{'task_id': 'HumanEval/72', 'canonical_solution': '    if sum(q) > w:\\n        return False\\n\\n    i, j = 0, len(q)-1\\n    while i<j:\\n        if q[i] != q[j]:\\n            return False\\n        i+=1\\n        j-=1\\n    return True\\n', 'test': 'def check(candidate):\\n\\n    # Check some simple cases\\n    assert candidate([3, 2, 3], 9) is True\\n    assert candidate([1, 2], 5) is False\\n    assert candidate([3], 5) is True\\n    assert candidate([3, 2, 3], 1) is False\\n\\n\\n    # Check some edge cases that are easy to work out by hand.\\n    assert candidate([1, 2, 3], 6) is False\\n    assert candidate([5], 5) is True\\n\\n', 'entry_point': 'will_it_fly', 'function_signature': None, 'question': None}\n",
      "{'task_id': 'HumanEval/74', 'canonical_solution': '    l1 = 0\\n    for st in lst1:\\n        l1 += len(st)\\n    \\n    l2 = 0\\n    for st in lst2:\\n        l2 += len(st)\\n    \\n    if l1 <= l2:\\n        return lst1\\n    else:\\n        return lst2\\n', 'test': 'def check(candidate):\\n\\n    # Check some simple cases\\n    assert True, \"This prints if this assert fails 1 (good for debugging!)\"\\n    assert candidate([], []) == []\\n    assert candidate([\\'hi\\', \\'admin\\'], [\\'hi\\', \\'hi\\']) == [\\'hi\\', \\'hi\\']\\n    assert candidate([\\'hi\\', \\'admin\\'], [\\'hi\\', \\'hi\\', \\'admin\\', \\'project\\']) == [\\'hi\\', \\'admin\\']\\n    assert candidate([\\'4\\'], [\\'1\\', \\'2\\', \\'3\\', \\'4\\', \\'5\\']) == [\\'4\\']\\n    assert candidate([\\'hi\\', \\'admin\\'], [\\'hI\\', \\'Hi\\']) == [\\'hI\\', \\'Hi\\']\\n    assert candidate([\\'hi\\', \\'admin\\'], [\\'hI\\', \\'hi\\', \\'hi\\']) == [\\'hI\\', \\'hi\\', \\'hi\\']\\n    assert candidate([\\'hi\\', \\'admin\\'], [\\'hI\\', \\'hi\\', \\'hii\\']) == [\\'hi\\', \\'admin\\']\\n\\n\\n    # Check some edge cases that are easy to work out by hand.\\n    assert True, \"This prints if this assert fails 2 (also good for debugging!)\"\\n    assert candidate([], [\\'this\\']) == []\\n    assert candidate([\\'this\\'], []) == []\\n\\n', 'entry_point': 'total_match', 'function_signature': None, 'question': None}\n",
      "{'task_id': 'HumanEval/77', 'canonical_solution': '    a = abs(a)\\n    return int(round(a ** (1. / 3))) ** 3 == a\\n', 'test': 'def check(candidate):\\n\\n    # Check some simple cases\\n    assert candidate(1) == True, \"First test error: \" + str(candidate(1))\\n    assert candidate(2) == False, \"Second test error: \" + str(candidate(2))\\n    assert candidate(-1) == True, \"Third test error: \" + str(candidate(-1))\\n    assert candidate(64) == True, \"Fourth test error: \" + str(candidate(64))\\n    assert candidate(180) == False, \"Fifth test error: \" + str(candidate(180))\\n    assert candidate(1000) == True, \"Sixth test error: \" + str(candidate(1000))\\n\\n\\n    # Check some edge cases that are easy to work out by hand.\\n    assert candidate(0) == True, \"1st edge test error: \" + str(candidate(0))\\n    assert candidate(1729) == False, \"2nd edge test error: \" + str(candidate(1728))\\n\\n', 'entry_point': 'iscube', 'function_signature': None, 'question': None}\n",
      "{'task_id': 'HumanEval/92', 'canonical_solution': '    \\n    if isinstance(x,int) and isinstance(y,int) and isinstance(z,int):\\n        if (x+y==z) or (x+z==y) or (y+z==x):\\n            return True\\n        return False\\n    return False\\n', 'test': 'def check(candidate):\\n\\n    # Check some simple cases\\n    assert candidate(2, 3, 1)==True, \"This prints if this assert fails 1 (good for debugging!)\"\\n    assert candidate(2.5, 2, 3)==False, \"This prints if this assert fails 2 (good for debugging!)\"\\n    assert candidate(1.5, 5, 3.5)==False, \"This prints if this assert fails 3 (good for debugging!)\"\\n    assert candidate(2, 6, 2)==False, \"This prints if this assert fails 4 (good for debugging!)\"\\n    assert candidate(4, 2, 2)==True, \"This prints if this assert fails 5 (good for debugging!)\"\\n    assert candidate(2.2, 2.2, 2.2)==False, \"This prints if this assert fails 6 (good for debugging!)\"\\n    assert candidate(-4, 6, 2)==True, \"This prints if this assert fails 7 (good for debugging!)\"\\n\\n    # Check some edge cases that are easy to work out by hand.\\n    assert candidate(2,1,1)==True, \"This prints if this assert fails 8 (also good for debugging!)\"\\n    assert candidate(3,4,7)==True, \"This prints if this assert fails 9 (also good for debugging!)\"\\n    assert candidate(3.0,4,7)==False, \"This prints if this assert fails 10 (also good for debugging!)\"\\n\\n', 'entry_point': 'any_int', 'function_signature': None, 'question': None}\n",
      "{'task_id': 'HumanEval/99', 'canonical_solution': \"    from math import floor, ceil\\n\\n    if value.count('.') == 1:\\n        # remove trailing zeros\\n        while (value[-1] == '0'):\\n            value = value[:-1]\\n\\n    num = float(value)\\n    if value[-2:] == '.5':\\n        if num > 0:\\n            res = ceil(num)\\n        else:\\n            res = floor(num)\\n    elif len(value) > 0:\\n        res = int(round(num))\\n    else:\\n        res = 0\\n\\n    return res\\n\\n\", 'test': 'def check(candidate):\\n\\n    # Check some simple cases\\n    assert candidate(\"10\") == 10, \"Test 1\"\\n    assert candidate(\"14.5\") == 15, \"Test 2\"\\n    assert candidate(\"-15.5\") == -16, \"Test 3\"\\n    assert candidate(\"15.3\") == 15, \"Test 3\"\\n\\n    # Check some edge cases that are easy to work out by hand.\\n    assert candidate(\"0\") == 0, \"Test 0\"\\n\\n', 'entry_point': 'closest_integer', 'function_signature': None, 'question': None}\n",
      "{'task_id': 'HumanEval/119', 'canonical_solution': \"    def check(s):\\n        val = 0\\n        for i in s:\\n            if i == '(':\\n                val = val + 1\\n            else:\\n                val = val - 1\\n            if val < 0:\\n                return False\\n        return True if val == 0 else False\\n\\n    S1 = lst[0] + lst[1]\\n    S2 = lst[1] + lst[0]\\n    return 'Yes' if check(S1) or check(S2) else 'No'\\n\", 'test': \"def check(candidate):\\n\\n    # Check some simple cases\\n    assert candidate(['()(', ')']) == 'Yes'\\n    assert candidate([')', ')']) == 'No'\\n    assert candidate(['(()(())', '())())']) == 'No'\\n    assert candidate([')())', '(()()(']) == 'Yes'\\n    assert candidate(['(())))', '(()())((']) == 'Yes'\\n    assert candidate(['()', '())']) == 'No'\\n    assert candidate(['(()(', '()))()']) == 'Yes'\\n    assert candidate(['((((', '((())']) == 'No'\\n    assert candidate([')(()', '(()(']) == 'No'\\n    assert candidate([')(', ')(']) == 'No'\\n    \\n\\n    # Check some edge cases that are easy to work out by hand.\\n    assert candidate(['(', ')']) == 'Yes'\\n    assert candidate([')', '(']) == 'Yes' \\n\\n\", 'entry_point': 'match_parens', 'function_signature': None, 'question': None}\n",
      "{'task_id': 'HumanEval/125', 'canonical_solution': '    if \" \" in txt:\\n        return txt.split()\\n    elif \",\" in txt:\\n        return txt.replace(\\',\\',\\' \\').split()\\n    else:\\n        return len([i for i in txt if i.islower() and ord(i)%2 == 0])\\n', 'test': 'def check(candidate):\\n\\n    assert candidate(\"Hello world!\") == [\"Hello\",\"world!\"]\\n    assert candidate(\"Hello,world!\") == [\"Hello\",\"world!\"]\\n    assert candidate(\"Hello world,!\") == [\"Hello\",\"world,!\"]\\n    assert candidate(\"Hello,Hello,world !\") == [\"Hello,Hello,world\",\"!\"]\\n    assert candidate(\"abcdef\") == 3\\n    assert candidate(\"aaabb\") == 2\\n    assert candidate(\"aaaBb\") == 1\\n    assert candidate(\"\") == 0\\n', 'entry_point': 'split_words', 'function_signature': None, 'question': None}\n",
      "{'task_id': 'HumanEval/126', 'canonical_solution': '    count_digit = dict([(i, 0) for i in lst])\\n    for i in lst:\\n        count_digit[i]+=1 \\n    if any(count_digit[i] > 2 for i in lst):\\n        return False\\n    if all(lst[i-1] <= lst[i] for i in range(1, len(lst))):\\n        return True\\n    else:\\n        return False\\n    \\n    \\n', 'test': 'def check(candidate):\\n\\n    # Check some simple cases\\n    assert candidate([5]) == True\\n    assert candidate([1, 2, 3, 4, 5]) == True\\n    assert candidate([1, 3, 2, 4, 5]) == False\\n    assert candidate([1, 2, 3, 4, 5, 6]) == True\\n    assert candidate([1, 2, 3, 4, 5, 6, 7]) == True\\n    assert candidate([1, 3, 2, 4, 5, 6, 7]) == False, \"This prints if this assert fails 1 (good for debugging!)\"\\n    assert candidate([]) == True, \"This prints if this assert fails 2 (good for debugging!)\"\\n    assert candidate([1]) == True, \"This prints if this assert fails 3 (good for debugging!)\"\\n    assert candidate([3, 2, 1]) == False, \"This prints if this assert fails 4 (good for debugging!)\"\\n    \\n    # Check some edge cases that are easy to work out by hand.\\n    assert candidate([1, 2, 2, 2, 3, 4]) == False, \"This prints if this assert fails 5 (good for debugging!)\"\\n    assert candidate([1, 2, 3, 3, 3, 4]) == False, \"This prints if this assert fails 6 (good for debugging!)\"\\n    assert candidate([1, 2, 2, 3, 3, 4]) == True, \"This prints if this assert fails 7 (good for debugging!)\"\\n    assert candidate([1, 2, 3, 4]) == True, \"This prints if this assert fails 8 (good for debugging!)\"\\n\\n', 'entry_point': 'is_sorted', 'function_signature': None, 'question': None}\n",
      "{'task_id': 'HumanEval/132', 'canonical_solution': \"    opening_bracket_index = []\\n    closing_bracket_index = []\\n    for i in range(len(string)):\\n        if string[i] == '[':\\n            opening_bracket_index.append(i)\\n        else:\\n            closing_bracket_index.append(i)\\n    closing_bracket_index.reverse()\\n    cnt = 0\\n    i = 0\\n    l = len(closing_bracket_index)\\n    for idx in opening_bracket_index:\\n        if i < l and idx < closing_bracket_index[i]:\\n            cnt += 1\\n            i += 1\\n    return cnt >= 2\\n\\n    \\n\", 'test': 'def check(candidate):\\n\\n    # Check some simple cases\\n    assert candidate(\\'[[]]\\') == True, \"This prints if this assert fails 1 (good for debugging!)\"\\n    assert candidate(\\'[]]]]]]][[[[[]\\') == False\\n    assert candidate(\\'[][]\\') == False\\n    assert candidate((\\'[]\\')) == False\\n    assert candidate(\\'[[[[]]]]\\') == True\\n    assert candidate(\\'[]]]]]]]]]]\\') == False\\n    assert candidate(\\'[][][[]]\\') == True\\n    assert candidate(\\'[[]\\') == False\\n    assert candidate(\\'[]]\\') == False\\n    assert candidate(\\'[[]][[\\') == True\\n    assert candidate(\\'[[][]]\\') == True\\n\\n    # Check some edge cases that are easy to work out by hand.\\n    assert candidate(\\'\\') == False, \"This prints if this assert fails 2 (also good for debugging!)\"\\n    assert candidate(\\'[[[[[[[[\\') == False\\n    assert candidate(\\']]]]]]]]\\') == False\\n\\n', 'entry_point': 'is_nested', 'function_signature': None, 'question': None}\n",
      "{'task_id': 'HumanEval/134', 'canonical_solution': \" \\n    check = txt.split(' ')[-1]\\n    return True if len(check) == 1 and (97 <= ord(check.lower()) <= 122) else False\\n\", 'test': 'def check(candidate):\\n\\n    # Check some simple cases\\n    assert candidate(\"apple\") == False\\n    assert candidate(\"apple pi e\") == True\\n    assert candidate(\"eeeee\") == False\\n    assert candidate(\"A\") == True\\n    assert candidate(\"Pumpkin pie \") == False\\n    assert candidate(\"Pumpkin pie 1\") == False\\n    assert candidate(\"\") == False\\n    assert candidate(\"eeeee e \") == False\\n    assert candidate(\"apple pie\") == False\\n    assert candidate(\"apple pi e \") == False\\n\\n    # Check some edge cases that are easy to work out by hand.\\n    assert True\\n\\n', 'entry_point': 'check_if_last_char_is_a_letter', 'function_signature': None, 'question': None}\n",
      "{'task_id': 'HumanEval/136', 'canonical_solution': '    smallest = list(filter(lambda x: x < 0, lst))\\n    largest = list(filter(lambda x: x > 0, lst))\\n    return (max(smallest) if smallest else None, min(largest) if largest else None)\\n', 'test': 'def check(candidate):\\n\\n    # Check some simple cases\\n    assert candidate([2, 4, 1, 3, 5, 7]) == (None, 1)\\n    assert candidate([2, 4, 1, 3, 5, 7, 0]) == (None, 1)\\n    assert candidate([1, 3, 2, 4, 5, 6, -2]) == (-2, 1)\\n    assert candidate([4, 5, 3, 6, 2, 7, -7]) == (-7, 2)\\n    assert candidate([7, 3, 8, 4, 9, 2, 5, -9]) == (-9, 2)\\n    assert candidate([]) == (None, None)\\n    assert candidate([0]) == (None, None)\\n    assert candidate([-1, -3, -5, -6]) == (-1, None)\\n    assert candidate([-1, -3, -5, -6, 0]) == (-1, None)\\n    assert candidate([-6, -4, -4, -3, 1]) == (-3, 1)\\n    assert candidate([-6, -4, -4, -3, -100, 1]) == (-3, 1)\\n\\n    # Check some edge cases that are easy to work out by hand.\\n    assert True\\n', 'entry_point': 'largest_smallest_integers', 'function_signature': None, 'question': None}\n",
      "{'task_id': 'HumanEval/148', 'canonical_solution': '    planet_names = (\"Mercury\", \"Venus\", \"Earth\", \"Mars\", \"Jupiter\", \"Saturn\", \"Uranus\", \"Neptune\")\\n    if planet1 not in planet_names or planet2 not in planet_names or planet1 == planet2:\\n        return ()\\n    planet1_index = planet_names.index(planet1)\\n    planet2_index = planet_names.index(planet2)\\n    if planet1_index < planet2_index:\\n        return (planet_names[planet1_index + 1: planet2_index])\\n    else:\\n        return (planet_names[planet2_index + 1 : planet1_index])\\n', 'test': 'def check(candidate):\\n\\n    # Check some simple cases\\n    assert candidate(\"Jupiter\", \"Neptune\") == (\"Saturn\", \"Uranus\"), \"First test error: \" + str(len(candidate(\"Jupiter\", \"Neptune\")))      \\n    assert candidate(\"Earth\", \"Mercury\") == (\"Venus\",), \"Second test error: \" + str(candidate(\"Earth\", \"Mercury\"))  \\n    assert candidate(\"Mercury\", \"Uranus\") == (\"Venus\", \"Earth\", \"Mars\", \"Jupiter\", \"Saturn\"), \"Third test error: \" + str(candidate(\"Mercury\", \"Uranus\"))      \\n    assert candidate(\"Neptune\", \"Venus\") == (\"Earth\", \"Mars\", \"Jupiter\", \"Saturn\", \"Uranus\"), \"Fourth test error: \" + str(candidate(\"Neptune\", \"Venus\"))  \\n\\n\\n    # Check some edge cases that are easy to work out by hand.\\n    assert candidate(\"Earth\", \"Earth\") == ()\\n    assert candidate(\"Mars\", \"Earth\") == ()\\n    assert candidate(\"Jupiter\", \"Makemake\") == ()\\n\\n', 'entry_point': 'bf', 'function_signature': None, 'question': None}\n",
      "{'task_id': 'HumanEval/151', 'canonical_solution': '    return sum([i**2 for i in lst if i > 0 and i%2!=0 and \".\" not in str(i)])\\n', 'test': 'def check(candidate):\\n\\n    # Check some simple cases\\n    assert candidate([]) == 0 , \"This prints if this assert fails 1 (good for debugging!)\"\\n    assert candidate([5, 4]) == 25 , \"This prints if this assert fails 2 (good for debugging!)\"\\n    assert candidate([0.1, 0.2, 0.3]) == 0 , \"This prints if this assert fails 3 (good for debugging!)\"\\n    assert candidate([-10, -20, -30]) == 0 , \"This prints if this assert fails 4 (good for debugging!)\"\\n\\n\\n    # Check some edge cases that are easy to work out by hand.\\n    assert candidate([-1, -2, 8]) == 0, \"This prints if this assert fails 5 (also good for debugging!)\"\\n    assert candidate([0.2, 3, 5]) == 34, \"This prints if this assert fails 6 (also good for debugging!)\"\\n    lst = list(range(-99, 100, 2))\\n    odd_sum = sum([i**2 for i in lst if i%2!=0 and i > 0])\\n    assert candidate(lst) == odd_sum , \"This prints if this assert fails 7 (good for debugging!)\"\\n\\n', 'entry_point': 'double_the_difference', 'function_signature': None, 'question': None}\n",
      "{'task_id': 'HumanEval/157', 'canonical_solution': '    return a*a == b*b + c*c or b*b == a*a + c*c or c*c == a*a + b*b\\n', 'test': 'def check(candidate):\\n\\n    # Check some simple cases\\n    assert candidate(3, 4, 5) == True, \"This prints if this assert fails 1 (good for debugging!)\"\\n    assert candidate(1, 2, 3) == False\\n    assert candidate(10, 6, 8) == True\\n    assert candidate(2, 2, 2) == False\\n    assert candidate(7, 24, 25) == True\\n    assert candidate(10, 5, 7) == False\\n    assert candidate(5, 12, 13) == True\\n    assert candidate(15, 8, 17) == True\\n    assert candidate(48, 55, 73) == True\\n\\n    # Check some edge cases that are easy to work out by hand.\\n    assert candidate(1, 1, 1) == False, \"This prints if this assert fails 2 (also good for debugging!)\"\\n    assert candidate(2, 2, 10) == False\\n\\n', 'entry_point': 'right_angle_triangle', 'function_signature': None, 'question': None}\n"
     ]
    }
   ],
   "source": [
    "indices = []\n",
    "for idx in range(len(json_data)):\n",
    "    data = json_data[idx]\n",
    "    if data['question'] is None:\n",
    "        print(data)\n",
    "        indices.append(idx)"
   ]
  },
  {
   "cell_type": "code",
   "execution_count": 48,
   "id": "f82b8ede-accf-4697-9c07-5029fbcd9994",
   "metadata": {},
   "outputs": [
    {
     "data": {
      "text/plain": [
       "[69, 70, 71, 72, 74, 77, 92, 99, 119, 125, 126, 132, 134, 136, 148, 151, 157]"
      ]
     },
     "execution_count": 48,
     "metadata": {},
     "output_type": "execute_result"
    }
   ],
   "source": [
    "indices"
   ]
  },
  {
   "cell_type": "code",
   "execution_count": 49,
   "id": "f1263d43-b823-4666-8dc8-7f8f2f9db9f0",
   "metadata": {},
   "outputs": [
    {
     "data": {
      "text/plain": [
       "{'task_id': 'HumanEval/69',\n",
       " 'canonical_solution': '    frq = [0] * (max(lst) + 1)\\n    for i in lst:\\n        frq[i] += 1;\\n\\n    ans = -1\\n    for i in range(1, len(frq)):\\n        if frq[i] >= i:\\n            ans = i\\n    \\n    return ans\\n',\n",
       " 'test': 'def check(candidate):\\n\\n    # manually generated tests\\n    assert candidate([5, 5, 5, 5, 1]) == 1\\n    assert candidate([4, 1, 4, 1, 4, 4]) == 4\\n    assert candidate([3, 3]) == -1\\n    assert candidate([8, 8, 8, 8, 8, 8, 8, 8]) == 8\\n    assert candidate([2, 3, 3, 2, 2]) == 2\\n\\n    # automatically generated tests\\n    assert candidate([2, 7, 8, 8, 4, 8, 7, 3, 9, 6, 5, 10, 4, 3, 6, 7, 1, 7, 4, 10, 8, 1]) == 1\\n    assert candidate([3, 2, 8, 2]) == 2\\n    assert candidate([6, 7, 1, 8, 8, 10, 5, 8, 5, 3, 10]) == 1\\n    assert candidate([8, 8, 3, 6, 5, 6, 4]) == -1\\n    assert candidate([6, 9, 6, 7, 1, 4, 7, 1, 8, 8, 9, 8, 10, 10, 8, 4, 10, 4, 10, 1, 2, 9, 5, 7, 9]) == 1\\n    assert candidate([1, 9, 10, 1, 3]) == 1\\n    assert candidate([6, 9, 7, 5, 8, 7, 5, 3, 7, 5, 10, 10, 3, 6, 10, 2, 8, 6, 5, 4, 9, 5, 3, 10]) == 5\\n    assert candidate([1]) == 1\\n    assert candidate([8, 8, 10, 6, 4, 3, 5, 8, 2, 4, 2, 8, 4, 6, 10, 4, 2, 1, 10, 2, 1, 1, 5]) == 4\\n    assert candidate([2, 10, 4, 8, 2, 10, 5, 1, 2, 9, 5, 5, 6, 3, 8, 6, 4, 10]) == 2\\n    assert candidate([1, 6, 10, 1, 6, 9, 10, 8, 6, 8, 7, 3]) == 1\\n    assert candidate([9, 2, 4, 1, 5, 1, 5, 2, 5, 7, 7, 7, 3, 10, 1, 5, 4, 2, 8, 4, 1, 9, 10, 7, 10, 2, 8, 10, 9, 4]) == 4\\n    assert candidate([2, 6, 4, 2, 8, 7, 5, 6, 4, 10, 4, 6, 3, 7, 8, 8, 3, 1, 4, 2, 2, 10, 7]) == 4\\n    assert candidate([9, 8, 6, 10, 2, 6, 10, 2, 7, 8, 10, 3, 8, 2, 6, 2, 3, 1]) == 2\\n    assert candidate([5, 5, 3, 9, 5, 6, 3, 2, 8, 5, 6, 10, 10, 6, 8, 4, 10, 7, 7, 10, 8]) == -1\\n    assert candidate([10]) == -1\\n    assert candidate([9, 7, 7, 2, 4, 7, 2, 10, 9, 7, 5, 7, 2]) == 2\\n    assert candidate([5, 4, 10, 2, 1, 1, 10, 3, 6, 1, 8]) == 1\\n    assert candidate([7, 9, 9, 9, 3, 4, 1, 5, 9, 1, 2, 1, 1, 10, 7, 5, 6, 7, 6, 7, 7, 6]) == 1\\n    assert candidate([3, 10, 10, 9, 2]) == -1\\n\\n',\n",
       " 'entry_point': 'search',\n",
       " 'function_signature': None,\n",
       " 'question': None}"
      ]
     },
     "execution_count": 49,
     "metadata": {},
     "output_type": "execute_result"
    }
   ],
   "source": [
    "json_data[69]"
   ]
  },
  {
   "cell_type": "code",
   "execution_count": 13,
   "id": "9a2fe9d2-083e-426e-84e0-c77611c701e6",
   "metadata": {},
   "outputs": [],
   "source": [
    "prompt = row['prompt']"
   ]
  },
  {
   "cell_type": "code",
   "execution_count": 18,
   "id": "f1c89531-e54f-4ecc-814e-f6ae4ea08d4a",
   "metadata": {},
   "outputs": [],
   "source": [
    "func_signature, question = split_into_func_singature_and_question(prompt)"
   ]
  },
  {
   "cell_type": "code",
   "execution_count": 19,
   "id": "8549cce2-309d-4c0a-87e3-34a6bfd71645",
   "metadata": {},
   "outputs": [
    {
     "name": "stdout",
     "output_type": "stream",
     "text": [
      "\n",
      "def smallest_change(arr):\n",
      "    \n",
      "\n"
     ]
    }
   ],
   "source": [
    "print(func_signature)"
   ]
  },
  {
   "cell_type": "code",
   "execution_count": 20,
   "id": "84f8271e-39b4-4771-bbfe-232bcb656095",
   "metadata": {},
   "outputs": [
    {
     "name": "stdout",
     "output_type": "stream",
     "text": [
      "\"\"\"\n",
      "    Given an array arr of integers, find the minimum number of elements that\n",
      "    need to be changed to make the array palindromic. A palindromic array is an array that\n",
      "    is read the same backwards and forwards. In one change, you can change one element to any other element.\n",
      "\n",
      "    For example:\n",
      "    smallest_change([1,2,3,5,4,7,9,6]) == 4\n",
      "    smallest_change([1, 2, 3, 4, 3, 2, 2]) == 1\n",
      "    smallest_change([1, 2, 3, 2, 1]) == 0\n",
      "    \"\"\"\n"
     ]
    }
   ],
   "source": [
    "print(question)"
   ]
  },
  {
   "cell_type": "code",
   "execution_count": 126,
   "id": "c5b34aa5-c55a-4e3c-bed3-1e8abd9ca92e",
   "metadata": {},
   "outputs": [],
   "source": [
    "question, examples = split_comment_into_question_and_examples(question)"
   ]
  },
  {
   "cell_type": "code",
   "execution_count": 127,
   "id": "6aad1184-0be1-43b5-9939-0d36e415a561",
   "metadata": {},
   "outputs": [
    {
     "name": "stdout",
     "output_type": "stream",
     "text": [
      "\"\"\"\n",
      "    Given a positive integer n, you have to make a pile of n levels of stones.\n",
      "    The first level has n stones.\n",
      "    The number of stones in the next level is:\n",
      "        - the next odd number if n is odd.\n",
      "        - the next even number if n is even.\n",
      "    Return the number of stones in each level in a list, where element at index\n",
      "    i represents the number of stones in the level (i+1).\n",
      "\n",
      "    Examples:\n",
      "    \n",
      "    \"\"\"\n"
     ]
    }
   ],
   "source": [
    "print(question)"
   ]
  },
  {
   "cell_type": "code",
   "execution_count": 128,
   "id": "8de3a06d-85a7-49d7-91a6-c91756301f1d",
   "metadata": {},
   "outputs": [
    {
     "name": "stdout",
     "output_type": "stream",
     "text": [
      "[('make_a_pile(3)', '[3, 5, 7]')]\n"
     ]
    }
   ],
   "source": [
    "print(examples)"
   ]
  },
  {
   "cell_type": "code",
   "execution_count": 98,
   "id": "26ea105a-bd33-48f0-8a3b-0e0ce93cfc74",
   "metadata": {},
   "outputs": [],
   "source": [
    "# good examples: 50, 100"
   ]
  },
  {
   "cell_type": "code",
   "execution_count": 75,
   "id": "e49b4cd9-b44d-452f-8a9d-c0935064fe75",
   "metadata": {},
   "outputs": [],
   "source": [
    "row = df.iloc[157]"
   ]
  },
  {
   "cell_type": "code",
   "execution_count": 76,
   "id": "ee27d609-03d1-4bf7-8bbd-7707140328b1",
   "metadata": {},
   "outputs": [
    {
     "name": "stdout",
     "output_type": "stream",
     "text": [
      "\n",
      "def right_angle_triangle(a, b, c):\n",
      "    '''\n",
      "    Given the lengths of the three sides of a triangle. Return True if the three\n",
      "    sides form a right-angled triangle, False otherwise.\n",
      "    A right-angled triangle is a triangle in which one angle is right angle or \n",
      "    90 degree.\n",
      "    Example:\n",
      "    right_angle_triangle(3, 4, 5) == True\n",
      "    right_angle_triangle(1, 2, 3) == False\n",
      "    '''\n",
      "\n"
     ]
    }
   ],
   "source": [
    "print(row['prompt'])"
   ]
  },
  {
   "cell_type": "code",
   "execution_count": 26,
   "id": "fd1ff28d-e046-42ba-aa73-9fbd7093c4a4",
   "metadata": {},
   "outputs": [
    {
     "name": "stdout",
     "output_type": "stream",
     "text": [
      "HumanEval/0\n"
     ]
    }
   ],
   "source": [
    "print(row['task_id'])"
   ]
  },
  {
   "cell_type": "code",
   "execution_count": 27,
   "id": "00653efb-c15e-49fb-ab02-5220701123f2",
   "metadata": {},
   "outputs": [
    {
     "name": "stdout",
     "output_type": "stream",
     "text": [
      "    for idx, elem in enumerate(numbers):\n",
      "        for idx2, elem2 in enumerate(numbers):\n",
      "            if idx != idx2:\n",
      "                distance = abs(elem - elem2)\n",
      "                if distance < threshold:\n",
      "                    return True\n",
      "\n",
      "    return False\n",
      "\n"
     ]
    }
   ],
   "source": [
    "print(row['canonical_solution'])"
   ]
  },
  {
   "cell_type": "code",
   "execution_count": 35,
   "id": "01b35f10-136f-46b5-9528-bedeff83bff4",
   "metadata": {},
   "outputs": [
    {
     "name": "stdout",
     "output_type": "stream",
     "text": [
      "def check(candidate):\n",
      "\n",
      "    # Check some simple cases\n",
      "    assert candidate(3) == [3, 5, 7], \"Test 3\"\n",
      "    assert candidate(4) == [4,6,8,10], \"Test 4\"\n",
      "    assert candidate(5) == [5, 7, 9, 11, 13]\n",
      "    assert candidate(6) == [6, 8, 10, 12, 14, 16]\n",
      "    assert candidate(8) == [8, 10, 12, 14, 16, 18, 20, 22]\n",
      "\n",
      "    # Check some edge cases that are easy to work out by hand.\n",
      "    assert True, \"This prints if this assert fails 2 (also good for debugging!)\"\n",
      "\n",
      "\n"
     ]
    }
   ],
   "source": [
    "print(row['test'])"
   ]
  },
  {
   "cell_type": "code",
   "execution_count": 29,
   "id": "697b7776-68ea-446e-991a-3ece2f0dc2c5",
   "metadata": {},
   "outputs": [
    {
     "name": "stdout",
     "output_type": "stream",
     "text": [
      "has_close_elements\n"
     ]
    }
   ],
   "source": [
    "print(row['entry_point'])"
   ]
  },
  {
   "cell_type": "code",
   "execution_count": 13,
   "id": "79133e3f-399b-4862-8640-06f0bee81030",
   "metadata": {},
   "outputs": [
    {
     "data": {
      "text/html": [
       "<div>\n",
       "<style scoped>\n",
       "    .dataframe tbody tr th:only-of-type {\n",
       "        vertical-align: middle;\n",
       "    }\n",
       "\n",
       "    .dataframe tbody tr th {\n",
       "        vertical-align: top;\n",
       "    }\n",
       "\n",
       "    .dataframe thead th {\n",
       "        text-align: right;\n",
       "    }\n",
       "</style>\n",
       "<table border=\"1\" class=\"dataframe\">\n",
       "  <thead>\n",
       "    <tr style=\"text-align: right;\">\n",
       "      <th></th>\n",
       "      <th>task_id</th>\n",
       "      <th>prompt</th>\n",
       "      <th>canonical_solution</th>\n",
       "      <th>test</th>\n",
       "      <th>entry_point</th>\n",
       "    </tr>\n",
       "  </thead>\n",
       "  <tbody>\n",
       "    <tr>\n",
       "      <th>0</th>\n",
       "      <td>HumanEval/0</td>\n",
       "      <td>from typing import List\\n\\n\\ndef has_close_ele...</td>\n",
       "      <td>for idx, elem in enumerate(numbers):\\n    ...</td>\n",
       "      <td>\\n\\nMETADATA = {\\n    'author': 'jt',\\n    'da...</td>\n",
       "      <td>has_close_elements</td>\n",
       "    </tr>\n",
       "    <tr>\n",
       "      <th>1</th>\n",
       "      <td>HumanEval/1</td>\n",
       "      <td>from typing import List\\n\\n\\ndef separate_pare...</td>\n",
       "      <td>result = []\\n    current_string = []\\n    ...</td>\n",
       "      <td>\\n\\nMETADATA = {\\n    'author': 'jt',\\n    'da...</td>\n",
       "      <td>separate_paren_groups</td>\n",
       "    </tr>\n",
       "    <tr>\n",
       "      <th>2</th>\n",
       "      <td>HumanEval/2</td>\n",
       "      <td>\\n\\ndef truncate_number(number: float) -&gt; floa...</td>\n",
       "      <td>return number % 1.0\\n</td>\n",
       "      <td>\\n\\nMETADATA = {\\n    'author': 'jt',\\n    'da...</td>\n",
       "      <td>truncate_number</td>\n",
       "    </tr>\n",
       "    <tr>\n",
       "      <th>3</th>\n",
       "      <td>HumanEval/3</td>\n",
       "      <td>from typing import List\\n\\n\\ndef below_zero(op...</td>\n",
       "      <td>balance = 0\\n\\n    for op in operations:\\n...</td>\n",
       "      <td>\\n\\nMETADATA = {\\n    'author': 'jt',\\n    'da...</td>\n",
       "      <td>below_zero</td>\n",
       "    </tr>\n",
       "    <tr>\n",
       "      <th>4</th>\n",
       "      <td>HumanEval/4</td>\n",
       "      <td>from typing import List\\n\\n\\ndef mean_absolute...</td>\n",
       "      <td>mean = sum(numbers) / len(numbers)\\n    re...</td>\n",
       "      <td>\\n\\nMETADATA = {\\n    'author': 'jt',\\n    'da...</td>\n",
       "      <td>mean_absolute_deviation</td>\n",
       "    </tr>\n",
       "    <tr>\n",
       "      <th>...</th>\n",
       "      <td>...</td>\n",
       "      <td>...</td>\n",
       "      <td>...</td>\n",
       "      <td>...</td>\n",
       "      <td>...</td>\n",
       "    </tr>\n",
       "    <tr>\n",
       "      <th>159</th>\n",
       "      <td>HumanEval/159</td>\n",
       "      <td>\\ndef eat(number, need, remaining):\\n    \"\"\"\\n...</td>\n",
       "      <td>if(need &lt;= remaining):\\n        return [ n...</td>\n",
       "      <td>def check(candidate):\\n\\n    # Check some simp...</td>\n",
       "      <td>eat</td>\n",
       "    </tr>\n",
       "    <tr>\n",
       "      <th>160</th>\n",
       "      <td>HumanEval/160</td>\n",
       "      <td>\\ndef do_algebra(operator, operand):\\n    \"\"\"\\...</td>\n",
       "      <td>expression = str(operand[0])\\n    for oprt...</td>\n",
       "      <td>def check(candidate):\\n\\n    # Check some simp...</td>\n",
       "      <td>do_algebra</td>\n",
       "    </tr>\n",
       "    <tr>\n",
       "      <th>161</th>\n",
       "      <td>HumanEval/161</td>\n",
       "      <td>\\ndef solve(s):\\n    \"\"\"You are given a string...</td>\n",
       "      <td>flg = 0\\n    idx = 0\\n    new_str = list(s...</td>\n",
       "      <td>def check(candidate):\\n\\n    # Check some simp...</td>\n",
       "      <td>solve</td>\n",
       "    </tr>\n",
       "    <tr>\n",
       "      <th>162</th>\n",
       "      <td>HumanEval/162</td>\n",
       "      <td>\\ndef string_to_md5(text):\\n    \"\"\"\\n    Given...</td>\n",
       "      <td>import hashlib\\n    return hashlib.md5(tex...</td>\n",
       "      <td>def check(candidate):\\n\\n    # Check some simp...</td>\n",
       "      <td>string_to_md5</td>\n",
       "    </tr>\n",
       "    <tr>\n",
       "      <th>163</th>\n",
       "      <td>HumanEval/163</td>\n",
       "      <td>\\ndef generate_integers(a, b):\\n    \"\"\"\\n    G...</td>\n",
       "      <td>lower = max(2, min(a, b))\\n    upper = min...</td>\n",
       "      <td>def check(candidate):\\n\\n    # Check some simp...</td>\n",
       "      <td>generate_integers</td>\n",
       "    </tr>\n",
       "  </tbody>\n",
       "</table>\n",
       "<p>164 rows × 5 columns</p>\n",
       "</div>"
      ],
      "text/plain": [
       "           task_id                                             prompt  \\\n",
       "0      HumanEval/0  from typing import List\\n\\n\\ndef has_close_ele...   \n",
       "1      HumanEval/1  from typing import List\\n\\n\\ndef separate_pare...   \n",
       "2      HumanEval/2  \\n\\ndef truncate_number(number: float) -> floa...   \n",
       "3      HumanEval/3  from typing import List\\n\\n\\ndef below_zero(op...   \n",
       "4      HumanEval/4  from typing import List\\n\\n\\ndef mean_absolute...   \n",
       "..             ...                                                ...   \n",
       "159  HumanEval/159  \\ndef eat(number, need, remaining):\\n    \"\"\"\\n...   \n",
       "160  HumanEval/160  \\ndef do_algebra(operator, operand):\\n    \"\"\"\\...   \n",
       "161  HumanEval/161  \\ndef solve(s):\\n    \"\"\"You are given a string...   \n",
       "162  HumanEval/162  \\ndef string_to_md5(text):\\n    \"\"\"\\n    Given...   \n",
       "163  HumanEval/163  \\ndef generate_integers(a, b):\\n    \"\"\"\\n    G...   \n",
       "\n",
       "                                    canonical_solution  \\\n",
       "0        for idx, elem in enumerate(numbers):\\n    ...   \n",
       "1        result = []\\n    current_string = []\\n    ...   \n",
       "2                                return number % 1.0\\n   \n",
       "3        balance = 0\\n\\n    for op in operations:\\n...   \n",
       "4        mean = sum(numbers) / len(numbers)\\n    re...   \n",
       "..                                                 ...   \n",
       "159      if(need <= remaining):\\n        return [ n...   \n",
       "160      expression = str(operand[0])\\n    for oprt...   \n",
       "161      flg = 0\\n    idx = 0\\n    new_str = list(s...   \n",
       "162      import hashlib\\n    return hashlib.md5(tex...   \n",
       "163      lower = max(2, min(a, b))\\n    upper = min...   \n",
       "\n",
       "                                                  test  \\\n",
       "0    \\n\\nMETADATA = {\\n    'author': 'jt',\\n    'da...   \n",
       "1    \\n\\nMETADATA = {\\n    'author': 'jt',\\n    'da...   \n",
       "2    \\n\\nMETADATA = {\\n    'author': 'jt',\\n    'da...   \n",
       "3    \\n\\nMETADATA = {\\n    'author': 'jt',\\n    'da...   \n",
       "4    \\n\\nMETADATA = {\\n    'author': 'jt',\\n    'da...   \n",
       "..                                                 ...   \n",
       "159  def check(candidate):\\n\\n    # Check some simp...   \n",
       "160  def check(candidate):\\n\\n    # Check some simp...   \n",
       "161  def check(candidate):\\n\\n    # Check some simp...   \n",
       "162  def check(candidate):\\n\\n    # Check some simp...   \n",
       "163  def check(candidate):\\n\\n    # Check some simp...   \n",
       "\n",
       "                 entry_point  \n",
       "0         has_close_elements  \n",
       "1      separate_paren_groups  \n",
       "2            truncate_number  \n",
       "3                 below_zero  \n",
       "4    mean_absolute_deviation  \n",
       "..                       ...  \n",
       "159                      eat  \n",
       "160               do_algebra  \n",
       "161                    solve  \n",
       "162            string_to_md5  \n",
       "163        generate_integers  \n",
       "\n",
       "[164 rows x 5 columns]"
      ]
     },
     "execution_count": 13,
     "metadata": {},
     "output_type": "execute_result"
    }
   ],
   "source": [
    "df"
   ]
  }
 ],
 "metadata": {
  "kernelspec": {
   "display_name": "Python 3 (ipykernel)",
   "language": "python",
   "name": "python3"
  },
  "language_info": {
   "codemirror_mode": {
    "name": "ipython",
    "version": 3
   },
   "file_extension": ".py",
   "mimetype": "text/x-python",
   "name": "python",
   "nbconvert_exporter": "python",
   "pygments_lexer": "ipython3",
   "version": "3.10.12"
  }
 },
 "nbformat": 4,
 "nbformat_minor": 5
}
