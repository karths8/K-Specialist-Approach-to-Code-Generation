{
 "cells": [
  {
   "cell_type": "code",
   "execution_count": 194,
   "id": "23b305b3-fac1-4e20-ac76-0f855dd9074e",
   "metadata": {},
   "outputs": [],
   "source": [
    "import re"
   ]
  },
  {
   "cell_type": "code",
   "execution_count": 195,
   "id": "b5274656-bfbb-41ee-ba30-43cd50de4c79",
   "metadata": {},
   "outputs": [],
   "source": [
    "import pandas as pd\n",
    "import json"
   ]
  },
  {
   "cell_type": "code",
   "execution_count": 196,
   "id": "c6604ef9-1136-4e38-929b-61eac76b0c10",
   "metadata": {},
   "outputs": [],
   "source": [
    "from datasets import load_dataset\n",
    "\n",
    "dataset = load_dataset(\"openai_humaneval\")"
   ]
  },
  {
   "cell_type": "code",
   "execution_count": 197,
   "id": "80852528-260f-4e4c-8518-a91e8df32a24",
   "metadata": {},
   "outputs": [],
   "source": [
    "df = pd.DataFrame(dataset[\"test\"])"
   ]
  },
  {
   "cell_type": "code",
   "execution_count": 198,
   "id": "af083404-6cc5-4a7d-8c77-7b23744fc111",
   "metadata": {},
   "outputs": [],
   "source": [
    "def split_into_func_singature_and_question(code_string: str):\n",
    "    pattern = r'\"\"\".*?\"\"\"'\n",
    "    matches = re.findall(pattern, code_string, re.DOTALL)\n",
    "\n",
    "    if matches:\n",
    "        question = matches[-1]\n",
    "        func_signature = code_string.replace(question, \"\")\n",
    "        return func_signature, question\n",
    "    else:\n",
    "        return None, None"
   ]
  },
  {
   "cell_type": "code",
   "execution_count": 199,
   "id": "2554fcd7-57f0-492a-a2b4-0abc8007f4df",
   "metadata": {},
   "outputs": [],
   "source": [
    "# Not used\n",
    "def split_comment_into_question_and_examples(code_string):\n",
    "    pattern = r\">>> (.*?)\\n(.*?)\\n\"\n",
    "    matches = re.findall(pattern, code_string, re.DOTALL)\n",
    "\n",
    "    examples = []\n",
    "    for match in matches:\n",
    "        input_example, output_example = match\n",
    "        examples.append((input_example.strip(), output_example.strip()))\n",
    "        example_block = f\">>> {input_example}\\n{output_example}\"\n",
    "        code_string = code_string.replace(example_block, \"\")\n",
    "\n",
    "    return code_string.strip(), examples"
   ]
  },
  {
   "cell_type": "code",
   "execution_count": 200,
   "id": "94bb7ea1-85f3-435b-a60f-7f67c7d073e4",
   "metadata": {},
   "outputs": [],
   "source": [
    "def process_prompt(prompt: str):\n",
    "    func_signature, question = split_into_func_singature_and_question(prompt)\n",
    "    return func_signature, question"
   ]
  },
  {
   "cell_type": "code",
   "execution_count": 201,
   "id": "f0ee82f7-4c13-44d1-811d-46854e8471f0",
   "metadata": {},
   "outputs": [],
   "source": [
    "json_data = []"
   ]
  },
  {
   "cell_type": "code",
   "execution_count": 202,
   "id": "2c41fc4c-dab5-4c6e-92fd-5079cca55daf",
   "metadata": {},
   "outputs": [],
   "source": [
    "for index, row in df.iterrows():\n",
    "    data = {}\n",
    "    data['task_id'] = row['task_id']\n",
    "    data['canonical_solution'] = row['canonical_solution']\n",
    "    data['test'] = row['test']\n",
    "    data['entry_point'] = row['entry_point']\n",
    "    data['function_signature'], data['question']= process_prompt(row['prompt'])\n",
    "    json_data.append(data)"
   ]
  },
  {
   "cell_type": "code",
   "execution_count": 203,
   "id": "565175c5-0a13-4a60-8aa2-8f6a9dac5d9e",
   "metadata": {},
   "outputs": [
    {
     "data": {
      "text/plain": [
       "164"
      ]
     },
     "execution_count": 203,
     "metadata": {},
     "output_type": "execute_result"
    }
   ],
   "source": [
    "len(json_data)"
   ]
  },
  {
   "cell_type": "code",
   "execution_count": 204,
   "id": "58dcf8d6-83c0-4625-9749-0482942e9298",
   "metadata": {},
   "outputs": [],
   "source": [
    "with open(\"./../Data_files/human_eval.json\", 'w') as json_file:\n",
    "    json.dump(json_data, json_file, indent=4)"
   ]
  },
  {
   "cell_type": "code",
   "execution_count": null,
   "id": "135c02a7-b170-4b99-9d86-313d7676adbd",
   "metadata": {},
   "outputs": [],
   "source": []
  },
  {
   "cell_type": "code",
   "execution_count": null,
   "id": "9ce41b9f-51fb-49d2-95c4-7958ac8c4785",
   "metadata": {},
   "outputs": [],
   "source": []
  },
  {
   "cell_type": "code",
   "execution_count": null,
   "id": "bc6308d2-bc0e-455a-b330-1dc49c0a736f",
   "metadata": {},
   "outputs": [],
   "source": []
  },
  {
   "cell_type": "code",
   "execution_count": 12,
   "id": "25a5a8cb-a462-4ff3-a455-2329602b5905",
   "metadata": {},
   "outputs": [],
   "source": [
    "# test"
   ]
  },
  {
   "cell_type": "code",
   "execution_count": 117,
   "id": "9a2fe9d2-083e-426e-84e0-c77611c701e6",
   "metadata": {},
   "outputs": [],
   "source": [
    "prompt = row['prompt']"
   ]
  },
  {
   "cell_type": "code",
   "execution_count": 118,
   "id": "f1c89531-e54f-4ecc-814e-f6ae4ea08d4a",
   "metadata": {},
   "outputs": [],
   "source": [
    "func_signature, question = split_into_func_singature_and_question(prompt)"
   ]
  },
  {
   "cell_type": "code",
   "execution_count": 119,
   "id": "8549cce2-309d-4c0a-87e3-34a6bfd71645",
   "metadata": {},
   "outputs": [
    {
     "name": "stdout",
     "output_type": "stream",
     "text": [
      "\n",
      "def make_a_pile(n):\n",
      "    \n",
      "\n"
     ]
    }
   ],
   "source": [
    "print(func_signature)"
   ]
  },
  {
   "cell_type": "code",
   "execution_count": 120,
   "id": "84f8271e-39b4-4771-bbfe-232bcb656095",
   "metadata": {},
   "outputs": [
    {
     "name": "stdout",
     "output_type": "stream",
     "text": [
      "\"\"\"\n",
      "    Given a positive integer n, you have to make a pile of n levels of stones.\n",
      "    The first level has n stones.\n",
      "    The number of stones in the next level is:\n",
      "        - the next odd number if n is odd.\n",
      "        - the next even number if n is even.\n",
      "    Return the number of stones in each level in a list, where element at index\n",
      "    i represents the number of stones in the level (i+1).\n",
      "\n",
      "    Examples:\n",
      "    >>> make_a_pile(3)\n",
      "    [3, 5, 7]\n",
      "    \"\"\"\n"
     ]
    }
   ],
   "source": [
    "print(question)"
   ]
  },
  {
   "cell_type": "code",
   "execution_count": 126,
   "id": "c5b34aa5-c55a-4e3c-bed3-1e8abd9ca92e",
   "metadata": {},
   "outputs": [],
   "source": [
    "question, examples = split_comment_into_question_and_examples(question)"
   ]
  },
  {
   "cell_type": "code",
   "execution_count": 127,
   "id": "6aad1184-0be1-43b5-9939-0d36e415a561",
   "metadata": {},
   "outputs": [
    {
     "name": "stdout",
     "output_type": "stream",
     "text": [
      "\"\"\"\n",
      "    Given a positive integer n, you have to make a pile of n levels of stones.\n",
      "    The first level has n stones.\n",
      "    The number of stones in the next level is:\n",
      "        - the next odd number if n is odd.\n",
      "        - the next even number if n is even.\n",
      "    Return the number of stones in each level in a list, where element at index\n",
      "    i represents the number of stones in the level (i+1).\n",
      "\n",
      "    Examples:\n",
      "    \n",
      "    \"\"\"\n"
     ]
    }
   ],
   "source": [
    "print(question)"
   ]
  },
  {
   "cell_type": "code",
   "execution_count": 128,
   "id": "8de3a06d-85a7-49d7-91a6-c91756301f1d",
   "metadata": {},
   "outputs": [
    {
     "name": "stdout",
     "output_type": "stream",
     "text": [
      "[('make_a_pile(3)', '[3, 5, 7]')]\n"
     ]
    }
   ],
   "source": [
    "print(examples)"
   ]
  },
  {
   "cell_type": "code",
   "execution_count": 98,
   "id": "26ea105a-bd33-48f0-8a3b-0e0ce93cfc74",
   "metadata": {},
   "outputs": [],
   "source": [
    "# good examples: 50, 100"
   ]
  },
  {
   "cell_type": "code",
   "execution_count": 161,
   "id": "e49b4cd9-b44d-452f-8a9d-c0935064fe75",
   "metadata": {},
   "outputs": [],
   "source": [
    "row = df.iloc[73]"
   ]
  },
  {
   "cell_type": "code",
   "execution_count": 162,
   "id": "ee27d609-03d1-4bf7-8bbd-7707140328b1",
   "metadata": {},
   "outputs": [
    {
     "name": "stdout",
     "output_type": "stream",
     "text": [
      "\n",
      "def smallest_change(arr):\n",
      "    \"\"\"\n",
      "    Given an array arr of integers, find the minimum number of elements that\n",
      "    need to be changed to make the array palindromic. A palindromic array is an array that\n",
      "    is read the same backwards and forwards. In one change, you can change one element to any other element.\n",
      "\n",
      "    For example:\n",
      "    smallest_change([1,2,3,5,4,7,9,6]) == 4\n",
      "    smallest_change([1, 2, 3, 4, 3, 2, 2]) == 1\n",
      "    smallest_change([1, 2, 3, 2, 1]) == 0\n",
      "    \"\"\"\n",
      "\n"
     ]
    }
   ],
   "source": [
    "print(row['prompt'])"
   ]
  },
  {
   "cell_type": "code",
   "execution_count": 26,
   "id": "fd1ff28d-e046-42ba-aa73-9fbd7093c4a4",
   "metadata": {},
   "outputs": [
    {
     "name": "stdout",
     "output_type": "stream",
     "text": [
      "HumanEval/0\n"
     ]
    }
   ],
   "source": [
    "print(row['task_id'])"
   ]
  },
  {
   "cell_type": "code",
   "execution_count": 27,
   "id": "00653efb-c15e-49fb-ab02-5220701123f2",
   "metadata": {},
   "outputs": [
    {
     "name": "stdout",
     "output_type": "stream",
     "text": [
      "    for idx, elem in enumerate(numbers):\n",
      "        for idx2, elem2 in enumerate(numbers):\n",
      "            if idx != idx2:\n",
      "                distance = abs(elem - elem2)\n",
      "                if distance < threshold:\n",
      "                    return True\n",
      "\n",
      "    return False\n",
      "\n"
     ]
    }
   ],
   "source": [
    "print(row['canonical_solution'])"
   ]
  },
  {
   "cell_type": "code",
   "execution_count": 35,
   "id": "01b35f10-136f-46b5-9528-bedeff83bff4",
   "metadata": {},
   "outputs": [
    {
     "name": "stdout",
     "output_type": "stream",
     "text": [
      "def check(candidate):\n",
      "\n",
      "    # Check some simple cases\n",
      "    assert candidate(3) == [3, 5, 7], \"Test 3\"\n",
      "    assert candidate(4) == [4,6,8,10], \"Test 4\"\n",
      "    assert candidate(5) == [5, 7, 9, 11, 13]\n",
      "    assert candidate(6) == [6, 8, 10, 12, 14, 16]\n",
      "    assert candidate(8) == [8, 10, 12, 14, 16, 18, 20, 22]\n",
      "\n",
      "    # Check some edge cases that are easy to work out by hand.\n",
      "    assert True, \"This prints if this assert fails 2 (also good for debugging!)\"\n",
      "\n",
      "\n"
     ]
    }
   ],
   "source": [
    "print(row['test'])"
   ]
  },
  {
   "cell_type": "code",
   "execution_count": 29,
   "id": "697b7776-68ea-446e-991a-3ece2f0dc2c5",
   "metadata": {},
   "outputs": [
    {
     "name": "stdout",
     "output_type": "stream",
     "text": [
      "has_close_elements\n"
     ]
    }
   ],
   "source": [
    "print(row['entry_point'])"
   ]
  },
  {
   "cell_type": "code",
   "execution_count": 13,
   "id": "79133e3f-399b-4862-8640-06f0bee81030",
   "metadata": {},
   "outputs": [
    {
     "data": {
      "text/html": [
       "<div>\n",
       "<style scoped>\n",
       "    .dataframe tbody tr th:only-of-type {\n",
       "        vertical-align: middle;\n",
       "    }\n",
       "\n",
       "    .dataframe tbody tr th {\n",
       "        vertical-align: top;\n",
       "    }\n",
       "\n",
       "    .dataframe thead th {\n",
       "        text-align: right;\n",
       "    }\n",
       "</style>\n",
       "<table border=\"1\" class=\"dataframe\">\n",
       "  <thead>\n",
       "    <tr style=\"text-align: right;\">\n",
       "      <th></th>\n",
       "      <th>task_id</th>\n",
       "      <th>prompt</th>\n",
       "      <th>canonical_solution</th>\n",
       "      <th>test</th>\n",
       "      <th>entry_point</th>\n",
       "    </tr>\n",
       "  </thead>\n",
       "  <tbody>\n",
       "    <tr>\n",
       "      <th>0</th>\n",
       "      <td>HumanEval/0</td>\n",
       "      <td>from typing import List\\n\\n\\ndef has_close_ele...</td>\n",
       "      <td>for idx, elem in enumerate(numbers):\\n    ...</td>\n",
       "      <td>\\n\\nMETADATA = {\\n    'author': 'jt',\\n    'da...</td>\n",
       "      <td>has_close_elements</td>\n",
       "    </tr>\n",
       "    <tr>\n",
       "      <th>1</th>\n",
       "      <td>HumanEval/1</td>\n",
       "      <td>from typing import List\\n\\n\\ndef separate_pare...</td>\n",
       "      <td>result = []\\n    current_string = []\\n    ...</td>\n",
       "      <td>\\n\\nMETADATA = {\\n    'author': 'jt',\\n    'da...</td>\n",
       "      <td>separate_paren_groups</td>\n",
       "    </tr>\n",
       "    <tr>\n",
       "      <th>2</th>\n",
       "      <td>HumanEval/2</td>\n",
       "      <td>\\n\\ndef truncate_number(number: float) -&gt; floa...</td>\n",
       "      <td>return number % 1.0\\n</td>\n",
       "      <td>\\n\\nMETADATA = {\\n    'author': 'jt',\\n    'da...</td>\n",
       "      <td>truncate_number</td>\n",
       "    </tr>\n",
       "    <tr>\n",
       "      <th>3</th>\n",
       "      <td>HumanEval/3</td>\n",
       "      <td>from typing import List\\n\\n\\ndef below_zero(op...</td>\n",
       "      <td>balance = 0\\n\\n    for op in operations:\\n...</td>\n",
       "      <td>\\n\\nMETADATA = {\\n    'author': 'jt',\\n    'da...</td>\n",
       "      <td>below_zero</td>\n",
       "    </tr>\n",
       "    <tr>\n",
       "      <th>4</th>\n",
       "      <td>HumanEval/4</td>\n",
       "      <td>from typing import List\\n\\n\\ndef mean_absolute...</td>\n",
       "      <td>mean = sum(numbers) / len(numbers)\\n    re...</td>\n",
       "      <td>\\n\\nMETADATA = {\\n    'author': 'jt',\\n    'da...</td>\n",
       "      <td>mean_absolute_deviation</td>\n",
       "    </tr>\n",
       "    <tr>\n",
       "      <th>...</th>\n",
       "      <td>...</td>\n",
       "      <td>...</td>\n",
       "      <td>...</td>\n",
       "      <td>...</td>\n",
       "      <td>...</td>\n",
       "    </tr>\n",
       "    <tr>\n",
       "      <th>159</th>\n",
       "      <td>HumanEval/159</td>\n",
       "      <td>\\ndef eat(number, need, remaining):\\n    \"\"\"\\n...</td>\n",
       "      <td>if(need &lt;= remaining):\\n        return [ n...</td>\n",
       "      <td>def check(candidate):\\n\\n    # Check some simp...</td>\n",
       "      <td>eat</td>\n",
       "    </tr>\n",
       "    <tr>\n",
       "      <th>160</th>\n",
       "      <td>HumanEval/160</td>\n",
       "      <td>\\ndef do_algebra(operator, operand):\\n    \"\"\"\\...</td>\n",
       "      <td>expression = str(operand[0])\\n    for oprt...</td>\n",
       "      <td>def check(candidate):\\n\\n    # Check some simp...</td>\n",
       "      <td>do_algebra</td>\n",
       "    </tr>\n",
       "    <tr>\n",
       "      <th>161</th>\n",
       "      <td>HumanEval/161</td>\n",
       "      <td>\\ndef solve(s):\\n    \"\"\"You are given a string...</td>\n",
       "      <td>flg = 0\\n    idx = 0\\n    new_str = list(s...</td>\n",
       "      <td>def check(candidate):\\n\\n    # Check some simp...</td>\n",
       "      <td>solve</td>\n",
       "    </tr>\n",
       "    <tr>\n",
       "      <th>162</th>\n",
       "      <td>HumanEval/162</td>\n",
       "      <td>\\ndef string_to_md5(text):\\n    \"\"\"\\n    Given...</td>\n",
       "      <td>import hashlib\\n    return hashlib.md5(tex...</td>\n",
       "      <td>def check(candidate):\\n\\n    # Check some simp...</td>\n",
       "      <td>string_to_md5</td>\n",
       "    </tr>\n",
       "    <tr>\n",
       "      <th>163</th>\n",
       "      <td>HumanEval/163</td>\n",
       "      <td>\\ndef generate_integers(a, b):\\n    \"\"\"\\n    G...</td>\n",
       "      <td>lower = max(2, min(a, b))\\n    upper = min...</td>\n",
       "      <td>def check(candidate):\\n\\n    # Check some simp...</td>\n",
       "      <td>generate_integers</td>\n",
       "    </tr>\n",
       "  </tbody>\n",
       "</table>\n",
       "<p>164 rows × 5 columns</p>\n",
       "</div>"
      ],
      "text/plain": [
       "           task_id                                             prompt  \\\n",
       "0      HumanEval/0  from typing import List\\n\\n\\ndef has_close_ele...   \n",
       "1      HumanEval/1  from typing import List\\n\\n\\ndef separate_pare...   \n",
       "2      HumanEval/2  \\n\\ndef truncate_number(number: float) -> floa...   \n",
       "3      HumanEval/3  from typing import List\\n\\n\\ndef below_zero(op...   \n",
       "4      HumanEval/4  from typing import List\\n\\n\\ndef mean_absolute...   \n",
       "..             ...                                                ...   \n",
       "159  HumanEval/159  \\ndef eat(number, need, remaining):\\n    \"\"\"\\n...   \n",
       "160  HumanEval/160  \\ndef do_algebra(operator, operand):\\n    \"\"\"\\...   \n",
       "161  HumanEval/161  \\ndef solve(s):\\n    \"\"\"You are given a string...   \n",
       "162  HumanEval/162  \\ndef string_to_md5(text):\\n    \"\"\"\\n    Given...   \n",
       "163  HumanEval/163  \\ndef generate_integers(a, b):\\n    \"\"\"\\n    G...   \n",
       "\n",
       "                                    canonical_solution  \\\n",
       "0        for idx, elem in enumerate(numbers):\\n    ...   \n",
       "1        result = []\\n    current_string = []\\n    ...   \n",
       "2                                return number % 1.0\\n   \n",
       "3        balance = 0\\n\\n    for op in operations:\\n...   \n",
       "4        mean = sum(numbers) / len(numbers)\\n    re...   \n",
       "..                                                 ...   \n",
       "159      if(need <= remaining):\\n        return [ n...   \n",
       "160      expression = str(operand[0])\\n    for oprt...   \n",
       "161      flg = 0\\n    idx = 0\\n    new_str = list(s...   \n",
       "162      import hashlib\\n    return hashlib.md5(tex...   \n",
       "163      lower = max(2, min(a, b))\\n    upper = min...   \n",
       "\n",
       "                                                  test  \\\n",
       "0    \\n\\nMETADATA = {\\n    'author': 'jt',\\n    'da...   \n",
       "1    \\n\\nMETADATA = {\\n    'author': 'jt',\\n    'da...   \n",
       "2    \\n\\nMETADATA = {\\n    'author': 'jt',\\n    'da...   \n",
       "3    \\n\\nMETADATA = {\\n    'author': 'jt',\\n    'da...   \n",
       "4    \\n\\nMETADATA = {\\n    'author': 'jt',\\n    'da...   \n",
       "..                                                 ...   \n",
       "159  def check(candidate):\\n\\n    # Check some simp...   \n",
       "160  def check(candidate):\\n\\n    # Check some simp...   \n",
       "161  def check(candidate):\\n\\n    # Check some simp...   \n",
       "162  def check(candidate):\\n\\n    # Check some simp...   \n",
       "163  def check(candidate):\\n\\n    # Check some simp...   \n",
       "\n",
       "                 entry_point  \n",
       "0         has_close_elements  \n",
       "1      separate_paren_groups  \n",
       "2            truncate_number  \n",
       "3                 below_zero  \n",
       "4    mean_absolute_deviation  \n",
       "..                       ...  \n",
       "159                      eat  \n",
       "160               do_algebra  \n",
       "161                    solve  \n",
       "162            string_to_md5  \n",
       "163        generate_integers  \n",
       "\n",
       "[164 rows x 5 columns]"
      ]
     },
     "execution_count": 13,
     "metadata": {},
     "output_type": "execute_result"
    }
   ],
   "source": [
    "df"
   ]
  }
 ],
 "metadata": {
  "kernelspec": {
   "display_name": "Python 3 (ipykernel)",
   "language": "python",
   "name": "python3"
  },
  "language_info": {
   "codemirror_mode": {
    "name": "ipython",
    "version": 3
   },
   "file_extension": ".py",
   "mimetype": "text/x-python",
   "name": "python",
   "nbconvert_exporter": "python",
   "pygments_lexer": "ipython3",
   "version": "3.11.5"
  }
 },
 "nbformat": 4,
 "nbformat_minor": 5
}
