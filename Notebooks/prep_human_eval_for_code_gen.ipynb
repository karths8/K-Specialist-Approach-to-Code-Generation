{
 "cells": [
  {
   "cell_type": "code",
   "execution_count": 80,
   "id": "51645313-fb10-4a38-8929-41c62f3b812d",
   "metadata": {},
   "outputs": [],
   "source": [
    "import json"
   ]
  },
  {
   "cell_type": "code",
   "execution_count": 81,
   "id": "90e134b9-d84f-4958-8d02-5c45e1cf0441",
   "metadata": {},
   "outputs": [],
   "source": [
    "data = {}\n",
    "with open(\"./../Data_files/human_eval.json\", 'r') as json_file:\n",
    "    data = json.load(json_file)"
   ]
  },
  {
   "cell_type": "code",
   "execution_count": 82,
   "id": "e0c3320b-88c6-4cf6-a998-c2602fa98b98",
   "metadata": {},
   "outputs": [],
   "source": [
    "for datum in data:\n",
    "    datum['prompt'] = datum['question'] + datum['function_signature']"
   ]
  },
  {
   "cell_type": "code",
   "execution_count": 86,
   "id": "603e52f8-04ec-4423-9097-1af2bffb5f13",
   "metadata": {},
   "outputs": [],
   "source": [
    "with open(\"./../Data_files/human_eval.json\", 'w') as json_file:\n",
    "    json.dump(data, json_file, indent=4)"
   ]
  },
  {
   "cell_type": "code",
   "execution_count": null,
   "id": "a5c65298-db59-4637-b1fd-707c26bcc55a",
   "metadata": {},
   "outputs": [],
   "source": []
  },
  {
   "cell_type": "code",
   "execution_count": 58,
   "id": "a4af1d22-9330-4d7f-a27f-4d8e0baea506",
   "metadata": {},
   "outputs": [],
   "source": [
    "# test"
   ]
  },
  {
   "cell_type": "code",
   "execution_count": 59,
   "id": "cea6e875-4fba-4610-abe7-a387e5826258",
   "metadata": {},
   "outputs": [],
   "source": [
    "point = data[10]"
   ]
  },
  {
   "cell_type": "code",
   "execution_count": 60,
   "id": "cb5f9873-fd84-4b2f-a4ae-798cb7e2fc39",
   "metadata": {},
   "outputs": [
    {
     "name": "stdout",
     "output_type": "stream",
     "text": [
      "\"\"\"\n",
      "Find the shortest palindrome that begins with a supplied string.\n",
      "Algorithm idea is simple:\n",
      "- Find the longest postfix of supplied string that is a palindrome.\n",
      "- Append to the end of the string reverse of a string prefix that comes before the palindromic suffix.\n",
      ">>> make_palindrome('')\n",
      "''\n",
      ">>> make_palindrome('cat')\n",
      "'catac'\n",
      ">>> make_palindrome('cata')\n",
      "'catac'\n",
      "\n",
      "\"\"\"\n"
     ]
    }
   ],
   "source": [
    "print(point['question'])"
   ]
  },
  {
   "cell_type": "code",
   "execution_count": 61,
   "id": "eab432f5-9dad-46bf-91ee-ee54baa41ac7",
   "metadata": {},
   "outputs": [
    {
     "name": "stdout",
     "output_type": "stream",
     "text": [
      "\n",
      "\n",
      "def is_palindrome(string: str) -> bool:\n",
      "    \"\"\" Test if given string is a palindrome \"\"\"\n",
      "    return string == string[::-1]\n",
      "\n",
      "\n",
      "def make_palindrome(string: str) -> str:\n",
      "    \n",
      "\n"
     ]
    }
   ],
   "source": [
    "print(point['function_signature'])"
   ]
  },
  {
   "cell_type": "code",
   "execution_count": 62,
   "id": "4539724f-db8a-4570-b84c-fbc97066e5ad",
   "metadata": {},
   "outputs": [],
   "source": [
    "prompt = point['question'] + point['function_signature']"
   ]
  },
  {
   "cell_type": "code",
   "execution_count": 63,
   "id": "db3ed6e2-7ced-4882-8e79-d71816c89e28",
   "metadata": {},
   "outputs": [
    {
     "name": "stdout",
     "output_type": "stream",
     "text": [
      "\"\"\"\n",
      "Find the shortest palindrome that begins with a supplied string.\n",
      "Algorithm idea is simple:\n",
      "- Find the longest postfix of supplied string that is a palindrome.\n",
      "- Append to the end of the string reverse of a string prefix that comes before the palindromic suffix.\n",
      ">>> make_palindrome('')\n",
      "''\n",
      ">>> make_palindrome('cat')\n",
      "'catac'\n",
      ">>> make_palindrome('cata')\n",
      "'catac'\n",
      "\n",
      "\"\"\"\n",
      "\n",
      "def is_palindrome(string: str) -> bool:\n",
      "    \"\"\" Test if given string is a palindrome \"\"\"\n",
      "    return string == string[::-1]\n",
      "\n",
      "\n",
      "def make_palindrome(string: str) -> str:\n",
      "    \n",
      "\n"
     ]
    }
   ],
   "source": [
    "print(prompt)"
   ]
  },
  {
   "cell_type": "code",
   "execution_count": 22,
   "id": "d9205e17-7c1a-40ec-9062-2fa2005cb745",
   "metadata": {},
   "outputs": [],
   "source": [
    "qsn = point['question']"
   ]
  },
  {
   "cell_type": "code",
   "execution_count": 64,
   "id": "89e6a935-cdbe-48db-b89a-fae4d39005dd",
   "metadata": {},
   "outputs": [
    {
     "data": {
      "text/plain": [
       "{'task_id': 'HumanEval/10',\n",
       " 'canonical_solution': \"    if not string:\\n        return ''\\n\\n    beginning_of_suffix = 0\\n\\n    while not is_palindrome(string[beginning_of_suffix:]):\\n        beginning_of_suffix += 1\\n\\n    return string + string[:beginning_of_suffix][::-1]\\n\",\n",
       " 'test': \"\\n\\nMETADATA = {\\n    'author': 'jt',\\n    'dataset': 'test'\\n}\\n\\n\\ndef check(candidate):\\n    assert candidate('') == ''\\n    assert candidate('x') == 'x'\\n    assert candidate('xyz') == 'xyzyx'\\n    assert candidate('xyx') == 'xyx'\\n    assert candidate('jerry') == 'jerryrrej'\\n\",\n",
       " 'entry_point': 'make_palindrome',\n",
       " 'function_signature': '\\n\\ndef is_palindrome(string: str) -> bool:\\n    \"\"\" Test if given string is a palindrome \"\"\"\\n    return string == string[::-1]\\n\\n\\ndef make_palindrome(string: str) -> str:\\n    \\n',\n",
       " 'question': '\"\"\"\\nFind the shortest palindrome that begins with a supplied string.\\nAlgorithm idea is simple:\\n- Find the longest postfix of supplied string that is a palindrome.\\n- Append to the end of the string reverse of a string prefix that comes before the palindromic suffix.\\n>>> make_palindrome(\\'\\')\\n\\'\\'\\n>>> make_palindrome(\\'cat\\')\\n\\'catac\\'\\n>>> make_palindrome(\\'cata\\')\\n\\'catac\\'\\n\\n\"\"\"',\n",
       " 'prompt': ''}"
      ]
     },
     "execution_count": 64,
     "metadata": {},
     "output_type": "execute_result"
    }
   ],
   "source": [
    "point"
   ]
  }
 ],
 "metadata": {
  "kernelspec": {
   "display_name": "Python 3 (ipykernel)",
   "language": "python",
   "name": "python3"
  },
  "language_info": {
   "codemirror_mode": {
    "name": "ipython",
    "version": 3
   },
   "file_extension": ".py",
   "mimetype": "text/x-python",
   "name": "python",
   "nbconvert_exporter": "python",
   "pygments_lexer": "ipython3",
   "version": "3.11.5"
  }
 },
 "nbformat": 4,
 "nbformat_minor": 5
}
