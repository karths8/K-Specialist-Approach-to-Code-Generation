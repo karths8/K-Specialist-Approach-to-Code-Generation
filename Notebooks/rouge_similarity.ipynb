{
 "cells": [
  {
   "cell_type": "code",
   "execution_count": 13,
   "id": "798650cb-dd44-4f1d-b5c1-a864e386996d",
   "metadata": {},
   "outputs": [],
   "source": [
    "from rouge_score import rouge_scorer"
   ]
  },
  {
   "cell_type": "code",
   "execution_count": 14,
   "id": "9d535901-a678-4c82-bc04-7cc8fbdd962d",
   "metadata": {},
   "outputs": [],
   "source": [
    "def calculate_rouge_similarity(strings):\n",
    "    rouge_scorer_instance = rouge_scorer.RougeScorer(['rouge1', 'rouge2', 'rougeL'], use_stemmer=True)\n",
    "\n",
    "    similarity_matrix = {}\n",
    "\n",
    "    for i, hypothesis in enumerate(strings):\n",
    "        for j, reference in enumerate(strings):\n",
    "            if i != j:  # Skip self-comparisons\n",
    "                key = (i, j)\n",
    "                scores = rouge_scorer_instance.score(hypothesis, reference)\n",
    "                similarity_matrix[key] = scores\n",
    "\n",
    "    return similarity_matrix"
   ]
  },
  {
   "cell_type": "code",
   "execution_count": 15,
   "id": "34f42519-02e1-464e-95c5-7a647762857c",
   "metadata": {},
   "outputs": [],
   "source": [
    "# Example usage:\n",
    "string_list = [\n",
    "    \"This is the first string.\",\n",
    "    \"Another string for comparison.\",\n",
    "    \"A third string in the list.\"\n",
    "]"
   ]
  },
  {
   "cell_type": "code",
   "execution_count": 16,
   "id": "d989ab6d-0dc6-45d2-a15b-f1bdba87958d",
   "metadata": {},
   "outputs": [],
   "source": [
    "similarity_matrix = calculate_rouge_similarity(string_list)"
   ]
  },
  {
   "cell_type": "code",
   "execution_count": 17,
   "id": "85d4871e-8590-433b-8fdf-a388314cf60b",
   "metadata": {},
   "outputs": [
    {
     "name": "stdout",
     "output_type": "stream",
     "text": [
      "Similarity between string 1 and string 2:\n",
      "ROUGE-1 Score: 0.22222222222222224\n",
      "ROUGE-2 Score: 0.0\n",
      "ROUGE-L Score: 0.22222222222222224\n",
      "\n",
      "Similarity between string 1 and string 3:\n",
      "ROUGE-1 Score: 0.3636363636363636\n",
      "ROUGE-2 Score: 0.0\n",
      "ROUGE-L Score: 0.1818181818181818\n",
      "\n",
      "Similarity between string 2 and string 1:\n",
      "ROUGE-1 Score: 0.22222222222222224\n",
      "ROUGE-2 Score: 0.0\n",
      "ROUGE-L Score: 0.22222222222222224\n",
      "\n",
      "Similarity between string 2 and string 3:\n",
      "ROUGE-1 Score: 0.2\n",
      "ROUGE-2 Score: 0.0\n",
      "ROUGE-L Score: 0.2\n",
      "\n",
      "Similarity between string 3 and string 1:\n",
      "ROUGE-1 Score: 0.3636363636363636\n",
      "ROUGE-2 Score: 0.0\n",
      "ROUGE-L Score: 0.1818181818181818\n",
      "\n",
      "Similarity between string 3 and string 2:\n",
      "ROUGE-1 Score: 0.2\n",
      "ROUGE-2 Score: 0.0\n",
      "ROUGE-L Score: 0.2\n",
      "\n"
     ]
    }
   ],
   "source": [
    "# Print the similarity scores\n",
    "for (i, j), scores in similarity_matrix.items():\n",
    "    print(f\"Similarity between string {i+1} and string {j+1}:\")\n",
    "    print(f\"ROUGE-1 Score: {scores['rouge1'].fmeasure}\")\n",
    "    print(f\"ROUGE-2 Score: {scores['rouge2'].fmeasure}\")\n",
    "    print(f\"ROUGE-L Score: {scores['rougeL'].fmeasure}\")\n",
    "    print()"
   ]
  },
  {
   "cell_type": "code",
   "execution_count": null,
   "id": "80aed7f3-6682-4dcf-9da6-8c10b30ffe7f",
   "metadata": {},
   "outputs": [],
   "source": []
  }
 ],
 "metadata": {
  "kernelspec": {
   "display_name": "Python 3 (ipykernel)",
   "language": "python",
   "name": "python3"
  },
  "language_info": {
   "codemirror_mode": {
    "name": "ipython",
    "version": 3
   },
   "file_extension": ".py",
   "mimetype": "text/x-python",
   "name": "python",
   "nbconvert_exporter": "python",
   "pygments_lexer": "ipython3",
   "version": "3.11.5"
  }
 },
 "nbformat": 4,
 "nbformat_minor": 5
}
