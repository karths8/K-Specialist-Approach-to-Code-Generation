{
 "cells": [
  {
   "cell_type": "code",
   "execution_count": 1,
   "id": "4e46550e-ed02-4afb-b709-eb6a4bda9e97",
   "metadata": {},
   "outputs": [
    {
     "name": "stdout",
     "output_type": "stream",
     "text": [
      "Collecting pandas\n",
      "  Downloading pandas-2.1.4-cp310-cp310-manylinux_2_17_x86_64.manylinux2014_x86_64.whl.metadata (18 kB)\n",
      "Requirement already satisfied: numpy<2,>=1.22.4 in /usr/local/lib/python3.10/dist-packages (from pandas) (1.24.1)\n",
      "Requirement already satisfied: python-dateutil>=2.8.2 in /usr/local/lib/python3.10/dist-packages (from pandas) (2.8.2)\n",
      "Collecting pytz>=2020.1 (from pandas)\n",
      "  Downloading pytz-2023.3.post1-py2.py3-none-any.whl.metadata (22 kB)\n",
      "Collecting tzdata>=2022.1 (from pandas)\n",
      "  Downloading tzdata-2023.4-py2.py3-none-any.whl.metadata (1.4 kB)\n",
      "Requirement already satisfied: six>=1.5 in /usr/lib/python3/dist-packages (from python-dateutil>=2.8.2->pandas) (1.16.0)\n",
      "Downloading pandas-2.1.4-cp310-cp310-manylinux_2_17_x86_64.manylinux2014_x86_64.whl (12.3 MB)\n",
      "\u001b[2K   \u001b[90m━━━━━━━━━━━━━━━━━━━━━━━━━━━━━━━━━━━━━━━━\u001b[0m \u001b[32m12.3/12.3 MB\u001b[0m \u001b[31m38.3 MB/s\u001b[0m eta \u001b[36m0:00:00\u001b[0ma \u001b[36m0:00:01\u001b[0m\n",
      "\u001b[?25hDownloading pytz-2023.3.post1-py2.py3-none-any.whl (502 kB)\n",
      "\u001b[2K   \u001b[90m━━━━━━━━━━━━━━━━━━━━━━━━━━━━━━━━━━━━━━━━\u001b[0m \u001b[32m502.5/502.5 kB\u001b[0m \u001b[31m71.4 MB/s\u001b[0m eta \u001b[36m0:00:00\u001b[0m\n",
      "\u001b[?25hDownloading tzdata-2023.4-py2.py3-none-any.whl (346 kB)\n",
      "\u001b[2K   \u001b[90m━━━━━━━━━━━━━━━━━━━━━━━━━━━━━━━━━━━━━━━━\u001b[0m \u001b[32m346.6/346.6 kB\u001b[0m \u001b[31m71.2 MB/s\u001b[0m eta \u001b[36m0:00:00\u001b[0m\n",
      "\u001b[?25hInstalling collected packages: pytz, tzdata, pandas\n",
      "Successfully installed pandas-2.1.4 pytz-2023.3.post1 tzdata-2023.4\n",
      "\u001b[33mWARNING: Running pip as the 'root' user can result in broken permissions and conflicting behaviour with the system package manager. It is recommended to use a virtual environment instead: https://pip.pypa.io/warnings/venv\u001b[0m\u001b[33m\n",
      "\u001b[0m\n",
      "\u001b[1m[\u001b[0m\u001b[34;49mnotice\u001b[0m\u001b[1;39;49m]\u001b[0m\u001b[39;49m A new release of pip is available: \u001b[0m\u001b[31;49m23.3.1\u001b[0m\u001b[39;49m -> \u001b[0m\u001b[32;49m23.3.2\u001b[0m\n",
      "\u001b[1m[\u001b[0m\u001b[34;49mnotice\u001b[0m\u001b[1;39;49m]\u001b[0m\u001b[39;49m To update, run: \u001b[0m\u001b[32;49mpython -m pip install --upgrade pip\u001b[0m\n"
     ]
    }
   ],
   "source": [
    "! pip install pandas"
   ]
  },
  {
   "cell_type": "code",
   "execution_count": 2,
   "id": "e838d56f-6f37-4d90-bc06-3ea8861c69e4",
   "metadata": {},
   "outputs": [
    {
     "name": "stdout",
     "output_type": "stream",
     "text": [
      "Collecting tqdm\n",
      "  Downloading tqdm-4.66.1-py3-none-any.whl.metadata (57 kB)\n",
      "\u001b[2K     \u001b[90m━━━━━━━━━━━━━━━━━━━━━━━━━━━━━━━━━━━━━━━━\u001b[0m \u001b[32m57.6/57.6 kB\u001b[0m \u001b[31m1.2 MB/s\u001b[0m eta \u001b[36m0:00:00\u001b[0ma \u001b[36m0:00:01\u001b[0m\n",
      "\u001b[?25hDownloading tqdm-4.66.1-py3-none-any.whl (78 kB)\n",
      "\u001b[2K   \u001b[90m━━━━━━━━━━━━━━━━━━━━━━━━━━━━━━━━━━━━━━━━\u001b[0m \u001b[32m78.3/78.3 kB\u001b[0m \u001b[31m7.8 MB/s\u001b[0m eta \u001b[36m0:00:00\u001b[0m\n",
      "\u001b[?25hInstalling collected packages: tqdm\n",
      "Successfully installed tqdm-4.66.1\n",
      "\u001b[33mWARNING: Running pip as the 'root' user can result in broken permissions and conflicting behaviour with the system package manager. It is recommended to use a virtual environment instead: https://pip.pypa.io/warnings/venv\u001b[0m\u001b[33m\n",
      "\u001b[0m\n",
      "\u001b[1m[\u001b[0m\u001b[34;49mnotice\u001b[0m\u001b[1;39;49m]\u001b[0m\u001b[39;49m A new release of pip is available: \u001b[0m\u001b[31;49m23.3.1\u001b[0m\u001b[39;49m -> \u001b[0m\u001b[32;49m23.3.2\u001b[0m\n",
      "\u001b[1m[\u001b[0m\u001b[34;49mnotice\u001b[0m\u001b[1;39;49m]\u001b[0m\u001b[39;49m To update, run: \u001b[0m\u001b[32;49mpython -m pip install --upgrade pip\u001b[0m\n"
     ]
    }
   ],
   "source": [
    "! pip install tqdm"
   ]
  },
  {
   "cell_type": "code",
   "execution_count": 3,
   "id": "d64b680b-a42b-4281-be87-b218942dc256",
   "metadata": {},
   "outputs": [
    {
     "name": "stdout",
     "output_type": "stream",
     "text": [
      "Requirement already satisfied: torch in /usr/local/lib/python3.10/dist-packages (2.1.0+cu118)\n",
      "Requirement already satisfied: filelock in /usr/local/lib/python3.10/dist-packages (from torch) (3.9.0)\n",
      "Requirement already satisfied: typing-extensions in /usr/local/lib/python3.10/dist-packages (from torch) (4.4.0)\n",
      "Requirement already satisfied: sympy in /usr/local/lib/python3.10/dist-packages (from torch) (1.12)\n",
      "Requirement already satisfied: networkx in /usr/local/lib/python3.10/dist-packages (from torch) (3.0)\n",
      "Requirement already satisfied: jinja2 in /usr/local/lib/python3.10/dist-packages (from torch) (3.1.2)\n",
      "Requirement already satisfied: fsspec in /usr/local/lib/python3.10/dist-packages (from torch) (2023.4.0)\n",
      "Requirement already satisfied: triton==2.1.0 in /usr/local/lib/python3.10/dist-packages (from torch) (2.1.0)\n",
      "Requirement already satisfied: MarkupSafe>=2.0 in /usr/local/lib/python3.10/dist-packages (from jinja2->torch) (2.1.2)\n",
      "Requirement already satisfied: mpmath>=0.19 in /usr/local/lib/python3.10/dist-packages (from sympy->torch) (1.3.0)\n",
      "\u001b[33mWARNING: Running pip as the 'root' user can result in broken permissions and conflicting behaviour with the system package manager. It is recommended to use a virtual environment instead: https://pip.pypa.io/warnings/venv\u001b[0m\u001b[33m\n",
      "\u001b[0m\n",
      "\u001b[1m[\u001b[0m\u001b[34;49mnotice\u001b[0m\u001b[1;39;49m]\u001b[0m\u001b[39;49m A new release of pip is available: \u001b[0m\u001b[31;49m23.3.1\u001b[0m\u001b[39;49m -> \u001b[0m\u001b[32;49m23.3.2\u001b[0m\n",
      "\u001b[1m[\u001b[0m\u001b[34;49mnotice\u001b[0m\u001b[1;39;49m]\u001b[0m\u001b[39;49m To update, run: \u001b[0m\u001b[32;49mpython -m pip install --upgrade pip\u001b[0m\n"
     ]
    }
   ],
   "source": [
    "! pip install torch"
   ]
  },
  {
   "cell_type": "code",
   "execution_count": 4,
   "id": "b8f44cb5-64cf-4e41-97b6-d30b62a13e60",
   "metadata": {},
   "outputs": [],
   "source": [
    "import pandas as pd\n",
    "from tqdm import tqdm\n",
    "import torch\n",
    "\n",
    "from torch.utils.data import Dataset, DataLoader"
   ]
  },
  {
   "cell_type": "code",
   "execution_count": 5,
   "id": "147e4ac5-d402-40a7-a8bb-80aa0d29a68e",
   "metadata": {},
   "outputs": [],
   "source": [
    "class CodeJsonDataset(Dataset):\n",
    "    def __init__(self, dataset_json_file_path: str):\n",
    "        self.dataset_json_file_path = dataset_json_file_path\n",
    "        self.code_data = self.load_json_data()\n",
    "\n",
    "    def __len__(self):\n",
    "        return len(self.code_data)\n",
    "\n",
    "    def __getitem__(self, idx: int):\n",
    "        sample = self.code_data[idx]\n",
    "        return {'data': sample, 'index': idx}\n",
    "\n",
    "    def load_json_data(self):\n",
    "        df = pd.read_json(self.dataset_json_file_path)\n",
    "        merged_column = df.apply(lambda row: '\\n'.join(f'{col}: {value}' for col, value in row.items()), axis=1)\n",
    "        df['data'] = merged_column\n",
    "        df = df['data']\n",
    "        return df.values"
   ]
  },
  {
   "cell_type": "code",
   "execution_count": 6,
   "id": "34b6762c-faf8-4656-bb6d-029198d1af7b",
   "metadata": {},
   "outputs": [],
   "source": [
    "dataset_json_file_path = './../../codealpaca/data/code_alpaca_2k.json'\n",
    "code_alpaca_dataset = CodeJsonDataset(dataset_json_file_path)"
   ]
  },
  {
   "cell_type": "code",
   "execution_count": 7,
   "id": "d4d4b523-8811-4bb5-94e7-024f7b92ac33",
   "metadata": {},
   "outputs": [
    {
     "data": {
      "text/plain": [
       "2017"
      ]
     },
     "execution_count": 7,
     "metadata": {},
     "output_type": "execute_result"
    }
   ],
   "source": [
    "len(code_alpaca_dataset)"
   ]
  },
  {
   "cell_type": "code",
   "execution_count": 8,
   "id": "cc590c45-5a01-4716-8bde-9eb81dd9ad5e",
   "metadata": {},
   "outputs": [
    {
     "data": {
      "text/plain": [
       "{'data': 'instruction: What are the distinct values from the given list?\\ninput: dataList = [3, 9, 3, 5, 7, 9, 5]\\noutput: The distinct values from the given list are 3, 5, 7 and 9.',\n",
       " 'index': 0}"
      ]
     },
     "execution_count": 8,
     "metadata": {},
     "output_type": "execute_result"
    }
   ],
   "source": [
    "code_alpaca_dataset.__getitem__(0)"
   ]
  },
  {
   "cell_type": "code",
   "execution_count": 9,
   "id": "8b1c359f-0532-40b0-94fd-1b42968b0eaf",
   "metadata": {},
   "outputs": [],
   "source": [
    "dataloader = DataLoader(code_alpaca_dataset, batch_size=64, shuffle=True)"
   ]
  },
  {
   "cell_type": "code",
   "execution_count": 21,
   "id": "02cd3e2c-c148-4815-951a-fe01fc6801f1",
   "metadata": {},
   "outputs": [],
   "source": [
    "df = pd.read_json('./../../codealpaca/data/code_alpaca_2k.json')"
   ]
  },
  {
   "cell_type": "code",
   "execution_count": 22,
   "id": "87929f8a-a588-49df-aac7-3390c1e8a65c",
   "metadata": {},
   "outputs": [],
   "source": [
    "df['ID'] = range(0, len(df))"
   ]
  },
  {
   "cell_type": "code",
   "execution_count": 23,
   "id": "4d9a1fd4-5de2-408b-b533-82168af2dfbc",
   "metadata": {},
   "outputs": [
    {
     "data": {
      "text/html": [
       "<div>\n",
       "<style scoped>\n",
       "    .dataframe tbody tr th:only-of-type {\n",
       "        vertical-align: middle;\n",
       "    }\n",
       "\n",
       "    .dataframe tbody tr th {\n",
       "        vertical-align: top;\n",
       "    }\n",
       "\n",
       "    .dataframe thead th {\n",
       "        text-align: right;\n",
       "    }\n",
       "</style>\n",
       "<table border=\"1\" class=\"dataframe\">\n",
       "  <thead>\n",
       "    <tr style=\"text-align: right;\">\n",
       "      <th></th>\n",
       "      <th>instruction</th>\n",
       "      <th>input</th>\n",
       "      <th>output</th>\n",
       "      <th>ID</th>\n",
       "    </tr>\n",
       "  </thead>\n",
       "  <tbody>\n",
       "    <tr>\n",
       "      <th>0</th>\n",
       "      <td>What are the distinct values from the given list?</td>\n",
       "      <td>dataList = [3, 9, 3, 5, 7, 9, 5]</td>\n",
       "      <td>The distinct values from the given list are 3,...</td>\n",
       "      <td>0</td>\n",
       "    </tr>\n",
       "    <tr>\n",
       "      <th>1</th>\n",
       "      <td>How would you order a sequence of letters alph...</td>\n",
       "      <td>A, B, C, D</td>\n",
       "      <td>The sequence of letters ordered alphabetically...</td>\n",
       "      <td>1</td>\n",
       "    </tr>\n",
       "    <tr>\n",
       "      <th>2</th>\n",
       "      <td>Write a JavaScript code to loop over all eleme...</td>\n",
       "      <td>numbersArray = [45, 6, 23, 12, 35]</td>\n",
       "      <td>for(let i = 0; i &lt; numbersArray.length; i++) {...</td>\n",
       "      <td>2</td>\n",
       "    </tr>\n",
       "    <tr>\n",
       "      <th>3</th>\n",
       "      <td>Write a Python function to calculate the facto...</td>\n",
       "      <td></td>\n",
       "      <td>def factorial(number):\\n    fact = 1\\n    for ...</td>\n",
       "      <td>3</td>\n",
       "    </tr>\n",
       "    <tr>\n",
       "      <th>4</th>\n",
       "      <td>What would be the output of the following Java...</td>\n",
       "      <td>let area = 6 * 5;\\nlet radius = area / 3.14;</td>\n",
       "      <td>The output of the JavaScript snippet is the ra...</td>\n",
       "      <td>4</td>\n",
       "    </tr>\n",
       "    <tr>\n",
       "      <th>...</th>\n",
       "      <td>...</td>\n",
       "      <td>...</td>\n",
       "      <td>...</td>\n",
       "      <td>...</td>\n",
       "    </tr>\n",
       "    <tr>\n",
       "      <th>2012</th>\n",
       "      <td>Create a JavaScript code that updates the stat...</td>\n",
       "      <td></td>\n",
       "      <td>document.getElementById(\"status\").innerHTML = ...</td>\n",
       "      <td>2012</td>\n",
       "    </tr>\n",
       "    <tr>\n",
       "      <th>2013</th>\n",
       "      <td>Write a function which takes an array of strin...</td>\n",
       "      <td>arr = [\"welcome\",\"to\",\"my\",\"website\"]\\nstr = \"...</td>\n",
       "      <td>def search_string(arr, str): \\n    for i in ra...</td>\n",
       "      <td>2013</td>\n",
       "    </tr>\n",
       "    <tr>\n",
       "      <th>2014</th>\n",
       "      <td>Categorize the given text into three classes: ...</td>\n",
       "      <td>\"An AI-based algorithm has been developed to p...</td>\n",
       "      <td>Sports</td>\n",
       "      <td>2014</td>\n",
       "    </tr>\n",
       "    <tr>\n",
       "      <th>2015</th>\n",
       "      <td>Create a function to implement breadth-first s...</td>\n",
       "      <td>graph = {\\n  \"A\": [\"B\", \"C\"],\\n  \"B\": [\"A\", \"C...</td>\n",
       "      <td>def BFS(graph, start): \\n    queue = []\\n    q...</td>\n",
       "      <td>2015</td>\n",
       "    </tr>\n",
       "    <tr>\n",
       "      <th>2016</th>\n",
       "      <td>Write an SQL query to find the average price o...</td>\n",
       "      <td></td>\n",
       "      <td>SELECT AVG(Price)\\nFROM Products\\nWHERE Date &gt;...</td>\n",
       "      <td>2016</td>\n",
       "    </tr>\n",
       "  </tbody>\n",
       "</table>\n",
       "<p>2017 rows × 4 columns</p>\n",
       "</div>"
      ],
      "text/plain": [
       "                                            instruction  \\\n",
       "0     What are the distinct values from the given list?   \n",
       "1     How would you order a sequence of letters alph...   \n",
       "2     Write a JavaScript code to loop over all eleme...   \n",
       "3     Write a Python function to calculate the facto...   \n",
       "4     What would be the output of the following Java...   \n",
       "...                                                 ...   \n",
       "2012  Create a JavaScript code that updates the stat...   \n",
       "2013  Write a function which takes an array of strin...   \n",
       "2014  Categorize the given text into three classes: ...   \n",
       "2015  Create a function to implement breadth-first s...   \n",
       "2016  Write an SQL query to find the average price o...   \n",
       "\n",
       "                                                  input  \\\n",
       "0                      dataList = [3, 9, 3, 5, 7, 9, 5]   \n",
       "1                                            A, B, C, D   \n",
       "2                    numbersArray = [45, 6, 23, 12, 35]   \n",
       "3                                                         \n",
       "4          let area = 6 * 5;\\nlet radius = area / 3.14;   \n",
       "...                                                 ...   \n",
       "2012                                                      \n",
       "2013  arr = [\"welcome\",\"to\",\"my\",\"website\"]\\nstr = \"...   \n",
       "2014  \"An AI-based algorithm has been developed to p...   \n",
       "2015  graph = {\\n  \"A\": [\"B\", \"C\"],\\n  \"B\": [\"A\", \"C...   \n",
       "2016                                                      \n",
       "\n",
       "                                                 output    ID  \n",
       "0     The distinct values from the given list are 3,...     0  \n",
       "1     The sequence of letters ordered alphabetically...     1  \n",
       "2     for(let i = 0; i < numbersArray.length; i++) {...     2  \n",
       "3     def factorial(number):\\n    fact = 1\\n    for ...     3  \n",
       "4     The output of the JavaScript snippet is the ra...     4  \n",
       "...                                                 ...   ...  \n",
       "2012  document.getElementById(\"status\").innerHTML = ...  2012  \n",
       "2013  def search_string(arr, str): \\n    for i in ra...  2013  \n",
       "2014                                             Sports  2014  \n",
       "2015  def BFS(graph, start): \\n    queue = []\\n    q...  2015  \n",
       "2016  SELECT AVG(Price)\\nFROM Products\\nWHERE Date >...  2016  \n",
       "\n",
       "[2017 rows x 4 columns]"
      ]
     },
     "execution_count": 23,
     "metadata": {},
     "output_type": "execute_result"
    }
   ],
   "source": [
    "df"
   ]
  },
  {
   "cell_type": "code",
   "execution_count": 24,
   "id": "28ebfbd2-a78f-45f6-a870-a1384841229e",
   "metadata": {},
   "outputs": [
    {
     "data": {
      "text/plain": [
       "'What are the distinct values from the given list?'"
      ]
     },
     "execution_count": 24,
     "metadata": {},
     "output_type": "execute_result"
    }
   ],
   "source": [
    "df['instruction'][0]"
   ]
  },
  {
   "cell_type": "code",
   "execution_count": 25,
   "id": "2daf41da-2c00-4d08-b1a6-6b71f02561d6",
   "metadata": {},
   "outputs": [
    {
     "data": {
      "text/plain": [
       "0"
      ]
     },
     "execution_count": 25,
     "metadata": {},
     "output_type": "execute_result"
    }
   ],
   "source": [
    "df['ID'][0]"
   ]
  },
  {
   "cell_type": "code",
   "execution_count": null,
   "id": "b0372076-ecef-46ad-be5c-70b215f291c6",
   "metadata": {},
   "outputs": [],
   "source": []
  }
 ],
 "metadata": {
  "kernelspec": {
   "display_name": "Python 3 (ipykernel)",
   "language": "python",
   "name": "python3"
  },
  "language_info": {
   "codemirror_mode": {
    "name": "ipython",
    "version": 3
   },
   "file_extension": ".py",
   "mimetype": "text/x-python",
   "name": "python",
   "nbconvert_exporter": "python",
   "pygments_lexer": "ipython3",
   "version": "3.10.12"
  }
 },
 "nbformat": 4,
 "nbformat_minor": 5
}
