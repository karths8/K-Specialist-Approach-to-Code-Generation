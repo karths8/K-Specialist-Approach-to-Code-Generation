{
 "cells": [
  {
   "cell_type": "code",
   "execution_count": 18,
   "id": "8fafc9b7-4684-4e6b-8c2e-fbc78d341fe1",
   "metadata": {},
   "outputs": [
    {
     "ename": "ModuleNotFoundError",
     "evalue": "No module named 'faiss'",
     "output_type": "error",
     "traceback": [
      "\u001b[0;31m---------------------------------------------------------------------------\u001b[0m",
      "\u001b[0;31mModuleNotFoundError\u001b[0m                       Traceback (most recent call last)",
      "Cell \u001b[0;32mIn[18], line 4\u001b[0m\n\u001b[1;32m      2\u001b[0m \u001b[38;5;28;01mimport\u001b[39;00m \u001b[38;5;21;01mnumpy\u001b[39;00m \u001b[38;5;28;01mas\u001b[39;00m \u001b[38;5;21;01mnp\u001b[39;00m\n\u001b[1;32m      3\u001b[0m \u001b[38;5;28;01mimport\u001b[39;00m \u001b[38;5;21;01mpickle\u001b[39;00m\n\u001b[0;32m----> 4\u001b[0m \u001b[38;5;28;01mimport\u001b[39;00m \u001b[38;5;21;01mfaiss\u001b[39;00m\n",
      "\u001b[0;31mModuleNotFoundError\u001b[0m: No module named 'faiss'"
     ]
    }
   ],
   "source": [
    "import json\n",
    "import numpy as np\n",
    "import pickle"
   ]
  },
  {
   "cell_type": "code",
   "execution_count": 5,
   "id": "5b712fdd-9944-4e63-80ba-07e77c71ab48",
   "metadata": {},
   "outputs": [],
   "source": [
    "dist_to_cent_path = \"/workspace/CS762_Project/SemDeDup/code_alpaca_results/save_location/dist_to_cent.npy\"\n",
    "kmeans_centroids_path = \"/workspace/CS762_Project/SemDeDup/code_alpaca_results/save_location/kmeans_centroids.npy\"\n",
    "kmeans_index_path = \"/workspace/CS762_Project/SemDeDup/code_alpaca_results/save_location/kmeans_index.pickle\"\n",
    "nearest_cent_path = \"/workspace/CS762_Project/SemDeDup/code_alpaca_results/save_location/nearest_cent.npy\""
   ]
  },
  {
   "cell_type": "code",
   "execution_count": 6,
   "id": "17835030-6b6c-4d70-aa0b-4f92d94080fc",
   "metadata": {},
   "outputs": [],
   "source": [
    "dist_to_cent = np.load(dist_to_cent_path)"
   ]
  },
  {
   "cell_type": "code",
   "execution_count": 9,
   "id": "4897a070-5d0e-448e-a930-c5f61c52b757",
   "metadata": {},
   "outputs": [
    {
     "data": {
      "text/plain": [
       "array([0.7667998 , 0.78590834, 0.8089526 , 0.872614  , 0.7806274 ,\n",
       "       0.82157815, 0.878303  , 0.896036  , 0.83841544, 0.81058663,\n",
       "       0.8164714 , 0.9334228 , 0.87191916, 0.857003  , 0.75796515,\n",
       "       0.8368749 , 0.8095121 , 0.8079305 , 0.8513582 , 0.8626343 ,\n",
       "       0.7495757 , 0.8038612 , 0.80777526, 0.845601  , 0.8633273 ,\n",
       "       0.8520894 , 0.7658187 , 0.8260699 , 0.7720321 , 0.7678662 ,\n",
       "       0.8256133 , 0.8302088 , 0.7872035 , 0.91754556, 0.84822404,\n",
       "       0.8686685 , 0.862296  , 0.84783274, 0.8561755 , 0.83397907,\n",
       "       0.8327508 , 0.79492223, 0.81809556, 0.90405583, 0.84771127,\n",
       "       0.8754141 , 0.8309518 , 0.8903014 , 0.83447987, 0.8409411 ,\n",
       "       0.9505668 , 0.8481279 , 0.8828817 , 0.87489694, 0.7756894 ,\n",
       "       0.7927546 , 0.9117255 , 0.88473314, 0.77592623, 0.8069709 ,\n",
       "       0.74666965, 0.8938621 , 0.8133255 , 0.79208803, 0.8727699 ,\n",
       "       0.7952133 , 0.7927403 , 0.79777455, 0.9043035 , 0.87806946,\n",
       "       0.8454547 , 0.72161704, 0.9212456 , 0.8459643 , 0.8790339 ,\n",
       "       0.86307466, 0.8518635 , 0.8366758 , 0.9505668 , 0.84902424,\n",
       "       0.84184206, 0.83391523, 0.8561146 , 0.8917661 , 0.8934884 ,\n",
       "       0.77713454, 0.8917224 , 0.81747925, 0.8606287 , 0.82336694,\n",
       "       0.8247828 , 0.7829296 , 0.7928223 , 0.8494886 , 0.8710518 ,\n",
       "       0.8073388 , 0.72555786, 0.8290556 , 0.75377285, 0.7671964 ,\n",
       "       0.8518495 , 0.83472455, 0.8536911 , 0.801513  , 0.8247614 ,\n",
       "       0.8209346 , 0.8266486 , 0.8830923 , 0.8494184 , 0.8941342 ,\n",
       "       0.8518173 , 0.81102264, 0.7870407 , 0.77434784, 0.86782753,\n",
       "       0.8462342 , 0.9021745 , 0.84239507, 0.8240913 , 0.8026093 ,\n",
       "       0.84862244, 0.8463718 , 0.8400141 , 0.8415458 , 0.83603114,\n",
       "       0.7989106 , 0.8422882 , 0.77550185, 0.73480356, 0.7748285 ,\n",
       "       0.8213482 , 0.69408643, 0.82808214, 0.86566925, 0.7583895 ,\n",
       "       0.82412434, 0.763751  , 0.7094763 , 0.846367  , 0.8023043 ,\n",
       "       0.91536176, 0.6543876 , 0.8941342 , 0.77449095, 0.8426673 ,\n",
       "       0.91172564, 0.7889915 , 0.7634985 , 0.8776246 , 0.8380218 ,\n",
       "       0.8621164 , 0.84978753, 0.8272189 , 0.9062276 , 0.8835576 ,\n",
       "       0.78643984, 0.85081863, 0.81697685, 0.8522305 , 0.8821164 ,\n",
       "       0.82279724, 0.71743727, 0.87440217, 0.7980726 , 0.7460354 ,\n",
       "       0.78837734, 0.65241313, 0.70213264, 0.90217465, 0.8833159 ,\n",
       "       0.8487513 , 0.75906336, 0.8648294 , 0.8345846 , 0.8883295 ,\n",
       "       0.7468865 , 0.938287  , 0.753209  , 0.78179365, 0.9073437 ,\n",
       "       0.79978555, 0.88882005, 0.858388  , 0.81964433, 0.7730411 ,\n",
       "       0.8528133 , 0.7200485 , 0.81872797, 0.8248537 , 0.74126196,\n",
       "       0.8514349 , 0.847184  , 0.81030416, 0.8611332 , 0.8957467 ,\n",
       "       0.8087224 , 0.8863511 , 0.79555136, 0.86482656, 0.8569592 ],\n",
       "      dtype=float32)"
      ]
     },
     "execution_count": 9,
     "metadata": {},
     "output_type": "execute_result"
    }
   ],
   "source": [
    "dist_to_cent"
   ]
  },
  {
   "cell_type": "code",
   "execution_count": 10,
   "id": "1e43c32a-dc72-4382-a1bb-ffc143fb1665",
   "metadata": {},
   "outputs": [],
   "source": [
    "kmeans_centroids = np.load(kmeans_centroids_path)"
   ]
  },
  {
   "cell_type": "code",
   "execution_count": 13,
   "id": "7552c203-5cb0-42cf-8e38-0ae21570b101",
   "metadata": {},
   "outputs": [
    {
     "data": {
      "text/plain": [
       "array([[-0.00427967, -0.00791776, -0.00489135, ..., -0.00806087,\n",
       "         0.00175193,  0.01607627],\n",
       "       [ 0.02567953,  0.02325489,  0.00904939, ...,  0.0319884 ,\n",
       "         0.00974288,  0.02133959],\n",
       "       [-0.01053922,  0.01305528, -0.01367826, ..., -0.02694197,\n",
       "        -0.00970106,  0.0080921 ],\n",
       "       ...,\n",
       "       [-0.0098042 , -0.01136418,  0.00641898, ...,  0.00570991,\n",
       "         0.03376765, -0.00284506],\n",
       "       [ 0.02022869, -0.00304744,  0.00474573, ...,  0.00041617,\n",
       "         0.0415779 ,  0.01136685],\n",
       "       [-0.00618376,  0.00239974, -0.03328286, ..., -0.00216615,\n",
       "         0.02674527,  0.02687906]], dtype=float32)"
      ]
     },
     "execution_count": 13,
     "metadata": {},
     "output_type": "execute_result"
    }
   ],
   "source": [
    "kmeans_centroids"
   ]
  },
  {
   "cell_type": "code",
   "execution_count": 14,
   "id": "efea8300-d0ae-46fb-9ee6-f9455310a810",
   "metadata": {},
   "outputs": [],
   "source": [
    "nearest_cent = np.load(nearest_cent_path)"
   ]
  },
  {
   "cell_type": "code",
   "execution_count": 15,
   "id": "9b961167-5f15-40a2-937a-2c7c43c89c2d",
   "metadata": {},
   "outputs": [
    {
     "data": {
      "text/plain": [
       "array([14,  3,  6, 16, 12, 16,  9,  3,  4,  6, 12,  9,  4,  6, 12, 17,  4,\n",
       "        3,  7, 16, 14,  4, 16,  6,  8,  0, 16,  6,  4, 16, 16,  6,  9,  3,\n",
       "        7, 17, 16,  8, 17,  4,  7, 12, 12,  7,  4,  4, 16,  7,  6,  4,  2,\n",
       "       16,  3,  4,  6, 14, 10, 17, 14,  6, 13,  8,  7, 12,  3,  4,  1,  6,\n",
       "        8, 13,  5, 17,  9,  4, 16,  3, 19, 13,  2,  4, 11,  4,  5,  0, 16,\n",
       "       14,  7,  6, 16,  4,  4,  8, 16,  4,  6,  4, 16,  5,  6,  1,  3, 17,\n",
       "       16, 19,  4,  5,  4, 17,  6, 15,  0, 14, 14, 12, 16, 14, 18,  4, 16,\n",
       "        5, 14, 14, 14,  8,  1,  4, 16, 11,  6, 12,  6,  0,  5,  1,  1,  4,\n",
       "        3, 14,  3, 16,  9,  3, 15,  5,  1, 10, 16, 16, 11,  6,  4, 16,  4,\n",
       "        9,  3, 12,  4, 12,  4, 11, 12,  5, 17, 17, 19, 12,  8,  5, 18,  0,\n",
       "       12,  6, 16,  4,  3, 16,  9, 14,  6,  3, 16,  6,  7, 17, 13, 16,  4,\n",
       "        6,  7, 17,  4,  6, 19,  8,  3,  4,  3, 16,  6,  4])"
      ]
     },
     "execution_count": 15,
     "metadata": {},
     "output_type": "execute_result"
    }
   ],
   "source": [
    "nearest_cent"
   ]
  },
  {
   "cell_type": "code",
   "execution_count": 17,
   "id": "780dd6b7-f8ef-472f-890b-b446312c24d0",
   "metadata": {},
   "outputs": [
    {
     "ename": "ModuleNotFoundError",
     "evalue": "No module named 'faiss'",
     "output_type": "error",
     "traceback": [
      "\u001b[0;31m---------------------------------------------------------------------------\u001b[0m",
      "\u001b[0;31mModuleNotFoundError\u001b[0m                       Traceback (most recent call last)",
      "Cell \u001b[0;32mIn[17], line 2\u001b[0m\n\u001b[1;32m      1\u001b[0m \u001b[38;5;28;01mwith\u001b[39;00m \u001b[38;5;28mopen\u001b[39m(kmeans_index_path, \u001b[38;5;124m'\u001b[39m\u001b[38;5;124mrb\u001b[39m\u001b[38;5;124m'\u001b[39m) \u001b[38;5;28;01mas\u001b[39;00m kmeans_index_file:\n\u001b[0;32m----> 2\u001b[0m     kmeans_index \u001b[38;5;241m=\u001b[39m \u001b[43mpickle\u001b[49m\u001b[38;5;241;43m.\u001b[39;49m\u001b[43mload\u001b[49m\u001b[43m(\u001b[49m\u001b[43mkmeans_index_file\u001b[49m\u001b[43m)\u001b[49m\n",
      "\u001b[0;31mModuleNotFoundError\u001b[0m: No module named 'faiss'"
     ]
    }
   ],
   "source": [
    "with open(kmeans_index_path, 'rb') as kmeans_index_file:\n",
    "    kmeans_index = pickle.load(kmeans_index_file)"
   ]
  },
  {
   "cell_type": "code",
   "execution_count": null,
   "id": "19683675-6c10-433b-8880-69075664afaa",
   "metadata": {},
   "outputs": [],
   "source": []
  },
  {
   "cell_type": "code",
   "execution_count": 22,
   "id": "4b230692-99d7-4747-8e46-8019ca7986fc",
   "metadata": {},
   "outputs": [
    {
     "name": "stdout",
     "output_type": "stream",
     "text": [
      "Collecting pandas\n",
      "  Downloading pandas-2.2.0-cp310-cp310-manylinux_2_17_x86_64.manylinux2014_x86_64.whl.metadata (19 kB)\n",
      "Requirement already satisfied: numpy<2,>=1.22.4 in /usr/local/lib/python3.10/dist-packages (from pandas) (1.24.1)\n",
      "Requirement already satisfied: python-dateutil>=2.8.2 in /usr/local/lib/python3.10/dist-packages (from pandas) (2.8.2)\n",
      "Collecting pytz>=2020.1 (from pandas)\n",
      "  Downloading pytz-2023.3.post1-py2.py3-none-any.whl.metadata (22 kB)\n",
      "Collecting tzdata>=2022.7 (from pandas)\n",
      "  Downloading tzdata-2023.4-py2.py3-none-any.whl.metadata (1.4 kB)\n",
      "Requirement already satisfied: six>=1.5 in /usr/lib/python3/dist-packages (from python-dateutil>=2.8.2->pandas) (1.16.0)\n",
      "Downloading pandas-2.2.0-cp310-cp310-manylinux_2_17_x86_64.manylinux2014_x86_64.whl (13.0 MB)\n",
      "\u001b[2K   \u001b[90m━━━━━━━━━━━━━━━━━━━━━━━━━━━━━━━━━━━━━━━━\u001b[0m \u001b[32m13.0/13.0 MB\u001b[0m \u001b[31m71.3 MB/s\u001b[0m eta \u001b[36m0:00:00\u001b[0ma \u001b[36m0:00:01\u001b[0m\n",
      "\u001b[?25hDownloading pytz-2023.3.post1-py2.py3-none-any.whl (502 kB)\n",
      "\u001b[2K   \u001b[90m━━━━━━━━━━━━━━━━━━━━━━━━━━━━━━━━━━━━━━━━\u001b[0m \u001b[32m502.5/502.5 kB\u001b[0m \u001b[31m78.2 MB/s\u001b[0m eta \u001b[36m0:00:00\u001b[0m\n",
      "\u001b[?25hDownloading tzdata-2023.4-py2.py3-none-any.whl (346 kB)\n",
      "\u001b[2K   \u001b[90m━━━━━━━━━━━━━━━━━━━━━━━━━━━━━━━━━━━━━━━━\u001b[0m \u001b[32m346.6/346.6 kB\u001b[0m \u001b[31m60.4 MB/s\u001b[0m eta \u001b[36m0:00:00\u001b[0m\n",
      "\u001b[?25hInstalling collected packages: pytz, tzdata, pandas\n",
      "Successfully installed pandas-2.2.0 pytz-2023.3.post1 tzdata-2023.4\n",
      "\u001b[33mWARNING: Running pip as the 'root' user can result in broken permissions and conflicting behaviour with the system package manager. It is recommended to use a virtual environment instead: https://pip.pypa.io/warnings/venv\u001b[0m\u001b[33m\n",
      "\u001b[0m\n",
      "\u001b[1m[\u001b[0m\u001b[34;49mnotice\u001b[0m\u001b[1;39;49m]\u001b[0m\u001b[39;49m A new release of pip is available: \u001b[0m\u001b[31;49m23.3.1\u001b[0m\u001b[39;49m -> \u001b[0m\u001b[32;49m23.3.2\u001b[0m\n",
      "\u001b[1m[\u001b[0m\u001b[34;49mnotice\u001b[0m\u001b[1;39;49m]\u001b[0m\u001b[39;49m To update, run: \u001b[0m\u001b[32;49mpython -m pip install --upgrade pip\u001b[0m\n"
     ]
    }
   ],
   "source": [
    "!pip install pandas"
   ]
  },
  {
   "cell_type": "code",
   "execution_count": 23,
   "id": "a4341421-308f-4ff2-8d26-f060255a4c94",
   "metadata": {},
   "outputs": [
    {
     "name": "stderr",
     "output_type": "stream",
     "text": [
      "/tmp/ipykernel_2094/4080736814.py:1: DeprecationWarning: \n",
      "Pyarrow will become a required dependency of pandas in the next major release of pandas (pandas 3.0),\n",
      "(to allow more performant data types, such as the Arrow string type, and better interoperability with other libraries)\n",
      "but was not found to be installed on your system.\n",
      "If this would cause problems for you,\n",
      "please provide us feedback at https://github.com/pandas-dev/pandas/issues/54466\n",
      "        \n",
      "  import pandas as pd\n"
     ]
    }
   ],
   "source": [
    "import pandas as pd"
   ]
  },
  {
   "cell_type": "code",
   "execution_count": 25,
   "id": "d682e96a-cbed-42ce-8c02-1a74be68ccbc",
   "metadata": {},
   "outputs": [],
   "source": [
    "dataset_json_file_path = \"./../../codealpaca/data/code_alpaca_2k.json\""
   ]
  },
  {
   "cell_type": "code",
   "execution_count": 26,
   "id": "2e6d77b5-441b-466d-969d-57861bc9805a",
   "metadata": {},
   "outputs": [],
   "source": [
    "df = pd.read_json(dataset_json_file_path)\n",
    "df['ID'] = range(0, len(df))"
   ]
  },
  {
   "cell_type": "code",
   "execution_count": 31,
   "id": "d4931455-179a-4f12-a172-640607c583b0",
   "metadata": {},
   "outputs": [],
   "source": [
    "data_centroids_map = dict()"
   ]
  },
  {
   "cell_type": "code",
   "execution_count": 33,
   "id": "d145d5a5-c003-4bd9-83bc-1c4f2c08d9ef",
   "metadata": {},
   "outputs": [],
   "source": [
    "i = 0 \n",
    "while i < len(nearest_cent):\n",
    "    if nearest_cent[i] in data_centroids_map:\n",
    "        data_centroids_map[nearest_cent[i]].append(i)\n",
    "    else:\n",
    "        data_centroids_map[nearest_cent[i]] = [i]\n",
    "    i += 1"
   ]
  },
  {
   "cell_type": "code",
   "execution_count": 36,
   "id": "fefcbe7d-5e40-4214-ab8f-fb5838bb9de2",
   "metadata": {},
   "outputs": [],
   "source": [
    "cluster_14 = data_centroids_map[14]"
   ]
  },
  {
   "cell_type": "code",
   "execution_count": 38,
   "id": "a403efc8-a2a3-4087-8c95-dc10623b8270",
   "metadata": {
    "scrolled": true
   },
   "outputs": [
    {
     "name": "stdout",
     "output_type": "stream",
     "text": [
      "What are the distinct values from the given list?\n",
      "Rewrite this JavaScript function to use ES6 syntax.\n",
      "What is a possible way to check whether an element exists in a set?\n",
      "Generate a correct logic for updating a data field in a table.\n",
      "Suggest a modification to the following C code.\n",
      "Develop a code snippet to get the  value of the key 'name' from the following dictionary.\n",
      "Below is a piece of code in which task you need to make it compatible with Python 3.\n",
      "Write a single line of code to convert this list to a set.\n",
      "Write a code snippet to get the fifth element of the following list.\n",
      "Write a code snippet to change the third-element in the following tuple.\n",
      "Using the following data structure, write a code snippet to get the value of the key 'dob'.\n",
      "Convert a given temperature from Celsius to Fahrenheit\n",
      "Convert the given list ['apple', 'banana', 'cherry', 'mango'] to a Dictionary\n"
     ]
    }
   ],
   "source": [
    "for idx in cluster_14:\n",
    "    print(df.iloc[idx].instruction)"
   ]
  },
  {
   "cell_type": "code",
   "execution_count": 40,
   "id": "ccde426c-0216-4c61-a9e3-48171b2fa4e6",
   "metadata": {},
   "outputs": [],
   "source": [
    "cluster_3 = data_centroids_map[3]"
   ]
  },
  {
   "cell_type": "code",
   "execution_count": 41,
   "id": "38671346-0b07-496f-aa08-6237d5a1cb59",
   "metadata": {},
   "outputs": [
    {
     "name": "stdout",
     "output_type": "stream",
     "text": [
      "How would you order a sequence of letters alphabetically?\n",
      "How would you sort a list of integer numbers in descending order?\n",
      "Suppose you have an array of objects and you want to sort them by the value of a given key. Write a JavaScript function to do the sorting.\n",
      "Write a Java program to sort an array of integers in descending order.\n",
      "Rewrite the given code to sort the list of numbers in ascending order.\n",
      "Create a Python function to sort a string in descending order.\n",
      "Implement the bubble sort algorithm in C++.\n",
      "Sort the numbers in a given list from biggest to smallest using Ruby.\n",
      "Write an algorithm to traverse a binary tree\n",
      "Explain the working of bubble sort algorithm.\n",
      "Explain what is a deque (double-ended queue) in Python.\n",
      "Design a Java program to sort elements in an array using insertion sort.\n",
      "Sort this input array [1, 6, 4, 3, 0, 9] in ascending order.\n",
      "Write a code to sort an input array of 3 numbers [10, 9, 8] in Descending Order.\n",
      "Implement a Java program to sort an array of strings alphabetically.\n",
      "Sort the following items in numerical order using the bubble sort algorithm in Python.\n"
     ]
    }
   ],
   "source": [
    "for idx in cluster_3:\n",
    "    print(df.iloc[idx].instruction)"
   ]
  },
  {
   "cell_type": "code",
   "execution_count": 43,
   "id": "cfa2f787-d1d4-4599-8727-ab8ac3810852",
   "metadata": {},
   "outputs": [],
   "source": [
    "cluster_6 = data_centroids_map[6]"
   ]
  },
  {
   "cell_type": "code",
   "execution_count": 44,
   "id": "0bad3be1-7350-4580-93d2-998493809dd9",
   "metadata": {},
   "outputs": [
    {
     "name": "stdout",
     "output_type": "stream",
     "text": [
      "Write a JavaScript code to loop over all elements in the given array.\n",
      "Write an if-else statement in Java that checks if a given number is between 0 and 10.\n",
      "Write a Java code to find the sum of two numbers.\n",
      "Create a C++ program to compute the sum of two numbers.\n",
      "Create a C# program to perform a linear search on an array.\n",
      "Write a JavaScript function to generate a random number between 0 to 10.\n",
      "Create a function in Java that takes in an integer n as a parameter and returns the sum of the first n natural numbers.\n",
      "Create a C++ function that checks if a given integer is an Armstrong number.\n",
      "Create a C++ class to calculate the maximum value in an array.\n",
      "Create a Swift function to find the smallest element in an array.\n",
      "Write a piece of Python code to generate a random number between 1 and 10.\n",
      "Generate a C program to find the sum of all the elements in a given array.\n",
      "Create a JavaScript array containing 5 fruits.\n",
      "Write a JavaScript function that takes two numbers as parameters and returns the sum of those two numbers.\n",
      "Find the smallest prime number in the list.\n",
      "Write a code to generate a random integer within a given range\n",
      "Design a function that takes an array of integers as an argument and returns the median of the array.\n",
      "Create a function to calculate average speed of a car based on distance and time.\n",
      "Create a function that calculates the total cost based on quantity of items and price.\n",
      "Create a program in Java that takes in an array of integers and returns the sum of all the elements.\n",
      "Write a JavaScript code to get the length of an array.\n",
      "Develop a C program to calculate the mean of a given array of integers.\n",
      "Write an algorithm to print the sum of all elements from a given array in Java.\n"
     ]
    }
   ],
   "source": [
    "for idx in cluster_6:\n",
    "    print(df.iloc[idx].instruction)"
   ]
  },
  {
   "cell_type": "code",
   "execution_count": 46,
   "id": "33147f2e-6ca7-4caf-80b9-f6a23974d416",
   "metadata": {},
   "outputs": [],
   "source": [
    "cluster_4 = data_centroids_map[4]"
   ]
  },
  {
   "cell_type": "code",
   "execution_count": 47,
   "id": "0808bc3e-25b7-4bb1-b2d0-caac913e3bee",
   "metadata": {},
   "outputs": [
    {
     "name": "stdout",
     "output_type": "stream",
     "text": [
      "Write a function in JavaScript that takes in a string and returns its length.\n",
      "Write a JavaScript program to check if a given string is a palindrome.\n",
      "Create a ruby function that takes two strings as parameters and returns true if the two strings are anagrams.\n",
      "Create an array of strings with only the elements of another array that have a length longer than 5 characters.\n",
      "Create a php code to capitalize the first letter of every word in a string.\n",
      "Write a Python program to check if a given string contains any punctuation character or not.\n",
      "Create a Java program to print out the words of a given string in reverse order.\n",
      "Create a JavaScript program that counts the number of vowels in a given string.\n",
      "Create a JavaScript program that takes two strings and returns true if they are pairwise anagrams of each other.\n",
      "Create a JavaScript program that takes in a string and returns the number of pairs of matching letters in the string.\n",
      "Find the longest word in a sentence using JavaScript.\n",
      "Write a Java program to compare two strings.\n",
      "Create a program in Ruby to generate all combinations of the characters in a string.\n",
      "Create a JavaScript program to manipulate an array of string and return only the words containing a given letter.\n",
      "Write a php function to find the length of the longest common string found in two separate strings.\n",
      "Write a Python code snippet to remove the vowels from a given string.\n",
      "Construct a JavaScript program to find the longest common prefix of a given array of strings.\n",
      "Construct an Objective-C program to check if a given number is a palindrome\n",
      "Write a C program to remove all vowels from an input string.\n",
      "Write a C++ function to check if two given strings are anagrams of each other.\n",
      "Write a code snippet that counts the number of occurrences of a certain character in a given string.\n",
      "Find the most frequent 5 words in a string\n",
      "Find the longest palindrome in a given string\n",
      "Write a Java program to count the number of vowels and consonants in a given string.\n",
      "Write a Python program to remove all adjacent duplicates from a string.\n",
      "Design an algorithm to find the longest common substring between two strings.\n",
      "Design a function to count the number of occurrences of a particular character in a given string.\n",
      "Write a function for reversing a given string.\n",
      "Design a regex expression that validates a given password based on a given criteria.\n",
      "Write a Ruby program to count the number of times a given character appears in a string.\n",
      "Create a function to return the length of the longest word in a given sentence.\n",
      "Create a C++ program to find the last occurrence of a given character in a string.\n"
     ]
    }
   ],
   "source": [
    "for idx in cluster_4:\n",
    "    print(df.iloc[idx].instruction)"
   ]
  },
  {
   "cell_type": "code",
   "execution_count": 48,
   "id": "23b9590b-3b14-4710-88e9-1c3661ea70f6",
   "metadata": {},
   "outputs": [],
   "source": [
    "# Assign and sort clusters"
   ]
  },
  {
   "cell_type": "code",
   "execution_count": 50,
   "id": "16997bca-531b-4890-b20e-acdf9d29bc30",
   "metadata": {},
   "outputs": [],
   "source": [
    "sorted_cluster_path_4 = \"/workspace/CS762_Project/SemDeDup/code_alpaca_results/sorted_clusters/cluster_4.npy\""
   ]
  },
  {
   "cell_type": "code",
   "execution_count": 51,
   "id": "99e62bf6-4ceb-4064-9a20-6e718ab2058d",
   "metadata": {},
   "outputs": [],
   "source": [
    "scluster_4 = np.load(sorted_cluster_path_4)"
   ]
  },
  {
   "cell_type": "code",
   "execution_count": 56,
   "id": "aa9c2922-0f40-4c9f-a18b-40351281c932",
   "metadata": {},
   "outputs": [
    {
     "data": {
      "text/plain": [
       "array([[1.86000000e+02, 1.86000000e+02, 2.79951513e-01, 4.00000000e+00],\n",
       "       [2.80000000e+01, 2.80000000e+01, 2.27967918e-01, 4.00000000e+00],\n",
       "       [6.50000000e+01, 6.50000000e+01, 2.04786718e-01, 4.00000000e+00],\n",
       "       [1.25000000e+02, 1.25000000e+02, 2.01089382e-01, 4.00000000e+00],\n",
       "       [2.10000000e+01, 2.10000000e+01, 1.96138799e-01, 4.00000000e+00],\n",
       "       [9.50000000e+01, 9.50000000e+01, 1.92661226e-01, 4.00000000e+00],\n",
       "       [1.95000000e+02, 1.95000000e+02, 1.91277623e-01, 4.00000000e+00],\n",
       "       [1.60000000e+01, 1.60000000e+01, 1.90487921e-01, 4.00000000e+00],\n",
       "       [8.90000000e+01, 8.90000000e+01, 1.76633060e-01, 4.00000000e+00],\n",
       "       [1.35000000e+02, 1.35000000e+02, 1.75875664e-01, 4.00000000e+00],\n",
       "       [1.04000000e+02, 1.04000000e+02, 1.75238609e-01, 4.00000000e+00],\n",
       "       [9.00000000e+01, 9.00000000e+01, 1.75217211e-01, 4.00000000e+00],\n",
       "       [1.06000000e+02, 1.06000000e+02, 1.73351407e-01, 4.00000000e+00],\n",
       "       [1.52000000e+02, 1.52000000e+02, 1.72781110e-01, 4.00000000e+00],\n",
       "       [8.10000000e+01, 8.10000000e+01, 1.66084766e-01, 4.00000000e+00],\n",
       "       [3.90000000e+01, 3.90000000e+01, 1.66020930e-01, 4.00000000e+00],\n",
       "       [1.73000000e+02, 1.73000000e+02, 1.65415406e-01, 4.00000000e+00],\n",
       "       [8.00000000e+00, 8.00000000e+00, 1.61584556e-01, 4.00000000e+00],\n",
       "       [4.90000000e+01, 4.90000000e+01, 1.59058928e-01, 4.00000000e+00],\n",
       "       [1.17000000e+02, 1.17000000e+02, 1.57604933e-01, 4.00000000e+00],\n",
       "       [7.30000000e+01, 7.30000000e+01, 1.54035687e-01, 4.00000000e+00],\n",
       "       [4.40000000e+01, 4.40000000e+01, 1.52288735e-01, 4.00000000e+00],\n",
       "       [7.90000000e+01, 7.90000000e+01, 1.50975764e-01, 4.00000000e+00],\n",
       "       [9.30000000e+01, 9.30000000e+01, 1.50511384e-01, 4.00000000e+00],\n",
       "       [1.56000000e+02, 1.56000000e+02, 1.49181366e-01, 4.00000000e+00],\n",
       "       [1.90000000e+02, 1.90000000e+02, 1.48565114e-01, 4.00000000e+00],\n",
       "       [1.58000000e+02, 1.58000000e+02, 1.47769511e-01, 4.00000000e+00],\n",
       "       [1.99000000e+02, 1.99000000e+02, 1.43040776e-01, 4.00000000e+00],\n",
       "       [1.50000000e+02, 1.50000000e+02, 1.37883604e-01, 4.00000000e+00],\n",
       "       [1.20000000e+01, 1.20000000e+01, 1.28080845e-01, 4.00000000e+00],\n",
       "       [5.30000000e+01, 5.30000000e+01, 1.25103056e-01, 4.00000000e+00],\n",
       "       [4.50000000e+01, 4.50000000e+01, 1.24585927e-01, 4.00000000e+00]])"
      ]
     },
     "execution_count": 56,
     "metadata": {},
     "output_type": "execute_result"
    }
   ],
   "source": [
    "# example_paths, cluster_items, cluster_dists_to_cent, cluster_label\n",
    "scluster_4"
   ]
  },
  {
   "cell_type": "code",
   "execution_count": 62,
   "id": "d603bcb8-627e-4fb0-89a2-a186d2d5eef2",
   "metadata": {},
   "outputs": [
    {
     "data": {
      "text/plain": [
       "'Design a regex expression that validates a given password based on a given criteria.'"
      ]
     },
     "execution_count": 62,
     "metadata": {},
     "output_type": "execute_result"
    }
   ],
   "source": [
    "df.iloc[186].instruction # furthest"
   ]
  },
  {
   "cell_type": "code",
   "execution_count": 63,
   "id": "3fea8e04-920d-403d-970f-054c8ca25ce6",
   "metadata": {},
   "outputs": [
    {
     "data": {
      "text/plain": [
       "'Create a JavaScript program that counts the number of vowels in a given string.'"
      ]
     },
     "execution_count": 63,
     "metadata": {},
     "output_type": "execute_result"
    }
   ],
   "source": [
    "df.iloc[45].instruction # closest"
   ]
  },
  {
   "cell_type": "code",
   "execution_count": 64,
   "id": "ab311cb5-7dcb-47b7-bf14-5fae927c041b",
   "metadata": {},
   "outputs": [
    {
     "data": {
      "text/plain": [
       "'Create a JavaScript program that takes in a string and returns the number of pairs of matching letters in the string.'"
      ]
     },
     "execution_count": 64,
     "metadata": {},
     "output_type": "execute_result"
    }
   ],
   "source": [
    "df.iloc[53].instruction # 2nd closest"
   ]
  },
  {
   "cell_type": "code",
   "execution_count": 65,
   "id": "1e5f86c1-3e2b-4091-ad38-ae15b37d362f",
   "metadata": {},
   "outputs": [
    {
     "data": {
      "text/plain": [
       "'Write a JavaScript program to check if a given string is a palindrome.'"
      ]
     },
     "execution_count": 65,
     "metadata": {},
     "output_type": "execute_result"
    }
   ],
   "source": [
    "df.iloc[12].instruction # 2nd closest"
   ]
  },
  {
   "cell_type": "code",
   "execution_count": 66,
   "id": "c8673748-ad80-48f2-bb16-9c20ad2b6e51",
   "metadata": {},
   "outputs": [],
   "source": [
    "# ran semdedup"
   ]
  },
  {
   "cell_type": "code",
   "execution_count": 67,
   "id": "c5bf188d-f25f-4fe8-98d0-c2142cd68cfe",
   "metadata": {},
   "outputs": [],
   "source": [
    "c_4_to_remove_path = \"/workspace/CS762_Project/SemDeDup/code_alpaca_results/save_location/dataframes/cluster_4.pkl\""
   ]
  },
  {
   "cell_type": "code",
   "execution_count": 71,
   "id": "5b5c3416-fc1d-4ce6-a784-a61a52e12068",
   "metadata": {},
   "outputs": [],
   "source": [
    "with open(c_4_to_remove_path, 'rb') as c_4_to_remove_file:\n",
    "    c_4_to_remove = pickle.load(c_4_to_remove_file)"
   ]
  },
  {
   "cell_type": "code",
   "execution_count": 72,
   "id": "ccac6794-5716-4aa9-be13-322a1932b173",
   "metadata": {},
   "outputs": [
    {
     "data": {
      "text/html": [
       "<div>\n",
       "<style scoped>\n",
       "    .dataframe tbody tr th:only-of-type {\n",
       "        vertical-align: middle;\n",
       "    }\n",
       "\n",
       "    .dataframe tbody tr th {\n",
       "        vertical-align: top;\n",
       "    }\n",
       "\n",
       "    .dataframe thead th {\n",
       "        text-align: right;\n",
       "    }\n",
       "</style>\n",
       "<table border=\"1\" class=\"dataframe\">\n",
       "  <thead>\n",
       "    <tr style=\"text-align: right;\">\n",
       "      <th></th>\n",
       "      <th>indices</th>\n",
       "      <th>eps=0.9</th>\n",
       "      <th>eps=0.95</th>\n",
       "      <th>eps=0.98</th>\n",
       "    </tr>\n",
       "  </thead>\n",
       "  <tbody>\n",
       "    <tr>\n",
       "      <th>0</th>\n",
       "      <td>17</td>\n",
       "      <td>False</td>\n",
       "      <td>False</td>\n",
       "      <td>False</td>\n",
       "    </tr>\n",
       "    <tr>\n",
       "      <th>1</th>\n",
       "      <td>23</td>\n",
       "      <td>True</td>\n",
       "      <td>True</td>\n",
       "      <td>True</td>\n",
       "    </tr>\n",
       "    <tr>\n",
       "      <th>2</th>\n",
       "      <td>1</td>\n",
       "      <td>True</td>\n",
       "      <td>True</td>\n",
       "      <td>True</td>\n",
       "    </tr>\n",
       "    <tr>\n",
       "      <th>3</th>\n",
       "      <td>13</td>\n",
       "      <td>True</td>\n",
       "      <td>True</td>\n",
       "      <td>True</td>\n",
       "    </tr>\n",
       "    <tr>\n",
       "      <th>4</th>\n",
       "      <td>29</td>\n",
       "      <td>True</td>\n",
       "      <td>True</td>\n",
       "      <td>True</td>\n",
       "    </tr>\n",
       "    <tr>\n",
       "      <th>5</th>\n",
       "      <td>11</td>\n",
       "      <td>True</td>\n",
       "      <td>True</td>\n",
       "      <td>True</td>\n",
       "    </tr>\n",
       "    <tr>\n",
       "      <th>6</th>\n",
       "      <td>7</td>\n",
       "      <td>True</td>\n",
       "      <td>True</td>\n",
       "      <td>True</td>\n",
       "    </tr>\n",
       "    <tr>\n",
       "      <th>7</th>\n",
       "      <td>9</td>\n",
       "      <td>True</td>\n",
       "      <td>True</td>\n",
       "      <td>True</td>\n",
       "    </tr>\n",
       "    <tr>\n",
       "      <th>8</th>\n",
       "      <td>27</td>\n",
       "      <td>True</td>\n",
       "      <td>True</td>\n",
       "      <td>True</td>\n",
       "    </tr>\n",
       "    <tr>\n",
       "      <th>9</th>\n",
       "      <td>12</td>\n",
       "      <td>True</td>\n",
       "      <td>True</td>\n",
       "      <td>True</td>\n",
       "    </tr>\n",
       "    <tr>\n",
       "      <th>10</th>\n",
       "      <td>10</td>\n",
       "      <td>True</td>\n",
       "      <td>True</td>\n",
       "      <td>True</td>\n",
       "    </tr>\n",
       "    <tr>\n",
       "      <th>11</th>\n",
       "      <td>8</td>\n",
       "      <td>True</td>\n",
       "      <td>True</td>\n",
       "      <td>True</td>\n",
       "    </tr>\n",
       "    <tr>\n",
       "      <th>12</th>\n",
       "      <td>3</td>\n",
       "      <td>True</td>\n",
       "      <td>True</td>\n",
       "      <td>True</td>\n",
       "    </tr>\n",
       "    <tr>\n",
       "      <th>13</th>\n",
       "      <td>15</td>\n",
       "      <td>True</td>\n",
       "      <td>True</td>\n",
       "      <td>True</td>\n",
       "    </tr>\n",
       "    <tr>\n",
       "      <th>14</th>\n",
       "      <td>21</td>\n",
       "      <td>True</td>\n",
       "      <td>True</td>\n",
       "      <td>True</td>\n",
       "    </tr>\n",
       "    <tr>\n",
       "      <th>15</th>\n",
       "      <td>16</td>\n",
       "      <td>True</td>\n",
       "      <td>True</td>\n",
       "      <td>True</td>\n",
       "    </tr>\n",
       "    <tr>\n",
       "      <th>16</th>\n",
       "      <td>30</td>\n",
       "      <td>True</td>\n",
       "      <td>True</td>\n",
       "      <td>True</td>\n",
       "    </tr>\n",
       "    <tr>\n",
       "      <th>17</th>\n",
       "      <td>18</td>\n",
       "      <td>True</td>\n",
       "      <td>True</td>\n",
       "      <td>True</td>\n",
       "    </tr>\n",
       "    <tr>\n",
       "      <th>18</th>\n",
       "      <td>6</td>\n",
       "      <td>True</td>\n",
       "      <td>True</td>\n",
       "      <td>True</td>\n",
       "    </tr>\n",
       "    <tr>\n",
       "      <th>19</th>\n",
       "      <td>20</td>\n",
       "      <td>True</td>\n",
       "      <td>True</td>\n",
       "      <td>True</td>\n",
       "    </tr>\n",
       "    <tr>\n",
       "      <th>20</th>\n",
       "      <td>0</td>\n",
       "      <td>True</td>\n",
       "      <td>True</td>\n",
       "      <td>True</td>\n",
       "    </tr>\n",
       "    <tr>\n",
       "      <th>21</th>\n",
       "      <td>22</td>\n",
       "      <td>True</td>\n",
       "      <td>True</td>\n",
       "      <td>True</td>\n",
       "    </tr>\n",
       "    <tr>\n",
       "      <th>22</th>\n",
       "      <td>26</td>\n",
       "      <td>True</td>\n",
       "      <td>True</td>\n",
       "      <td>True</td>\n",
       "    </tr>\n",
       "    <tr>\n",
       "      <th>23</th>\n",
       "      <td>14</td>\n",
       "      <td>True</td>\n",
       "      <td>True</td>\n",
       "      <td>True</td>\n",
       "    </tr>\n",
       "    <tr>\n",
       "      <th>24</th>\n",
       "      <td>28</td>\n",
       "      <td>True</td>\n",
       "      <td>True</td>\n",
       "      <td>True</td>\n",
       "    </tr>\n",
       "    <tr>\n",
       "      <th>25</th>\n",
       "      <td>19</td>\n",
       "      <td>True</td>\n",
       "      <td>True</td>\n",
       "      <td>True</td>\n",
       "    </tr>\n",
       "    <tr>\n",
       "      <th>26</th>\n",
       "      <td>4</td>\n",
       "      <td>True</td>\n",
       "      <td>True</td>\n",
       "      <td>True</td>\n",
       "    </tr>\n",
       "    <tr>\n",
       "      <th>27</th>\n",
       "      <td>2</td>\n",
       "      <td>True</td>\n",
       "      <td>True</td>\n",
       "      <td>True</td>\n",
       "    </tr>\n",
       "    <tr>\n",
       "      <th>28</th>\n",
       "      <td>25</td>\n",
       "      <td>True</td>\n",
       "      <td>True</td>\n",
       "      <td>True</td>\n",
       "    </tr>\n",
       "    <tr>\n",
       "      <th>29</th>\n",
       "      <td>31</td>\n",
       "      <td>True</td>\n",
       "      <td>True</td>\n",
       "      <td>True</td>\n",
       "    </tr>\n",
       "    <tr>\n",
       "      <th>30</th>\n",
       "      <td>5</td>\n",
       "      <td>True</td>\n",
       "      <td>True</td>\n",
       "      <td>True</td>\n",
       "    </tr>\n",
       "    <tr>\n",
       "      <th>31</th>\n",
       "      <td>24</td>\n",
       "      <td>True</td>\n",
       "      <td>True</td>\n",
       "      <td>True</td>\n",
       "    </tr>\n",
       "  </tbody>\n",
       "</table>\n",
       "</div>"
      ],
      "text/plain": [
       "    indices  eps=0.9  eps=0.95  eps=0.98\n",
       "0        17    False     False     False\n",
       "1        23     True      True      True\n",
       "2         1     True      True      True\n",
       "3        13     True      True      True\n",
       "4        29     True      True      True\n",
       "5        11     True      True      True\n",
       "6         7     True      True      True\n",
       "7         9     True      True      True\n",
       "8        27     True      True      True\n",
       "9        12     True      True      True\n",
       "10       10     True      True      True\n",
       "11        8     True      True      True\n",
       "12        3     True      True      True\n",
       "13       15     True      True      True\n",
       "14       21     True      True      True\n",
       "15       16     True      True      True\n",
       "16       30     True      True      True\n",
       "17       18     True      True      True\n",
       "18        6     True      True      True\n",
       "19       20     True      True      True\n",
       "20        0     True      True      True\n",
       "21       22     True      True      True\n",
       "22       26     True      True      True\n",
       "23       14     True      True      True\n",
       "24       28     True      True      True\n",
       "25       19     True      True      True\n",
       "26        4     True      True      True\n",
       "27        2     True      True      True\n",
       "28       25     True      True      True\n",
       "29       31     True      True      True\n",
       "30        5     True      True      True\n",
       "31       24     True      True      True"
      ]
     },
     "execution_count": 72,
     "metadata": {},
     "output_type": "execute_result"
    }
   ],
   "source": [
    "c_4_to_remove"
   ]
  },
  {
   "cell_type": "code",
   "execution_count": 77,
   "id": "7fc3e7ae-6f28-4808-b6c4-a7afca0a718d",
   "metadata": {},
   "outputs": [
    {
     "data": {
      "text/plain": [
       "'Write a function in JavaScript that takes in a string and returns its length.'"
      ]
     },
     "execution_count": 77,
     "metadata": {},
     "output_type": "execute_result"
    }
   ],
   "source": [
    "df.iloc[int(scluster_4[17][0])].instruction"
   ]
  },
  {
   "cell_type": "code",
   "execution_count": 78,
   "id": "3c1c34cb-3f92-4d68-aa11-ad922ce445ba",
   "metadata": {},
   "outputs": [],
   "source": [
    "# running extraction"
   ]
  },
  {
   "cell_type": "code",
   "execution_count": 79,
   "id": "61f6eb06-bfd8-4abf-867f-a09c0ed3baba",
   "metadata": {},
   "outputs": [
    {
     "data": {
      "text/plain": [
       "8.0"
      ]
     },
     "execution_count": 79,
     "metadata": {},
     "output_type": "execute_result"
    }
   ],
   "source": [
    "scluster_4[17][0]"
   ]
  },
  {
   "cell_type": "code",
   "execution_count": null,
   "id": "7b5bfd44-ac8a-4f49-a3c1-3694714902cb",
   "metadata": {},
   "outputs": [],
   "source": []
  }
 ],
 "metadata": {
  "kernelspec": {
   "display_name": "Python 3 (ipykernel)",
   "language": "python",
   "name": "python3"
  },
  "language_info": {
   "codemirror_mode": {
    "name": "ipython",
    "version": 3
   },
   "file_extension": ".py",
   "mimetype": "text/x-python",
   "name": "python",
   "nbconvert_exporter": "python",
   "pygments_lexer": "ipython3",
   "version": "3.10.12"
  }
 },
 "nbformat": 4,
 "nbformat_minor": 5
}
